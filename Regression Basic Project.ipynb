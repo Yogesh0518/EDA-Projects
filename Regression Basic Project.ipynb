{
 "cells": [
  {
   "cell_type": "markdown",
   "id": "176e5535",
   "metadata": {},
   "source": [
    "# PREDICTION USING SUPERVISED ML"
   ]
  },
  {
   "cell_type": "markdown",
   "id": "5e96c5d6",
   "metadata": {},
   "source": [
    "#### Author: Yogesh S\n",
    "#### Date: 10/06/2023"
   ]
  },
  {
   "cell_type": "markdown",
   "id": "42e37d7a",
   "metadata": {},
   "source": [
    "## OBJECTIVE: Predict the percentage of a student based on number of study hours"
   ]
  },
  {
   "cell_type": "markdown",
   "id": "b168f096",
   "metadata": {},
   "source": [
    "### Step 1: Import the libraries rquired"
   ]
  },
  {
   "cell_type": "code",
   "execution_count": 7,
   "id": "7da6ace5",
   "metadata": {},
   "outputs": [],
   "source": [
    "import matplotlib.pyplot as plt\n",
    "import pandas as pd\n",
    "import numpy as np  "
   ]
  },
  {
   "cell_type": "markdown",
   "id": "0aa92111",
   "metadata": {},
   "source": [
    "### Step 2: Read the dataset"
   ]
  },
  {
   "cell_type": "code",
   "execution_count": 8,
   "id": "2262ffd6",
   "metadata": {
    "scrolled": true
   },
   "outputs": [
    {
     "name": "stdout",
     "output_type": "stream",
     "text": [
      "Data file imported\n"
     ]
    },
    {
     "data": {
      "text/html": [
       "<div>\n",
       "<style scoped>\n",
       "    .dataframe tbody tr th:only-of-type {\n",
       "        vertical-align: middle;\n",
       "    }\n",
       "\n",
       "    .dataframe tbody tr th {\n",
       "        vertical-align: top;\n",
       "    }\n",
       "\n",
       "    .dataframe thead th {\n",
       "        text-align: right;\n",
       "    }\n",
       "</style>\n",
       "<table border=\"1\" class=\"dataframe\">\n",
       "  <thead>\n",
       "    <tr style=\"text-align: right;\">\n",
       "      <th></th>\n",
       "      <th>Hours</th>\n",
       "      <th>Scores</th>\n",
       "    </tr>\n",
       "  </thead>\n",
       "  <tbody>\n",
       "    <tr>\n",
       "      <th>0</th>\n",
       "      <td>2.5</td>\n",
       "      <td>21</td>\n",
       "    </tr>\n",
       "    <tr>\n",
       "      <th>1</th>\n",
       "      <td>5.1</td>\n",
       "      <td>47</td>\n",
       "    </tr>\n",
       "    <tr>\n",
       "      <th>2</th>\n",
       "      <td>3.2</td>\n",
       "      <td>27</td>\n",
       "    </tr>\n",
       "    <tr>\n",
       "      <th>3</th>\n",
       "      <td>8.5</td>\n",
       "      <td>75</td>\n",
       "    </tr>\n",
       "    <tr>\n",
       "      <th>4</th>\n",
       "      <td>3.5</td>\n",
       "      <td>30</td>\n",
       "    </tr>\n",
       "    <tr>\n",
       "      <th>5</th>\n",
       "      <td>1.5</td>\n",
       "      <td>20</td>\n",
       "    </tr>\n",
       "    <tr>\n",
       "      <th>6</th>\n",
       "      <td>9.2</td>\n",
       "      <td>88</td>\n",
       "    </tr>\n",
       "    <tr>\n",
       "      <th>7</th>\n",
       "      <td>5.5</td>\n",
       "      <td>60</td>\n",
       "    </tr>\n",
       "    <tr>\n",
       "      <th>8</th>\n",
       "      <td>8.3</td>\n",
       "      <td>81</td>\n",
       "    </tr>\n",
       "    <tr>\n",
       "      <th>9</th>\n",
       "      <td>2.7</td>\n",
       "      <td>25</td>\n",
       "    </tr>\n",
       "  </tbody>\n",
       "</table>\n",
       "</div>"
      ],
      "text/plain": [
       "   Hours  Scores\n",
       "0    2.5      21\n",
       "1    5.1      47\n",
       "2    3.2      27\n",
       "3    8.5      75\n",
       "4    3.5      30\n",
       "5    1.5      20\n",
       "6    9.2      88\n",
       "7    5.5      60\n",
       "8    8.3      81\n",
       "9    2.7      25"
      ]
     },
     "execution_count": 8,
     "metadata": {},
     "output_type": "execute_result"
    }
   ],
   "source": [
    "source = \"http://bit.ly/w-data\"\n",
    "data = pd.read_csv(source)\n",
    "print(\"Data file imported\")\n",
    "data.head(10)\n"
   ]
  },
  {
   "cell_type": "markdown",
   "id": "2606f51d",
   "metadata": {},
   "source": [
    "### Step 3: Check for missing values"
   ]
  },
  {
   "cell_type": "code",
   "execution_count": 11,
   "id": "4d989c3f",
   "metadata": {
    "scrolled": true
   },
   "outputs": [
    {
     "data": {
      "text/plain": [
       "False"
      ]
     },
     "execution_count": 11,
     "metadata": {},
     "output_type": "execute_result"
    }
   ],
   "source": [
    "data.isnull==True"
   ]
  },
  {
   "cell_type": "markdown",
   "id": "f9e92dc3",
   "metadata": {},
   "source": [
    "#### No missing values were found. Therefore we can move to the next step."
   ]
  },
  {
   "cell_type": "markdown",
   "id": "f9ca699d",
   "metadata": {},
   "source": [
    "### Step 4: Data Visualization"
   ]
  },
  {
   "cell_type": "code",
   "execution_count": 12,
   "id": "ce411f43",
   "metadata": {
    "scrolled": false
   },
   "outputs": [
    {
     "data": {
      "text/plain": [
       "<Axes: title={'center': 'Hours vs Score'}, xlabel='HOURS STUDIED', ylabel='PERCENTAGE SCORED'>"
      ]
     },
     "execution_count": 12,
     "metadata": {},
     "output_type": "execute_result"
    },
    {
     "data": {
      "image/png": "[encoded data removed]",
      "text/plain": [
       "<Figure size 640x480 with 1 Axes>"
      ]
     },
     "metadata": {},
     "output_type": "display_data"
    }
   ],
   "source": [
    "data.plot(x='Hours',y='Scores',xlabel='HOURS STUDIED',ylabel='PERCENTAGE SCORED',title='Hours vs Score',style='o')\n"
   ]
  },
  {
   "cell_type": "markdown",
   "id": "76e0c8a1",
   "metadata": {},
   "source": [
    "### Step 5: Training the model"
   ]
  },
  {
   "cell_type": "code",
   "execution_count": 13,
   "id": "4d610fa2",
   "metadata": {},
   "outputs": [
    {
     "name": "stdout",
     "output_type": "stream",
     "text": [
      "[[2.5]\n",
      " [5.1]\n",
      " [3.2]\n",
      " [8.5]\n",
      " [3.5]\n",
      " [1.5]\n",
      " [9.2]\n",
      " [5.5]\n",
      " [8.3]\n",
      " [2.7]\n",
      " [7.7]\n",
      " [5.9]\n",
      " [4.5]\n",
      " [3.3]\n",
      " [1.1]\n",
      " [8.9]\n",
      " [2.5]\n",
      " [1.9]\n",
      " [6.1]\n",
      " [7.4]\n",
      " [2.7]\n",
      " [4.8]\n",
      " [3.8]\n",
      " [6.9]\n",
      " [7.8]]\n",
      "[[21]\n",
      " [47]\n",
      " [27]\n",
      " [75]\n",
      " [30]\n",
      " [20]\n",
      " [88]\n",
      " [60]\n",
      " [81]\n",
      " [25]\n",
      " [85]\n",
      " [62]\n",
      " [41]\n",
      " [42]\n",
      " [17]\n",
      " [95]\n",
      " [30]\n",
      " [24]\n",
      " [67]\n",
      " [69]\n",
      " [30]\n",
      " [54]\n",
      " [35]\n",
      " [76]\n",
      " [86]]\n"
     ]
    }
   ],
   "source": [
    "x=data.Hours.values.reshape(-1,1)\n",
    "y=data.Scores.values.reshape(-1,1)\n",
    "print(x)\n",
    "print(y)"
   ]
  },
  {
   "cell_type": "markdown",
   "id": "373d98ae",
   "metadata": {},
   "source": [
    "#### Let us split the data into training values and test values"
   ]
  },
  {
   "cell_type": "code",
   "execution_count": 15,
   "id": "72806325",
   "metadata": {},
   "outputs": [],
   "source": [
    "from sklearn.model_selection import train_test_split  \n",
    "x_train, x_test, y_train, y_test = train_test_split(x, y, \n",
    "                            test_size=0.2, random_state=0)  "
   ]
  },
  {
   "cell_type": "markdown",
   "id": "5a3698fd",
   "metadata": {},
   "source": [
    "### Step 6: Fitting data into model"
   ]
  },
  {
   "cell_type": "code",
   "execution_count": 36,
   "id": "e4453a1f",
   "metadata": {
    "scrolled": true
   },
   "outputs": [
    {
     "name": "stdout",
     "output_type": "stream",
     "text": [
      "The model has been successfully trained.\n"
     ]
    }
   ],
   "source": [
    "from sklearn.linear_model import LinearRegression  \n",
    "regressor = LinearRegression()  \n",
    "regressor.fit(x_train, y_train) \n",
    "\n",
    "print(\"The model has been successfully trained.\")"
   ]
  },
  {
   "cell_type": "markdown",
   "id": "0adcf01b",
   "metadata": {},
   "source": [
    "### Step 7: Plotting the data using linear regression"
   ]
  },
  {
   "cell_type": "code",
   "execution_count": 37,
   "id": "2cc32653",
   "metadata": {
    "scrolled": false
   },
   "outputs": [
    {
     "data": {
      "image/png": "[encoded data removed]",
      "text/plain": [
       "<Figure size 640x480 with 1 Axes>"
      ]
     },
     "metadata": {},
     "output_type": "display_data"
    }
   ],
   "source": [
    "line = regressor.coef_*x+regressor.intercept_\n",
    "plt.scatter(x, y)\n",
    "plt.plot(x, line);\n",
    "plt.title(\"Linear Regression\")\n",
    "plt.show()"
   ]
  },
  {
   "cell_type": "markdown",
   "id": "a4d98340",
   "metadata": {},
   "source": [
    "### Step 8: Forming a table using actual and predicted values"
   ]
  },
  {
   "cell_type": "code",
   "execution_count": 38,
   "id": "a6111335",
   "metadata": {
    "scrolled": true
   },
   "outputs": [],
   "source": [
    "y_pred = regressor.predict(x_test)\n",
    "y_1= pd.DataFrame(y_pred,columns=['Predicted'])\n",
    "y_2= pd.DataFrame(y_test,columns=['Actual'])"
   ]
  },
  {
   "cell_type": "code",
   "execution_count": 39,
   "id": "47a13b14",
   "metadata": {
    "scrolled": true
   },
   "outputs": [
    {
     "data": {
      "text/html": [
       "<div>\n",
       "<style scoped>\n",
       "    .dataframe tbody tr th:only-of-type {\n",
       "        vertical-align: middle;\n",
       "    }\n",
       "\n",
       "    .dataframe tbody tr th {\n",
       "        vertical-align: top;\n",
       "    }\n",
       "\n",
       "    .dataframe thead th {\n",
       "        text-align: right;\n",
       "    }\n",
       "</style>\n",
       "<table border=\"1\" class=\"dataframe\">\n",
       "  <thead>\n",
       "    <tr style=\"text-align: right;\">\n",
       "      <th></th>\n",
       "      <th>Actual</th>\n",
       "      <th>Predicted</th>\n",
       "    </tr>\n",
       "  </thead>\n",
       "  <tbody>\n",
       "    <tr>\n",
       "      <th>0</th>\n",
       "      <td>20</td>\n",
       "      <td>16.884145</td>\n",
       "    </tr>\n",
       "    <tr>\n",
       "      <th>1</th>\n",
       "      <td>27</td>\n",
       "      <td>33.732261</td>\n",
       "    </tr>\n",
       "    <tr>\n",
       "      <th>2</th>\n",
       "      <td>69</td>\n",
       "      <td>75.357018</td>\n",
       "    </tr>\n",
       "    <tr>\n",
       "      <th>3</th>\n",
       "      <td>30</td>\n",
       "      <td>26.794801</td>\n",
       "    </tr>\n",
       "    <tr>\n",
       "      <th>4</th>\n",
       "      <td>62</td>\n",
       "      <td>60.491033</td>\n",
       "    </tr>\n",
       "  </tbody>\n",
       "</table>\n",
       "</div>"
      ],
      "text/plain": [
       "   Actual  Predicted\n",
       "0      20  16.884145\n",
       "1      27  33.732261\n",
       "2      69  75.357018\n",
       "3      30  26.794801\n",
       "4      62  60.491033"
      ]
     },
     "metadata": {},
     "output_type": "display_data"
    }
   ],
   "source": [
    "variables=[y_2,y_1]\n",
    "table=pd.concat(variables,axis=1)\n",
    "display(table)"
   ]
  },
  {
   "cell_type": "markdown",
   "id": "e57c4ea5",
   "metadata": {},
   "source": [
    "### Step 9: Predicting percentage scored using own data\n",
    "\n",
    "#### Now that the model is ready, we can input our own data and gather a prediction."
   ]
  },
  {
   "cell_type": "code",
   "execution_count": 43,
   "id": "25478ebe",
   "metadata": {
    "scrolled": false
   },
   "outputs": [
    {
     "name": "stdout",
     "output_type": "stream",
     "text": [
      "Score: [[81.30341189]]\n"
     ]
    }
   ],
   "source": [
    "owndata=np.array([[8]])\n",
    "pred=regressor.predict(owndata)\n",
    "print(\"Score:\",pred)"
   ]
  },
  {
   "cell_type": "markdown",
   "id": "e69883d9",
   "metadata": {},
   "source": [
    "#### We have entered user input of study hours = 8.\n",
    "#### The model predicted the score using linear regression.\n",
    "<br>"
   ]
  },
  {
   "cell_type": "markdown",
   "id": "fb1340fa",
   "metadata": {},
   "source": [
    "### Step 10: Calculate Mean Squared Error and Mean Absolute Error"
   ]
  },
  {
   "cell_type": "code",
   "execution_count": 44,
   "id": "565d0fca",
   "metadata": {},
   "outputs": [
    {
     "name": "stdout",
     "output_type": "stream",
     "text": [
      "21.5987693072174\n"
     ]
    }
   ],
   "source": [
    "from sklearn.metrics import mean_squared_error\n",
    "error = mean_squared_error(table['Actual'], table['Predicted'])\n",
    "print(error)"
   ]
  },
  {
   "cell_type": "code",
   "execution_count": 45,
   "id": "4c41d6af",
   "metadata": {
    "scrolled": true
   },
   "outputs": [
    {
     "name": "stdout",
     "output_type": "stream",
     "text": [
      "The mean absolute error is: 4.183859899002975\n"
     ]
    }
   ],
   "source": [
    "from sklearn import metrics  \n",
    "print('The mean absolute error is:', \n",
    "      metrics.mean_absolute_error(y_test, ypred)) "
   ]
  },
  {
   "cell_type": "markdown",
   "id": "3370fc88",
   "metadata": {},
   "source": [
    "## Result:\n",
    "#### We have successfully built a linear regression model to predict student score based on no. of study hours. "
   ]
  }
 ],
 "metadata": {
  "kernelspec": {
   "display_name": "Python 3 (ipykernel)",
   "language": "python",
   "name": "python3"
  },
  "language_info": {
   "codemirror_mode": {
    "name": "ipython",
    "version": 3
   },
   "file_extension": ".py",
   "mimetype": "text/x-python",
   "name": "python",
   "nbconvert_exporter": "python",
   "pygments_lexer": "ipython3",
   "version": "3.10.9"
  }
 },
 "nbformat": 4,
 "nbformat_minor": 5
}
