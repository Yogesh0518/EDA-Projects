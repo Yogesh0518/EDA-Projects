{
 "cells": [
  {
   "cell_type": "markdown",
   "id": "6e896d9a",
   "metadata": {},
   "source": [
    "# VITAL FOOD COSTS"
   ]
  },
  {
   "cell_type": "markdown",
   "id": "6623a407",
   "metadata": {},
   "source": [
    "### IMPORTING DATASET"
   ]
  },
  {
   "cell_type": "markdown",
   "id": "c824c3f6",
   "metadata": {},
   "source": [
    "##### Importing and selecting necessary columns"
   ]
  },
  {
   "cell_type": "code",
   "execution_count": 685,
   "id": "bab1bfd6",
   "metadata": {},
   "outputs": [
    {
     "data": {
      "text/html": [
       "<div>\n",
       "<style scoped>\n",
       "    .dataframe tbody tr th:only-of-type {\n",
       "        vertical-align: middle;\n",
       "    }\n",
       "\n",
       "    .dataframe tbody tr th {\n",
       "        vertical-align: top;\n",
       "    }\n",
       "\n",
       "    .dataframe thead th {\n",
       "        text-align: right;\n",
       "    }\n",
       "</style>\n",
       "<table border=\"1\" class=\"dataframe\">\n",
       "  <thead>\n",
       "    <tr style=\"text-align: right;\">\n",
       "      <th></th>\n",
       "      <th>Country</th>\n",
       "      <th>Year</th>\n",
       "      <th>Month</th>\n",
       "      <th>Food Item</th>\n",
       "      <th>Price in USD</th>\n",
       "      <th>Quality</th>\n",
       "    </tr>\n",
       "  </thead>\n",
       "  <tbody>\n",
       "    <tr>\n",
       "      <th>0</th>\n",
       "      <td>Australia</td>\n",
       "      <td>2018</td>\n",
       "      <td>1</td>\n",
       "      <td>Bread</td>\n",
       "      <td>1.47</td>\n",
       "      <td>High</td>\n",
       "    </tr>\n",
       "    <tr>\n",
       "      <th>1</th>\n",
       "      <td>Australia</td>\n",
       "      <td>2018</td>\n",
       "      <td>2</td>\n",
       "      <td>Bread</td>\n",
       "      <td>1.48</td>\n",
       "      <td>High</td>\n",
       "    </tr>\n",
       "    <tr>\n",
       "      <th>2</th>\n",
       "      <td>Australia</td>\n",
       "      <td>2018</td>\n",
       "      <td>3</td>\n",
       "      <td>Bread</td>\n",
       "      <td>1.48</td>\n",
       "      <td>High</td>\n",
       "    </tr>\n",
       "    <tr>\n",
       "      <th>3</th>\n",
       "      <td>Australia</td>\n",
       "      <td>2018</td>\n",
       "      <td>4</td>\n",
       "      <td>Bread</td>\n",
       "      <td>1.48</td>\n",
       "      <td>High</td>\n",
       "    </tr>\n",
       "    <tr>\n",
       "      <th>4</th>\n",
       "      <td>Australia</td>\n",
       "      <td>2018</td>\n",
       "      <td>5</td>\n",
       "      <td>Bread</td>\n",
       "      <td>1.48</td>\n",
       "      <td>High</td>\n",
       "    </tr>\n",
       "  </tbody>\n",
       "</table>\n",
       "</div>"
      ],
      "text/plain": [
       "    Country   Year   Month  Food Item   Price in USD Quality \n",
       "0  Australia   2018       1      Bread          1.47     High\n",
       "1  Australia   2018       2      Bread          1.48     High\n",
       "2  Australia   2018       3      Bread          1.48     High\n",
       "3  Australia   2018       4      Bread          1.48     High\n",
       "4  Australia   2018       5      Bread          1.48     High"
      ]
     },
     "execution_count": 685,
     "metadata": {},
     "output_type": "execute_result"
    }
   ],
   "source": [
    "import pandas as pd\n",
    "df = pd.read_csv(r'C:\\Users\\Leechita G\\Desktop\\leems\\INTERN June 2023\\PAPER PRESENTATION\\PRICE OF EACH PRODUCT IN COUNTRIES\\Food Prices.csv')\n",
    "df.drop(df.columns[[4,5,6,8]], axis=1,inplace=True)\n",
    "df.head()"
   ]
  },
  {
   "cell_type": "code",
   "execution_count": 686,
   "id": "8e265c88",
   "metadata": {},
   "outputs": [
    {
     "name": "stdout",
     "output_type": "stream",
     "text": [
      "<class 'pandas.core.frame.DataFrame'>\n",
      "RangeIndex: 1200 entries, 0 to 1199\n",
      "Data columns (total 6 columns):\n",
      " #   Column        Non-Null Count  Dtype  \n",
      "---  ------        --------------  -----  \n",
      " 0   Country       1200 non-null   object \n",
      " 1   Year          1200 non-null   int64  \n",
      " 2   Month         1200 non-null   int64  \n",
      " 3   Food Item     1200 non-null   object \n",
      " 4   Price in USD  1200 non-null   float64\n",
      " 5   Quality       1200 non-null   object \n",
      "dtypes: float64(1), int64(2), object(3)\n",
      "memory usage: 56.4+ KB\n"
     ]
    }
   ],
   "source": [
    "df.info()"
   ]
  },
  {
   "cell_type": "markdown",
   "id": "1f9b3073",
   "metadata": {},
   "source": [
    "##### Renaming columns for easier access"
   ]
  },
  {
   "cell_type": "code",
   "execution_count": 687,
   "id": "3df4e5da",
   "metadata": {},
   "outputs": [
    {
     "data": {
      "text/html": [
       "<div>\n",
       "<style scoped>\n",
       "    .dataframe tbody tr th:only-of-type {\n",
       "        vertical-align: middle;\n",
       "    }\n",
       "\n",
       "    .dataframe tbody tr th {\n",
       "        vertical-align: top;\n",
       "    }\n",
       "\n",
       "    .dataframe thead th {\n",
       "        text-align: right;\n",
       "    }\n",
       "</style>\n",
       "<table border=\"1\" class=\"dataframe\">\n",
       "  <thead>\n",
       "    <tr style=\"text-align: right;\">\n",
       "      <th></th>\n",
       "      <th>ctry</th>\n",
       "      <th>yr</th>\n",
       "      <th>mth</th>\n",
       "      <th>food_item</th>\n",
       "      <th>Price(USD)</th>\n",
       "      <th>qlt</th>\n",
       "    </tr>\n",
       "  </thead>\n",
       "  <tbody>\n",
       "    <tr>\n",
       "      <th>0</th>\n",
       "      <td>Australia</td>\n",
       "      <td>2018</td>\n",
       "      <td>1</td>\n",
       "      <td>Bread</td>\n",
       "      <td>1.47</td>\n",
       "      <td>High</td>\n",
       "    </tr>\n",
       "    <tr>\n",
       "      <th>1</th>\n",
       "      <td>Australia</td>\n",
       "      <td>2018</td>\n",
       "      <td>2</td>\n",
       "      <td>Bread</td>\n",
       "      <td>1.48</td>\n",
       "      <td>High</td>\n",
       "    </tr>\n",
       "    <tr>\n",
       "      <th>2</th>\n",
       "      <td>Australia</td>\n",
       "      <td>2018</td>\n",
       "      <td>3</td>\n",
       "      <td>Bread</td>\n",
       "      <td>1.48</td>\n",
       "      <td>High</td>\n",
       "    </tr>\n",
       "    <tr>\n",
       "      <th>3</th>\n",
       "      <td>Australia</td>\n",
       "      <td>2018</td>\n",
       "      <td>4</td>\n",
       "      <td>Bread</td>\n",
       "      <td>1.48</td>\n",
       "      <td>High</td>\n",
       "    </tr>\n",
       "    <tr>\n",
       "      <th>4</th>\n",
       "      <td>Australia</td>\n",
       "      <td>2018</td>\n",
       "      <td>5</td>\n",
       "      <td>Bread</td>\n",
       "      <td>1.48</td>\n",
       "      <td>High</td>\n",
       "    </tr>\n",
       "    <tr>\n",
       "      <th>...</th>\n",
       "      <td>...</td>\n",
       "      <td>...</td>\n",
       "      <td>...</td>\n",
       "      <td>...</td>\n",
       "      <td>...</td>\n",
       "      <td>...</td>\n",
       "    </tr>\n",
       "    <tr>\n",
       "      <th>1195</th>\n",
       "      <td>Canada</td>\n",
       "      <td>2022</td>\n",
       "      <td>8</td>\n",
       "      <td>Potatoes</td>\n",
       "      <td>2.41</td>\n",
       "      <td>High</td>\n",
       "    </tr>\n",
       "    <tr>\n",
       "      <th>1196</th>\n",
       "      <td>Canada</td>\n",
       "      <td>2022</td>\n",
       "      <td>9</td>\n",
       "      <td>Potatoes</td>\n",
       "      <td>2.42</td>\n",
       "      <td>High</td>\n",
       "    </tr>\n",
       "    <tr>\n",
       "      <th>1197</th>\n",
       "      <td>Canada</td>\n",
       "      <td>2022</td>\n",
       "      <td>10</td>\n",
       "      <td>Potatoes</td>\n",
       "      <td>2.43</td>\n",
       "      <td>High</td>\n",
       "    </tr>\n",
       "    <tr>\n",
       "      <th>1198</th>\n",
       "      <td>Canada</td>\n",
       "      <td>2022</td>\n",
       "      <td>11</td>\n",
       "      <td>Potatoes</td>\n",
       "      <td>2.44</td>\n",
       "      <td>High</td>\n",
       "    </tr>\n",
       "    <tr>\n",
       "      <th>1199</th>\n",
       "      <td>Canada</td>\n",
       "      <td>2022</td>\n",
       "      <td>12</td>\n",
       "      <td>Potatoes</td>\n",
       "      <td>2.45</td>\n",
       "      <td>High</td>\n",
       "    </tr>\n",
       "  </tbody>\n",
       "</table>\n",
       "<p>1200 rows × 6 columns</p>\n",
       "</div>"
      ],
      "text/plain": [
       "           ctry    yr  mth food_item  Price(USD)   qlt\n",
       "0     Australia  2018    1     Bread        1.47  High\n",
       "1     Australia  2018    2     Bread        1.48  High\n",
       "2     Australia  2018    3     Bread        1.48  High\n",
       "3     Australia  2018    4     Bread        1.48  High\n",
       "4     Australia  2018    5     Bread        1.48  High\n",
       "...         ...   ...  ...       ...         ...   ...\n",
       "1195     Canada  2022    8  Potatoes        2.41  High\n",
       "1196     Canada  2022    9  Potatoes        2.42  High\n",
       "1197     Canada  2022   10  Potatoes        2.43  High\n",
       "1198     Canada  2022   11  Potatoes        2.44  High\n",
       "1199     Canada  2022   12  Potatoes        2.45  High\n",
       "\n",
       "[1200 rows x 6 columns]"
      ]
     },
     "execution_count": 687,
     "metadata": {},
     "output_type": "execute_result"
    }
   ],
   "source": [
    "df=df.rename(columns={\"Country \": \"ctry\", \"Year \": \"yr\",\"Month \":\"mth\",\"Food Item \":\"food_item\",\"Price in USD\":\"Price(USD)\", \"Quality \":\"qlt\"})\n",
    "df"
   ]
  },
  {
   "cell_type": "markdown",
   "id": "fa7ded52",
   "metadata": {},
   "source": [
    "##### Unique values"
   ]
  },
  {
   "cell_type": "code",
   "execution_count": 688,
   "id": "307e476d",
   "metadata": {},
   "outputs": [
    {
     "data": {
      "text/html": [
       "<div>\n",
       "<style scoped>\n",
       "    .dataframe tbody tr th:only-of-type {\n",
       "        vertical-align: middle;\n",
       "    }\n",
       "\n",
       "    .dataframe tbody tr th {\n",
       "        vertical-align: top;\n",
       "    }\n",
       "\n",
       "    .dataframe thead th {\n",
       "        text-align: right;\n",
       "    }\n",
       "</style>\n",
       "<table border=\"1\" class=\"dataframe\">\n",
       "  <thead>\n",
       "    <tr style=\"text-align: right;\">\n",
       "      <th></th>\n",
       "      <th>Column Name</th>\n",
       "      <th>Unique Values</th>\n",
       "    </tr>\n",
       "  </thead>\n",
       "  <tbody>\n",
       "    <tr>\n",
       "      <th>0</th>\n",
       "      <td>ctry</td>\n",
       "      <td>[Australia, Sweden, Japan, South Africa, Canada]</td>\n",
       "    </tr>\n",
       "    <tr>\n",
       "      <th>1</th>\n",
       "      <td>yr</td>\n",
       "      <td>[2018, 2019, 2020, 2021, 2022]</td>\n",
       "    </tr>\n",
       "    <tr>\n",
       "      <th>2</th>\n",
       "      <td>mth</td>\n",
       "      <td>[1, 2, 3, 4, 5, 6, 7, 8, 9, 10, 11, 12]</td>\n",
       "    </tr>\n",
       "    <tr>\n",
       "      <th>3</th>\n",
       "      <td>food_item</td>\n",
       "      <td>[Bread, Milk, Eggs, Potatoes]</td>\n",
       "    </tr>\n",
       "    <tr>\n",
       "      <th>4</th>\n",
       "      <td>Price(USD)</td>\n",
       "      <td>[1.47, 1.48, 1.49, 1.5, 1.51, 1.52, 1.53, 1.54...</td>\n",
       "    </tr>\n",
       "    <tr>\n",
       "      <th>5</th>\n",
       "      <td>qlt</td>\n",
       "      <td>[High, Medium]</td>\n",
       "    </tr>\n",
       "  </tbody>\n",
       "</table>\n",
       "</div>"
      ],
      "text/plain": [
       "  Column Name                                      Unique Values\n",
       "0        ctry   [Australia, Sweden, Japan, South Africa, Canada]\n",
       "1          yr                     [2018, 2019, 2020, 2021, 2022]\n",
       "2         mth            [1, 2, 3, 4, 5, 6, 7, 8, 9, 10, 11, 12]\n",
       "3   food_item                      [Bread, Milk, Eggs, Potatoes]\n",
       "4  Price(USD)  [1.47, 1.48, 1.49, 1.5, 1.51, 1.52, 1.53, 1.54...\n",
       "5         qlt                                     [High, Medium]"
      ]
     },
     "execution_count": 688,
     "metadata": {},
     "output_type": "execute_result"
    }
   ],
   "source": [
    "unique_values_table = pd.DataFrame(columns=['Column Name', 'Unique Values'])\n",
    "for col in df.columns:\n",
    "    unique_values = df[col].unique()\n",
    "    num_unique_values = len(unique_values)\n",
    "    unique_values_table = unique_values_table.append({'Column Name': col, 'Unique Values': unique_values}, ignore_index=True)\n",
    "unique_values_table"
   ]
  },
  {
   "cell_type": "markdown",
   "id": "adcec795",
   "metadata": {},
   "source": [
    "#### COUNTRIES"
   ]
  },
  {
   "cell_type": "code",
   "execution_count": 689,
   "id": "785183de",
   "metadata": {
    "scrolled": true
   },
   "outputs": [
    {
     "data": {
      "text/html": [
       "<div>\n",
       "<style scoped>\n",
       "    .dataframe tbody tr th:only-of-type {\n",
       "        vertical-align: middle;\n",
       "    }\n",
       "\n",
       "    .dataframe tbody tr th {\n",
       "        vertical-align: top;\n",
       "    }\n",
       "\n",
       "    .dataframe thead th {\n",
       "        text-align: right;\n",
       "    }\n",
       "</style>\n",
       "<table border=\"1\" class=\"dataframe\">\n",
       "  <thead>\n",
       "    <tr style=\"text-align: right;\">\n",
       "      <th></th>\n",
       "      <th>ctry</th>\n",
       "      <th>yr</th>\n",
       "      <th>mth</th>\n",
       "      <th>food_item</th>\n",
       "      <th>Price(USD)</th>\n",
       "      <th>qlt</th>\n",
       "    </tr>\n",
       "  </thead>\n",
       "  <tbody>\n",
       "    <tr>\n",
       "      <th>0</th>\n",
       "      <td>Australia</td>\n",
       "      <td>2018</td>\n",
       "      <td>1</td>\n",
       "      <td>0</td>\n",
       "      <td>1.47</td>\n",
       "      <td>High</td>\n",
       "    </tr>\n",
       "    <tr>\n",
       "      <th>1</th>\n",
       "      <td>Australia</td>\n",
       "      <td>2018</td>\n",
       "      <td>2</td>\n",
       "      <td>0</td>\n",
       "      <td>1.48</td>\n",
       "      <td>High</td>\n",
       "    </tr>\n",
       "    <tr>\n",
       "      <th>2</th>\n",
       "      <td>Australia</td>\n",
       "      <td>2018</td>\n",
       "      <td>3</td>\n",
       "      <td>0</td>\n",
       "      <td>1.48</td>\n",
       "      <td>High</td>\n",
       "    </tr>\n",
       "    <tr>\n",
       "      <th>3</th>\n",
       "      <td>Australia</td>\n",
       "      <td>2018</td>\n",
       "      <td>4</td>\n",
       "      <td>0</td>\n",
       "      <td>1.48</td>\n",
       "      <td>High</td>\n",
       "    </tr>\n",
       "    <tr>\n",
       "      <th>4</th>\n",
       "      <td>Australia</td>\n",
       "      <td>2018</td>\n",
       "      <td>5</td>\n",
       "      <td>0</td>\n",
       "      <td>1.48</td>\n",
       "      <td>High</td>\n",
       "    </tr>\n",
       "    <tr>\n",
       "      <th>...</th>\n",
       "      <td>...</td>\n",
       "      <td>...</td>\n",
       "      <td>...</td>\n",
       "      <td>...</td>\n",
       "      <td>...</td>\n",
       "      <td>...</td>\n",
       "    </tr>\n",
       "    <tr>\n",
       "      <th>235</th>\n",
       "      <td>Australia</td>\n",
       "      <td>2022</td>\n",
       "      <td>8</td>\n",
       "      <td>3</td>\n",
       "      <td>2.68</td>\n",
       "      <td>High</td>\n",
       "    </tr>\n",
       "    <tr>\n",
       "      <th>236</th>\n",
       "      <td>Australia</td>\n",
       "      <td>2022</td>\n",
       "      <td>9</td>\n",
       "      <td>3</td>\n",
       "      <td>2.70</td>\n",
       "      <td>High</td>\n",
       "    </tr>\n",
       "    <tr>\n",
       "      <th>237</th>\n",
       "      <td>Australia</td>\n",
       "      <td>2022</td>\n",
       "      <td>10</td>\n",
       "      <td>3</td>\n",
       "      <td>2.73</td>\n",
       "      <td>High</td>\n",
       "    </tr>\n",
       "    <tr>\n",
       "      <th>238</th>\n",
       "      <td>Australia</td>\n",
       "      <td>2022</td>\n",
       "      <td>11</td>\n",
       "      <td>3</td>\n",
       "      <td>2.75</td>\n",
       "      <td>High</td>\n",
       "    </tr>\n",
       "    <tr>\n",
       "      <th>239</th>\n",
       "      <td>Australia</td>\n",
       "      <td>2022</td>\n",
       "      <td>12</td>\n",
       "      <td>3</td>\n",
       "      <td>2.77</td>\n",
       "      <td>High</td>\n",
       "    </tr>\n",
       "  </tbody>\n",
       "</table>\n",
       "<p>240 rows × 6 columns</p>\n",
       "</div>"
      ],
      "text/plain": [
       "          ctry    yr  mth  food_item  Price(USD)   qlt\n",
       "0    Australia  2018    1          0        1.47  High\n",
       "1    Australia  2018    2          0        1.48  High\n",
       "2    Australia  2018    3          0        1.48  High\n",
       "3    Australia  2018    4          0        1.48  High\n",
       "4    Australia  2018    5          0        1.48  High\n",
       "..         ...   ...  ...        ...         ...   ...\n",
       "235  Australia  2022    8          3        2.68  High\n",
       "236  Australia  2022    9          3        2.70  High\n",
       "237  Australia  2022   10          3        2.73  High\n",
       "238  Australia  2022   11          3        2.75  High\n",
       "239  Australia  2022   12          3        2.77  High\n",
       "\n",
       "[240 rows x 6 columns]"
      ]
     },
     "execution_count": 689,
     "metadata": {},
     "output_type": "execute_result"
    }
   ],
   "source": [
    "c1=df[df[\"ctry\"] == 'Australia'] \n",
    "c1=c1.replace('Bread',0)\n",
    "c1=c1.replace('Milk',1)\n",
    "c1=c1.replace('Eggs',2)\n",
    "c1=c1.replace('Potatoes',3)\n",
    "c1"
   ]
  },
  {
   "cell_type": "code",
   "execution_count": 690,
   "id": "672f5800",
   "metadata": {},
   "outputs": [
    {
     "data": {
      "text/html": [
       "<div>\n",
       "<style scoped>\n",
       "    .dataframe tbody tr th:only-of-type {\n",
       "        vertical-align: middle;\n",
       "    }\n",
       "\n",
       "    .dataframe tbody tr th {\n",
       "        vertical-align: top;\n",
       "    }\n",
       "\n",
       "    .dataframe thead th {\n",
       "        text-align: right;\n",
       "    }\n",
       "</style>\n",
       "<table border=\"1\" class=\"dataframe\">\n",
       "  <thead>\n",
       "    <tr style=\"text-align: right;\">\n",
       "      <th></th>\n",
       "      <th>ctry</th>\n",
       "      <th>yr</th>\n",
       "      <th>mth</th>\n",
       "      <th>food_item</th>\n",
       "      <th>Price(USD)</th>\n",
       "      <th>qlt</th>\n",
       "    </tr>\n",
       "  </thead>\n",
       "  <tbody>\n",
       "    <tr>\n",
       "      <th>240</th>\n",
       "      <td>Sweden</td>\n",
       "      <td>2018</td>\n",
       "      <td>1</td>\n",
       "      <td>0</td>\n",
       "      <td>1.82</td>\n",
       "      <td>High</td>\n",
       "    </tr>\n",
       "    <tr>\n",
       "      <th>241</th>\n",
       "      <td>Sweden</td>\n",
       "      <td>2018</td>\n",
       "      <td>2</td>\n",
       "      <td>0</td>\n",
       "      <td>1.83</td>\n",
       "      <td>High</td>\n",
       "    </tr>\n",
       "    <tr>\n",
       "      <th>242</th>\n",
       "      <td>Sweden</td>\n",
       "      <td>2018</td>\n",
       "      <td>3</td>\n",
       "      <td>0</td>\n",
       "      <td>1.83</td>\n",
       "      <td>High</td>\n",
       "    </tr>\n",
       "    <tr>\n",
       "      <th>243</th>\n",
       "      <td>Sweden</td>\n",
       "      <td>2018</td>\n",
       "      <td>4</td>\n",
       "      <td>0</td>\n",
       "      <td>1.84</td>\n",
       "      <td>High</td>\n",
       "    </tr>\n",
       "    <tr>\n",
       "      <th>244</th>\n",
       "      <td>Sweden</td>\n",
       "      <td>2018</td>\n",
       "      <td>5</td>\n",
       "      <td>0</td>\n",
       "      <td>1.84</td>\n",
       "      <td>High</td>\n",
       "    </tr>\n",
       "    <tr>\n",
       "      <th>...</th>\n",
       "      <td>...</td>\n",
       "      <td>...</td>\n",
       "      <td>...</td>\n",
       "      <td>...</td>\n",
       "      <td>...</td>\n",
       "      <td>...</td>\n",
       "    </tr>\n",
       "    <tr>\n",
       "      <th>475</th>\n",
       "      <td>Sweden</td>\n",
       "      <td>2022</td>\n",
       "      <td>8</td>\n",
       "      <td>3</td>\n",
       "      <td>1.35</td>\n",
       "      <td>High</td>\n",
       "    </tr>\n",
       "    <tr>\n",
       "      <th>476</th>\n",
       "      <td>Sweden</td>\n",
       "      <td>2022</td>\n",
       "      <td>9</td>\n",
       "      <td>3</td>\n",
       "      <td>1.36</td>\n",
       "      <td>High</td>\n",
       "    </tr>\n",
       "    <tr>\n",
       "      <th>477</th>\n",
       "      <td>Sweden</td>\n",
       "      <td>2022</td>\n",
       "      <td>10</td>\n",
       "      <td>3</td>\n",
       "      <td>1.37</td>\n",
       "      <td>High</td>\n",
       "    </tr>\n",
       "    <tr>\n",
       "      <th>478</th>\n",
       "      <td>Sweden</td>\n",
       "      <td>2022</td>\n",
       "      <td>11</td>\n",
       "      <td>3</td>\n",
       "      <td>1.38</td>\n",
       "      <td>High</td>\n",
       "    </tr>\n",
       "    <tr>\n",
       "      <th>479</th>\n",
       "      <td>Sweden</td>\n",
       "      <td>2022</td>\n",
       "      <td>12</td>\n",
       "      <td>3</td>\n",
       "      <td>1.39</td>\n",
       "      <td>High</td>\n",
       "    </tr>\n",
       "  </tbody>\n",
       "</table>\n",
       "<p>240 rows × 6 columns</p>\n",
       "</div>"
      ],
      "text/plain": [
       "       ctry    yr  mth  food_item  Price(USD)   qlt\n",
       "240  Sweden  2018    1          0        1.82  High\n",
       "241  Sweden  2018    2          0        1.83  High\n",
       "242  Sweden  2018    3          0        1.83  High\n",
       "243  Sweden  2018    4          0        1.84  High\n",
       "244  Sweden  2018    5          0        1.84  High\n",
       "..      ...   ...  ...        ...         ...   ...\n",
       "475  Sweden  2022    8          3        1.35  High\n",
       "476  Sweden  2022    9          3        1.36  High\n",
       "477  Sweden  2022   10          3        1.37  High\n",
       "478  Sweden  2022   11          3        1.38  High\n",
       "479  Sweden  2022   12          3        1.39  High\n",
       "\n",
       "[240 rows x 6 columns]"
      ]
     },
     "execution_count": 690,
     "metadata": {},
     "output_type": "execute_result"
    }
   ],
   "source": [
    "c2=df[df[\"ctry\"] == 'Sweden'] \n",
    "c2=c2.replace('Bread',0)\n",
    "c2=c2.replace('Milk',1)\n",
    "c2=c2.replace('Eggs',2)\n",
    "c2=c2.replace('Potatoes',3)\n",
    "c2"
   ]
  },
  {
   "cell_type": "code",
   "execution_count": 691,
   "id": "7310049b",
   "metadata": {},
   "outputs": [
    {
     "data": {
      "text/html": [
       "<div>\n",
       "<style scoped>\n",
       "    .dataframe tbody tr th:only-of-type {\n",
       "        vertical-align: middle;\n",
       "    }\n",
       "\n",
       "    .dataframe tbody tr th {\n",
       "        vertical-align: top;\n",
       "    }\n",
       "\n",
       "    .dataframe thead th {\n",
       "        text-align: right;\n",
       "    }\n",
       "</style>\n",
       "<table border=\"1\" class=\"dataframe\">\n",
       "  <thead>\n",
       "    <tr style=\"text-align: right;\">\n",
       "      <th></th>\n",
       "      <th>ctry</th>\n",
       "      <th>yr</th>\n",
       "      <th>mth</th>\n",
       "      <th>food_item</th>\n",
       "      <th>Price(USD)</th>\n",
       "      <th>qlt</th>\n",
       "    </tr>\n",
       "  </thead>\n",
       "  <tbody>\n",
       "    <tr>\n",
       "      <th>480</th>\n",
       "      <td>Japan</td>\n",
       "      <td>2018</td>\n",
       "      <td>1</td>\n",
       "      <td>0</td>\n",
       "      <td>1.34</td>\n",
       "      <td>High</td>\n",
       "    </tr>\n",
       "    <tr>\n",
       "      <th>481</th>\n",
       "      <td>Japan</td>\n",
       "      <td>2018</td>\n",
       "      <td>2</td>\n",
       "      <td>0</td>\n",
       "      <td>1.35</td>\n",
       "      <td>High</td>\n",
       "    </tr>\n",
       "    <tr>\n",
       "      <th>482</th>\n",
       "      <td>Japan</td>\n",
       "      <td>2018</td>\n",
       "      <td>3</td>\n",
       "      <td>0</td>\n",
       "      <td>1.35</td>\n",
       "      <td>High</td>\n",
       "    </tr>\n",
       "    <tr>\n",
       "      <th>483</th>\n",
       "      <td>Japan</td>\n",
       "      <td>2018</td>\n",
       "      <td>4</td>\n",
       "      <td>0</td>\n",
       "      <td>1.35</td>\n",
       "      <td>High</td>\n",
       "    </tr>\n",
       "    <tr>\n",
       "      <th>484</th>\n",
       "      <td>Japan</td>\n",
       "      <td>2018</td>\n",
       "      <td>5</td>\n",
       "      <td>0</td>\n",
       "      <td>1.36</td>\n",
       "      <td>High</td>\n",
       "    </tr>\n",
       "    <tr>\n",
       "      <th>...</th>\n",
       "      <td>...</td>\n",
       "      <td>...</td>\n",
       "      <td>...</td>\n",
       "      <td>...</td>\n",
       "      <td>...</td>\n",
       "      <td>...</td>\n",
       "    </tr>\n",
       "    <tr>\n",
       "      <th>715</th>\n",
       "      <td>Japan</td>\n",
       "      <td>2022</td>\n",
       "      <td>8</td>\n",
       "      <td>3</td>\n",
       "      <td>2.98</td>\n",
       "      <td>High</td>\n",
       "    </tr>\n",
       "    <tr>\n",
       "      <th>716</th>\n",
       "      <td>Japan</td>\n",
       "      <td>2022</td>\n",
       "      <td>9</td>\n",
       "      <td>3</td>\n",
       "      <td>3.00</td>\n",
       "      <td>High</td>\n",
       "    </tr>\n",
       "    <tr>\n",
       "      <th>717</th>\n",
       "      <td>Japan</td>\n",
       "      <td>2022</td>\n",
       "      <td>10</td>\n",
       "      <td>3</td>\n",
       "      <td>3.01</td>\n",
       "      <td>High</td>\n",
       "    </tr>\n",
       "    <tr>\n",
       "      <th>718</th>\n",
       "      <td>Japan</td>\n",
       "      <td>2022</td>\n",
       "      <td>11</td>\n",
       "      <td>3</td>\n",
       "      <td>3.02</td>\n",
       "      <td>High</td>\n",
       "    </tr>\n",
       "    <tr>\n",
       "      <th>719</th>\n",
       "      <td>Japan</td>\n",
       "      <td>2022</td>\n",
       "      <td>12</td>\n",
       "      <td>3</td>\n",
       "      <td>3.03</td>\n",
       "      <td>High</td>\n",
       "    </tr>\n",
       "  </tbody>\n",
       "</table>\n",
       "<p>240 rows × 6 columns</p>\n",
       "</div>"
      ],
      "text/plain": [
       "      ctry    yr  mth  food_item  Price(USD)   qlt\n",
       "480  Japan  2018    1          0        1.34  High\n",
       "481  Japan  2018    2          0        1.35  High\n",
       "482  Japan  2018    3          0        1.35  High\n",
       "483  Japan  2018    4          0        1.35  High\n",
       "484  Japan  2018    5          0        1.36  High\n",
       "..     ...   ...  ...        ...         ...   ...\n",
       "715  Japan  2022    8          3        2.98  High\n",
       "716  Japan  2022    9          3        3.00  High\n",
       "717  Japan  2022   10          3        3.01  High\n",
       "718  Japan  2022   11          3        3.02  High\n",
       "719  Japan  2022   12          3        3.03  High\n",
       "\n",
       "[240 rows x 6 columns]"
      ]
     },
     "execution_count": 691,
     "metadata": {},
     "output_type": "execute_result"
    }
   ],
   "source": [
    "c3=df[df[\"ctry\"] == 'Japan'] \n",
    "c3=c3.replace('Bread',0)\n",
    "c3=c3.replace('Milk',1)\n",
    "c3=c3.replace('Eggs',2)\n",
    "c3=c3.replace('Potatoes',3)\n",
    "c3"
   ]
  },
  {
   "cell_type": "code",
   "execution_count": 692,
   "id": "6bdb5dcc",
   "metadata": {},
   "outputs": [
    {
     "data": {
      "text/html": [
       "<div>\n",
       "<style scoped>\n",
       "    .dataframe tbody tr th:only-of-type {\n",
       "        vertical-align: middle;\n",
       "    }\n",
       "\n",
       "    .dataframe tbody tr th {\n",
       "        vertical-align: top;\n",
       "    }\n",
       "\n",
       "    .dataframe thead th {\n",
       "        text-align: right;\n",
       "    }\n",
       "</style>\n",
       "<table border=\"1\" class=\"dataframe\">\n",
       "  <thead>\n",
       "    <tr style=\"text-align: right;\">\n",
       "      <th></th>\n",
       "      <th>ctry</th>\n",
       "      <th>yr</th>\n",
       "      <th>mth</th>\n",
       "      <th>food_item</th>\n",
       "      <th>Price(USD)</th>\n",
       "      <th>qlt</th>\n",
       "    </tr>\n",
       "  </thead>\n",
       "  <tbody>\n",
       "    <tr>\n",
       "      <th>720</th>\n",
       "      <td>South Africa</td>\n",
       "      <td>2018</td>\n",
       "      <td>1</td>\n",
       "      <td>0</td>\n",
       "      <td>0.69</td>\n",
       "      <td>Medium</td>\n",
       "    </tr>\n",
       "    <tr>\n",
       "      <th>721</th>\n",
       "      <td>South Africa</td>\n",
       "      <td>2018</td>\n",
       "      <td>2</td>\n",
       "      <td>0</td>\n",
       "      <td>0.70</td>\n",
       "      <td>Medium</td>\n",
       "    </tr>\n",
       "    <tr>\n",
       "      <th>722</th>\n",
       "      <td>South Africa</td>\n",
       "      <td>2018</td>\n",
       "      <td>3</td>\n",
       "      <td>0</td>\n",
       "      <td>0.70</td>\n",
       "      <td>Medium</td>\n",
       "    </tr>\n",
       "    <tr>\n",
       "      <th>723</th>\n",
       "      <td>South Africa</td>\n",
       "      <td>2018</td>\n",
       "      <td>4</td>\n",
       "      <td>0</td>\n",
       "      <td>0.70</td>\n",
       "      <td>Medium</td>\n",
       "    </tr>\n",
       "    <tr>\n",
       "      <th>724</th>\n",
       "      <td>South Africa</td>\n",
       "      <td>2018</td>\n",
       "      <td>5</td>\n",
       "      <td>0</td>\n",
       "      <td>0.71</td>\n",
       "      <td>Medium</td>\n",
       "    </tr>\n",
       "    <tr>\n",
       "      <th>...</th>\n",
       "      <td>...</td>\n",
       "      <td>...</td>\n",
       "      <td>...</td>\n",
       "      <td>...</td>\n",
       "      <td>...</td>\n",
       "      <td>...</td>\n",
       "    </tr>\n",
       "    <tr>\n",
       "      <th>955</th>\n",
       "      <td>South Africa</td>\n",
       "      <td>2022</td>\n",
       "      <td>8</td>\n",
       "      <td>3</td>\n",
       "      <td>1.05</td>\n",
       "      <td>Medium</td>\n",
       "    </tr>\n",
       "    <tr>\n",
       "      <th>956</th>\n",
       "      <td>South Africa</td>\n",
       "      <td>2022</td>\n",
       "      <td>9</td>\n",
       "      <td>3</td>\n",
       "      <td>1.05</td>\n",
       "      <td>Medium</td>\n",
       "    </tr>\n",
       "    <tr>\n",
       "      <th>957</th>\n",
       "      <td>South Africa</td>\n",
       "      <td>2022</td>\n",
       "      <td>10</td>\n",
       "      <td>3</td>\n",
       "      <td>1.06</td>\n",
       "      <td>Medium</td>\n",
       "    </tr>\n",
       "    <tr>\n",
       "      <th>958</th>\n",
       "      <td>South Africa</td>\n",
       "      <td>2022</td>\n",
       "      <td>11</td>\n",
       "      <td>3</td>\n",
       "      <td>1.06</td>\n",
       "      <td>Medium</td>\n",
       "    </tr>\n",
       "    <tr>\n",
       "      <th>959</th>\n",
       "      <td>South Africa</td>\n",
       "      <td>2022</td>\n",
       "      <td>12</td>\n",
       "      <td>3</td>\n",
       "      <td>1.07</td>\n",
       "      <td>Medium</td>\n",
       "    </tr>\n",
       "  </tbody>\n",
       "</table>\n",
       "<p>240 rows × 6 columns</p>\n",
       "</div>"
      ],
      "text/plain": [
       "             ctry    yr  mth  food_item  Price(USD)     qlt\n",
       "720  South Africa  2018    1          0        0.69  Medium\n",
       "721  South Africa  2018    2          0        0.70  Medium\n",
       "722  South Africa  2018    3          0        0.70  Medium\n",
       "723  South Africa  2018    4          0        0.70  Medium\n",
       "724  South Africa  2018    5          0        0.71  Medium\n",
       "..            ...   ...  ...        ...         ...     ...\n",
       "955  South Africa  2022    8          3        1.05  Medium\n",
       "956  South Africa  2022    9          3        1.05  Medium\n",
       "957  South Africa  2022   10          3        1.06  Medium\n",
       "958  South Africa  2022   11          3        1.06  Medium\n",
       "959  South Africa  2022   12          3        1.07  Medium\n",
       "\n",
       "[240 rows x 6 columns]"
      ]
     },
     "execution_count": 692,
     "metadata": {},
     "output_type": "execute_result"
    }
   ],
   "source": [
    "c4=df[df[\"ctry\"] == 'South Africa'] \n",
    "c4=c4.replace('Bread',0)\n",
    "c4=c4.replace('Milk',1)\n",
    "c4=c4.replace('Eggs',2)\n",
    "c4=c4.replace('Potatoes',3)\n",
    "c4"
   ]
  },
  {
   "cell_type": "code",
   "execution_count": 693,
   "id": "e5e1a38c",
   "metadata": {},
   "outputs": [
    {
     "data": {
      "text/html": [
       "<div>\n",
       "<style scoped>\n",
       "    .dataframe tbody tr th:only-of-type {\n",
       "        vertical-align: middle;\n",
       "    }\n",
       "\n",
       "    .dataframe tbody tr th {\n",
       "        vertical-align: top;\n",
       "    }\n",
       "\n",
       "    .dataframe thead th {\n",
       "        text-align: right;\n",
       "    }\n",
       "</style>\n",
       "<table border=\"1\" class=\"dataframe\">\n",
       "  <thead>\n",
       "    <tr style=\"text-align: right;\">\n",
       "      <th></th>\n",
       "      <th>ctry</th>\n",
       "      <th>yr</th>\n",
       "      <th>mth</th>\n",
       "      <th>food_item</th>\n",
       "      <th>Price(USD)</th>\n",
       "      <th>qlt</th>\n",
       "    </tr>\n",
       "  </thead>\n",
       "  <tbody>\n",
       "    <tr>\n",
       "      <th>960</th>\n",
       "      <td>Canada</td>\n",
       "      <td>2018</td>\n",
       "      <td>1</td>\n",
       "      <td>0</td>\n",
       "      <td>2.18</td>\n",
       "      <td>High</td>\n",
       "    </tr>\n",
       "    <tr>\n",
       "      <th>961</th>\n",
       "      <td>Canada</td>\n",
       "      <td>2018</td>\n",
       "      <td>2</td>\n",
       "      <td>0</td>\n",
       "      <td>2.19</td>\n",
       "      <td>High</td>\n",
       "    </tr>\n",
       "    <tr>\n",
       "      <th>962</th>\n",
       "      <td>Canada</td>\n",
       "      <td>2018</td>\n",
       "      <td>3</td>\n",
       "      <td>0</td>\n",
       "      <td>2.19</td>\n",
       "      <td>High</td>\n",
       "    </tr>\n",
       "    <tr>\n",
       "      <th>963</th>\n",
       "      <td>Canada</td>\n",
       "      <td>2018</td>\n",
       "      <td>4</td>\n",
       "      <td>0</td>\n",
       "      <td>2.19</td>\n",
       "      <td>High</td>\n",
       "    </tr>\n",
       "    <tr>\n",
       "      <th>964</th>\n",
       "      <td>Canada</td>\n",
       "      <td>2018</td>\n",
       "      <td>5</td>\n",
       "      <td>0</td>\n",
       "      <td>2.20</td>\n",
       "      <td>High</td>\n",
       "    </tr>\n",
       "    <tr>\n",
       "      <th>...</th>\n",
       "      <td>...</td>\n",
       "      <td>...</td>\n",
       "      <td>...</td>\n",
       "      <td>...</td>\n",
       "      <td>...</td>\n",
       "      <td>...</td>\n",
       "    </tr>\n",
       "    <tr>\n",
       "      <th>1195</th>\n",
       "      <td>Canada</td>\n",
       "      <td>2022</td>\n",
       "      <td>8</td>\n",
       "      <td>3</td>\n",
       "      <td>2.41</td>\n",
       "      <td>High</td>\n",
       "    </tr>\n",
       "    <tr>\n",
       "      <th>1196</th>\n",
       "      <td>Canada</td>\n",
       "      <td>2022</td>\n",
       "      <td>9</td>\n",
       "      <td>3</td>\n",
       "      <td>2.42</td>\n",
       "      <td>High</td>\n",
       "    </tr>\n",
       "    <tr>\n",
       "      <th>1197</th>\n",
       "      <td>Canada</td>\n",
       "      <td>2022</td>\n",
       "      <td>10</td>\n",
       "      <td>3</td>\n",
       "      <td>2.43</td>\n",
       "      <td>High</td>\n",
       "    </tr>\n",
       "    <tr>\n",
       "      <th>1198</th>\n",
       "      <td>Canada</td>\n",
       "      <td>2022</td>\n",
       "      <td>11</td>\n",
       "      <td>3</td>\n",
       "      <td>2.44</td>\n",
       "      <td>High</td>\n",
       "    </tr>\n",
       "    <tr>\n",
       "      <th>1199</th>\n",
       "      <td>Canada</td>\n",
       "      <td>2022</td>\n",
       "      <td>12</td>\n",
       "      <td>3</td>\n",
       "      <td>2.45</td>\n",
       "      <td>High</td>\n",
       "    </tr>\n",
       "  </tbody>\n",
       "</table>\n",
       "<p>240 rows × 6 columns</p>\n",
       "</div>"
      ],
      "text/plain": [
       "        ctry    yr  mth  food_item  Price(USD)   qlt\n",
       "960   Canada  2018    1          0        2.18  High\n",
       "961   Canada  2018    2          0        2.19  High\n",
       "962   Canada  2018    3          0        2.19  High\n",
       "963   Canada  2018    4          0        2.19  High\n",
       "964   Canada  2018    5          0        2.20  High\n",
       "...      ...   ...  ...        ...         ...   ...\n",
       "1195  Canada  2022    8          3        2.41  High\n",
       "1196  Canada  2022    9          3        2.42  High\n",
       "1197  Canada  2022   10          3        2.43  High\n",
       "1198  Canada  2022   11          3        2.44  High\n",
       "1199  Canada  2022   12          3        2.45  High\n",
       "\n",
       "[240 rows x 6 columns]"
      ]
     },
     "execution_count": 693,
     "metadata": {},
     "output_type": "execute_result"
    }
   ],
   "source": [
    "c5=df[df[\"ctry\"] == 'Canada'] \n",
    "c5=c5.replace('Bread',0)\n",
    "c5=c5.replace('Milk',1)\n",
    "c5=c5.replace('Eggs',2)\n",
    "c5=c5.replace('Potatoes',3)\n",
    "c5"
   ]
  },
  {
   "cell_type": "markdown",
   "id": "f89f1b7e",
   "metadata": {},
   "source": [
    "##### COUNTRY, FOOD, MONTH, YEAR"
   ]
  },
  {
   "cell_type": "code",
   "execution_count": 694,
   "id": "4a07d19b",
   "metadata": {
    "scrolled": false
   },
   "outputs": [
    {
     "data": {
      "image/png": "[encoded data removed]",
      "text/plain": [
       "<Figure size 1368x360 with 1 Axes>"
      ]
     },
     "metadata": {},
     "output_type": "display_data"
    },
    {
     "data": {
      "image/png": "[encoded data removed]",
      "text/plain": [
       "<Figure size 1368x360 with 1 Axes>"
      ]
     },
     "metadata": {},
     "output_type": "display_data"
    },
    {
     "data": {
      "image/png": "[encoded data removed]",
      "text/plain": [
       "<Figure size 1368x360 with 1 Axes>"
      ]
     },
     "metadata": {},
     "output_type": "display_data"
    },
    {
     "data": {
      "image/png": "[encoded data removed]",
      "text/plain": [
       "<Figure size 1368x360 with 1 Axes>"
      ]
     },
     "metadata": {},
     "output_type": "display_data"
    }
   ],
   "source": [
    "import matplotlib.pyplot as plt\n",
    "import seaborn as sns\n",
    "sns.set(style=\"white\")\n",
    "for food_item in df['food_item'].unique():\n",
    "    plt.figure(figsize=(19, 5))\n",
    "    for country in df['ctry'].unique():\n",
    "        df_country_item = df[(df['ctry'] == country) & (df['food_item'] == food_item)]\n",
    "        plt.plot(df_country_item['yr'].astype(str) + '-' + df_country_item['mth'].astype(str),\n",
    "                 df_country_item['Price(USD)'], label=country)\n",
    "    plt.title(f'{food_item} Price Trend in Different Countries')\n",
    "    plt.xlabel('Year-Month')\n",
    "    plt.ylabel('Price')\n",
    "    plt.legend()\n",
    "    plt.xticks(rotation=90)\n",
    "    plt.show()"
   ]
  },
  {
   "cell_type": "markdown",
   "id": "38768903",
   "metadata": {},
   "source": [
    "##### Avg price of Food Items in Different Countries"
   ]
  },
  {
   "cell_type": "code",
   "execution_count": 695,
   "id": "2a467858",
   "metadata": {
    "scrolled": true
   },
   "outputs": [
    {
     "data": {
      "text/html": [
       "<div>\n",
       "<style scoped>\n",
       "    .dataframe tbody tr th:only-of-type {\n",
       "        vertical-align: middle;\n",
       "    }\n",
       "\n",
       "    .dataframe tbody tr th {\n",
       "        vertical-align: top;\n",
       "    }\n",
       "\n",
       "    .dataframe thead th {\n",
       "        text-align: right;\n",
       "    }\n",
       "</style>\n",
       "<table border=\"1\" class=\"dataframe\">\n",
       "  <thead>\n",
       "    <tr style=\"text-align: right;\">\n",
       "      <th>food_item</th>\n",
       "      <th>Bread</th>\n",
       "      <th>Eggs</th>\n",
       "      <th>Milk</th>\n",
       "      <th>Potatoes</th>\n",
       "    </tr>\n",
       "    <tr>\n",
       "      <th>ctry</th>\n",
       "      <th></th>\n",
       "      <th></th>\n",
       "      <th></th>\n",
       "      <th></th>\n",
       "    </tr>\n",
       "  </thead>\n",
       "  <tbody>\n",
       "    <tr>\n",
       "      <th>Australia</th>\n",
       "      <td>1.643667</td>\n",
       "      <td>2.647667</td>\n",
       "      <td>1.003167</td>\n",
       "      <td>2.407833</td>\n",
       "    </tr>\n",
       "    <tr>\n",
       "      <th>Canada</th>\n",
       "      <td>2.313500</td>\n",
       "      <td>3.026167</td>\n",
       "      <td>1.954500</td>\n",
       "      <td>2.276667</td>\n",
       "    </tr>\n",
       "    <tr>\n",
       "      <th>Japan</th>\n",
       "      <td>1.404667</td>\n",
       "      <td>1.715167</td>\n",
       "      <td>1.375333</td>\n",
       "      <td>2.764167</td>\n",
       "    </tr>\n",
       "    <tr>\n",
       "      <th>South Africa</th>\n",
       "      <td>0.775000</td>\n",
       "      <td>1.564167</td>\n",
       "      <td>0.848500</td>\n",
       "      <td>0.955000</td>\n",
       "    </tr>\n",
       "    <tr>\n",
       "      <th>Sweden</th>\n",
       "      <td>2.087833</td>\n",
       "      <td>2.922000</td>\n",
       "      <td>1.168167</td>\n",
       "      <td>1.183667</td>\n",
       "    </tr>\n",
       "  </tbody>\n",
       "</table>\n",
       "</div>"
      ],
      "text/plain": [
       "food_item        Bread      Eggs      Milk  Potatoes\n",
       "ctry                                                \n",
       "Australia     1.643667  2.647667  1.003167  2.407833\n",
       "Canada        2.313500  3.026167  1.954500  2.276667\n",
       "Japan         1.404667  1.715167  1.375333  2.764167\n",
       "South Africa  0.775000  1.564167  0.848500  0.955000\n",
       "Sweden        2.087833  2.922000  1.168167  1.183667"
      ]
     },
     "execution_count": 695,
     "metadata": {},
     "output_type": "execute_result"
    }
   ],
   "source": [
    "pivot_table = df.pivot_table(index='ctry', columns='food_item', values='Price(USD)', aggfunc='mean')\n",
    "pivot_table"
   ]
  },
  {
   "cell_type": "code",
   "execution_count": 696,
   "id": "ce606b6b",
   "metadata": {},
   "outputs": [
    {
     "data": {
      "text/plain": [
       "<AxesSubplot:xlabel='food_item', ylabel='food_item'>"
      ]
     },
     "execution_count": 696,
     "metadata": {},
     "output_type": "execute_result"
    },
    {
     "data": {
      "image/png": "[encoded data removed]",
      "text/plain": [
       "<Figure size 576x432 with 2 Axes>"
      ]
     },
     "metadata": {},
     "output_type": "display_data"
    }
   ],
   "source": [
    "plt.figure(figsize=(8,6))\n",
    "sns.heatmap(pivot_table.corr(method='pearson'),annot=True)"
   ]
  },
  {
   "cell_type": "code",
   "execution_count": 697,
   "id": "24b867d6",
   "metadata": {},
   "outputs": [],
   "source": [
    "#plt.figure(figsize=(5,6))\n",
    "#sns.heatmap(pivot_table, annot=True, cmap=sns.cubehelix_palette(as_cmap=True), fmt=\".2f\", cbar_kws={'label': 'Average Price'})\n",
    "#plt.title('Average Price of Food Items in Different Countries (Productwise)')\n",
    "#plt.show()"
   ]
  },
  {
   "cell_type": "markdown",
   "id": "2b8fb9f2",
   "metadata": {},
   "source": [
    "##### YEARWISE AVG PRICE"
   ]
  },
  {
   "cell_type": "markdown",
   "id": "4938f4e7",
   "metadata": {},
   "source": [
    "### PREDICTIONS"
   ]
  },
  {
   "cell_type": "markdown",
   "id": "f408c912",
   "metadata": {},
   "source": [
    "#### DT OVERALL"
   ]
  },
  {
   "cell_type": "code",
   "execution_count": 698,
   "id": "0efc0801",
   "metadata": {},
   "outputs": [
    {
     "data": {
      "text/html": [
       "<div>\n",
       "<style scoped>\n",
       "    .dataframe tbody tr th:only-of-type {\n",
       "        vertical-align: middle;\n",
       "    }\n",
       "\n",
       "    .dataframe tbody tr th {\n",
       "        vertical-align: top;\n",
       "    }\n",
       "\n",
       "    .dataframe thead th {\n",
       "        text-align: right;\n",
       "    }\n",
       "</style>\n",
       "<table border=\"1\" class=\"dataframe\">\n",
       "  <thead>\n",
       "    <tr style=\"text-align: right;\">\n",
       "      <th></th>\n",
       "      <th>Actual</th>\n",
       "      <th>Prediction</th>\n",
       "    </tr>\n",
       "  </thead>\n",
       "  <tbody>\n",
       "    <tr>\n",
       "      <th>1178</th>\n",
       "      <td>2.28</td>\n",
       "      <td>2.30</td>\n",
       "    </tr>\n",
       "    <tr>\n",
       "      <th>865</th>\n",
       "      <td>1.55</td>\n",
       "      <td>1.57</td>\n",
       "    </tr>\n",
       "    <tr>\n",
       "      <th>101</th>\n",
       "      <td>1.07</td>\n",
       "      <td>1.03</td>\n",
       "    </tr>\n",
       "    <tr>\n",
       "      <th>439</th>\n",
       "      <td>1.13</td>\n",
       "      <td>1.13</td>\n",
       "    </tr>\n",
       "    <tr>\n",
       "      <th>58</th>\n",
       "      <td>1.95</td>\n",
       "      <td>1.87</td>\n",
       "    </tr>\n",
       "    <tr>\n",
       "      <th>...</th>\n",
       "      <td>...</td>\n",
       "      <td>...</td>\n",
       "    </tr>\n",
       "    <tr>\n",
       "      <th>47</th>\n",
       "      <td>1.80</td>\n",
       "      <td>1.64</td>\n",
       "    </tr>\n",
       "    <tr>\n",
       "      <th>318</th>\n",
       "      <td>1.10</td>\n",
       "      <td>1.06</td>\n",
       "    </tr>\n",
       "    <tr>\n",
       "      <th>106</th>\n",
       "      <td>1.14</td>\n",
       "      <td>1.03</td>\n",
       "    </tr>\n",
       "    <tr>\n",
       "      <th>798</th>\n",
       "      <td>0.81</td>\n",
       "      <td>0.82</td>\n",
       "    </tr>\n",
       "    <tr>\n",
       "      <th>55</th>\n",
       "      <td>1.91</td>\n",
       "      <td>1.87</td>\n",
       "    </tr>\n",
       "  </tbody>\n",
       "</table>\n",
       "<p>360 rows × 2 columns</p>\n",
       "</div>"
      ],
      "text/plain": [
       "      Actual  Prediction\n",
       "1178    2.28        2.30\n",
       "865     1.55        1.57\n",
       "101     1.07        1.03\n",
       "439     1.13        1.13\n",
       "58      1.95        1.87\n",
       "...      ...         ...\n",
       "47      1.80        1.64\n",
       "318     1.10        1.06\n",
       "106     1.14        1.03\n",
       "798     0.81        0.82\n",
       "55      1.91        1.87\n",
       "\n",
       "[360 rows x 2 columns]"
      ]
     },
     "execution_count": 698,
     "metadata": {},
     "output_type": "execute_result"
    }
   ],
   "source": [
    "import numpy as np\n",
    "from sklearn.model_selection import train_test_split\n",
    "from sklearn.tree import DecisionTreeRegressor\n",
    "from sklearn.metrics import mean_squared_error\n",
    "from sklearn.preprocessing import OneHotEncoder\n",
    "\n",
    "X1 = df[[\"ctry\",\"yr\",\"mth\",\"food_item\",\"qlt\"]]\n",
    "y1 = df[[\"Price(USD)\"]]\n",
    "\n",
    "X_train1, X_test1, y_train1, y_test1 = train_test_split(X1, y1, test_size=0.3, random_state=42)\n",
    "\n",
    "encoder = OneHotEncoder(handle_unknown='ignore', sparse=False)\n",
    "X_train_encoded1 = encoder.fit_transform(X_train1)\n",
    "X_test_encoded1 = encoder.transform(X_test1)\n",
    "\n",
    "decision_tree_regressor = DecisionTreeRegressor(random_state=42)\n",
    "\n",
    "decision_tree_regressor.fit(X_train_encoded1, y_train1)\n",
    "\n",
    "y_pred1 = decision_tree_regressor.predict(X_test_encoded1)\n",
    "dt = pd.DataFrame()\n",
    "dt[\"Actual\"] = y_test1\n",
    "dt[\"Prediction\"] = y_pred1\n",
    "dt"
   ]
  },
  {
   "cell_type": "code",
   "execution_count": 699,
   "id": "70b08d49",
   "metadata": {},
   "outputs": [
    {
     "name": "stdout",
     "output_type": "stream",
     "text": [
      "Mean Squared Error: 0.005678888888888891\n",
      "RMSE:  0.07535840290829478\n"
     ]
    }
   ],
   "source": [
    "mse1 = mean_squared_error(y_test1, y_pred1)\n",
    "print(\"Mean Squared Error:\", mse1)\n",
    "print(\"RMSE: \", mse1**(1/2.0)) "
   ]
  },
  {
   "cell_type": "code",
   "execution_count": 700,
   "id": "2499b4c3",
   "metadata": {},
   "outputs": [
    {
     "name": "stdout",
     "output_type": "stream",
     "text": [
      "R2 score: 0.9889852899015369\n"
     ]
    }
   ],
   "source": [
    "r21 = r2_score(y_test1, y_pred1)\n",
    "print(\"R2 score:\",r21)"
   ]
  },
  {
   "cell_type": "markdown",
   "id": "471c57fe",
   "metadata": {},
   "source": [
    "#### DT COUNTRYWISE"
   ]
  },
  {
   "cell_type": "markdown",
   "id": "231da3fa",
   "metadata": {},
   "source": [
    "#### AUSTRALIA"
   ]
  },
  {
   "cell_type": "code",
   "execution_count": 701,
   "id": "bc0a21dd",
   "metadata": {},
   "outputs": [
    {
     "data": {
      "text/html": [
       "<div>\n",
       "<style scoped>\n",
       "    .dataframe tbody tr th:only-of-type {\n",
       "        vertical-align: middle;\n",
       "    }\n",
       "\n",
       "    .dataframe tbody tr th {\n",
       "        vertical-align: top;\n",
       "    }\n",
       "\n",
       "    .dataframe thead th {\n",
       "        text-align: right;\n",
       "    }\n",
       "</style>\n",
       "<table border=\"1\" class=\"dataframe\">\n",
       "  <thead>\n",
       "    <tr style=\"text-align: right;\">\n",
       "      <th></th>\n",
       "      <th>Actual</th>\n",
       "      <th>Prediction</th>\n",
       "    </tr>\n",
       "  </thead>\n",
       "  <tbody>\n",
       "    <tr>\n",
       "      <th>24</th>\n",
       "      <td>1.59</td>\n",
       "      <td>1.59</td>\n",
       "    </tr>\n",
       "    <tr>\n",
       "      <th>6</th>\n",
       "      <td>1.49</td>\n",
       "      <td>1.49</td>\n",
       "    </tr>\n",
       "    <tr>\n",
       "      <th>93</th>\n",
       "      <td>0.99</td>\n",
       "      <td>0.99</td>\n",
       "    </tr>\n",
       "    <tr>\n",
       "      <th>109</th>\n",
       "      <td>1.17</td>\n",
       "      <td>1.17</td>\n",
       "    </tr>\n",
       "    <tr>\n",
       "      <th>104</th>\n",
       "      <td>1.11</td>\n",
       "      <td>1.10</td>\n",
       "    </tr>\n",
       "    <tr>\n",
       "      <th>...</th>\n",
       "      <td>...</td>\n",
       "      <td>...</td>\n",
       "    </tr>\n",
       "    <tr>\n",
       "      <th>84</th>\n",
       "      <td>0.96</td>\n",
       "      <td>0.97</td>\n",
       "    </tr>\n",
       "    <tr>\n",
       "      <th>117</th>\n",
       "      <td>1.18</td>\n",
       "      <td>1.18</td>\n",
       "    </tr>\n",
       "    <tr>\n",
       "      <th>194</th>\n",
       "      <td>2.22</td>\n",
       "      <td>2.23</td>\n",
       "    </tr>\n",
       "    <tr>\n",
       "      <th>177</th>\n",
       "      <td>3.91</td>\n",
       "      <td>3.97</td>\n",
       "    </tr>\n",
       "    <tr>\n",
       "      <th>111</th>\n",
       "      <td>1.17</td>\n",
       "      <td>1.17</td>\n",
       "    </tr>\n",
       "  </tbody>\n",
       "</table>\n",
       "<p>72 rows × 2 columns</p>\n",
       "</div>"
      ],
      "text/plain": [
       "     Actual  Prediction\n",
       "24     1.59        1.59\n",
       "6      1.49        1.49\n",
       "93     0.99        0.99\n",
       "109    1.17        1.17\n",
       "104    1.11        1.10\n",
       "..      ...         ...\n",
       "84     0.96        0.97\n",
       "117    1.18        1.18\n",
       "194    2.22        2.23\n",
       "177    3.91        3.97\n",
       "111    1.17        1.17\n",
       "\n",
       "[72 rows x 2 columns]"
      ]
     },
     "execution_count": 701,
     "metadata": {},
     "output_type": "execute_result"
    }
   ],
   "source": [
    "import numpy as np\n",
    "from sklearn.model_selection import train_test_split\n",
    "from sklearn.tree import DecisionTreeRegressor\n",
    "from sklearn.metrics import mean_squared_error,r2_score\n",
    "from sklearn.preprocessing import OneHotEncoder\n",
    "\n",
    "X2 = c1[[\"yr\",\"mth\",\"food_item\"]]\n",
    "y2 = c1[[\"Price(USD)\"]]\n",
    "\n",
    "X_train2, X_test2, y_train2, y_test2 = train_test_split(X2, y2, test_size=0.3, random_state=42)\n",
    "\n",
    "decision_tree_regressor = DecisionTreeRegressor(random_state=42)\n",
    "\n",
    "decision_tree_regressor.fit(X_train2, y_train2)\n",
    "\n",
    "y_predc1 = decision_tree_regressor.predict(X_test2)\n",
    "dtc1 = pd.DataFrame()\n",
    "dtc1[\"Actual\"] = y_test2\n",
    "dtc1[\"Prediction\"] = y_predc1\n",
    "dtc1"
   ]
  },
  {
   "cell_type": "code",
   "execution_count": 702,
   "id": "5b496d4b",
   "metadata": {
    "scrolled": true
   },
   "outputs": [
    {
     "name": "stdout",
     "output_type": "stream",
     "text": [
      "Mean Squared Error: 0.0007749999999999989\n",
      "RMSE:  0.02783882181415009\n"
     ]
    }
   ],
   "source": [
    "msec1 = mean_squared_error(y_test2, y_predc1)\n",
    "print(\"Mean Squared Error:\", msec1)\n",
    "print(\"RMSE: \", msec1**(1/2.0)) "
   ]
  },
  {
   "cell_type": "code",
   "execution_count": 703,
   "id": "50c30618",
   "metadata": {},
   "outputs": [
    {
     "name": "stdout",
     "output_type": "stream",
     "text": [
      "R2 score: 0.9987218250160121\n"
     ]
    }
   ],
   "source": [
    "r2c1 = r2_score(y_test2, y_predc1)\n",
    "print(\"R2 score:\",r2c1)"
   ]
  },
  {
   "cell_type": "markdown",
   "id": "02ccdd53",
   "metadata": {},
   "source": [
    "#### SWEDEN"
   ]
  },
  {
   "cell_type": "code",
   "execution_count": 704,
   "id": "f2babd80",
   "metadata": {
    "scrolled": true
   },
   "outputs": [
    {
     "data": {
      "text/html": [
       "<div>\n",
       "<style scoped>\n",
       "    .dataframe tbody tr th:only-of-type {\n",
       "        vertical-align: middle;\n",
       "    }\n",
       "\n",
       "    .dataframe tbody tr th {\n",
       "        vertical-align: top;\n",
       "    }\n",
       "\n",
       "    .dataframe thead th {\n",
       "        text-align: right;\n",
       "    }\n",
       "</style>\n",
       "<table border=\"1\" class=\"dataframe\">\n",
       "  <thead>\n",
       "    <tr style=\"text-align: right;\">\n",
       "      <th></th>\n",
       "      <th>Actual</th>\n",
       "      <th>Prediction</th>\n",
       "    </tr>\n",
       "  </thead>\n",
       "  <tbody>\n",
       "    <tr>\n",
       "      <th>264</th>\n",
       "      <td>2.06</td>\n",
       "      <td>2.06</td>\n",
       "    </tr>\n",
       "    <tr>\n",
       "      <th>246</th>\n",
       "      <td>1.85</td>\n",
       "      <td>1.85</td>\n",
       "    </tr>\n",
       "    <tr>\n",
       "      <th>333</th>\n",
       "      <td>1.17</td>\n",
       "      <td>1.17</td>\n",
       "    </tr>\n",
       "    <tr>\n",
       "      <th>349</th>\n",
       "      <td>1.29</td>\n",
       "      <td>1.30</td>\n",
       "    </tr>\n",
       "    <tr>\n",
       "      <th>344</th>\n",
       "      <td>1.24</td>\n",
       "      <td>1.23</td>\n",
       "    </tr>\n",
       "    <tr>\n",
       "      <th>...</th>\n",
       "      <td>...</td>\n",
       "      <td>...</td>\n",
       "    </tr>\n",
       "    <tr>\n",
       "      <th>324</th>\n",
       "      <td>1.15</td>\n",
       "      <td>1.15</td>\n",
       "    </tr>\n",
       "    <tr>\n",
       "      <th>357</th>\n",
       "      <td>1.37</td>\n",
       "      <td>1.36</td>\n",
       "    </tr>\n",
       "    <tr>\n",
       "      <th>434</th>\n",
       "      <td>1.12</td>\n",
       "      <td>1.12</td>\n",
       "    </tr>\n",
       "    <tr>\n",
       "      <th>417</th>\n",
       "      <td>3.44</td>\n",
       "      <td>3.46</td>\n",
       "    </tr>\n",
       "    <tr>\n",
       "      <th>351</th>\n",
       "      <td>1.31</td>\n",
       "      <td>1.30</td>\n",
       "    </tr>\n",
       "  </tbody>\n",
       "</table>\n",
       "<p>72 rows × 2 columns</p>\n",
       "</div>"
      ],
      "text/plain": [
       "     Actual  Prediction\n",
       "264    2.06        2.06\n",
       "246    1.85        1.85\n",
       "333    1.17        1.17\n",
       "349    1.29        1.30\n",
       "344    1.24        1.23\n",
       "..      ...         ...\n",
       "324    1.15        1.15\n",
       "357    1.37        1.36\n",
       "434    1.12        1.12\n",
       "417    3.44        3.46\n",
       "351    1.31        1.30\n",
       "\n",
       "[72 rows x 2 columns]"
      ]
     },
     "execution_count": 704,
     "metadata": {},
     "output_type": "execute_result"
    }
   ],
   "source": [
    "import numpy as np\n",
    "from sklearn.model_selection import train_test_split\n",
    "from sklearn.tree import DecisionTreeRegressor\n",
    "from sklearn.metrics import mean_squared_error,r2_score\n",
    "from sklearn.preprocessing import OneHotEncoder\n",
    "\n",
    "X3 = c2[[\"yr\",\"mth\",\"food_item\"]]\n",
    "y3 = c2[[\"Price(USD)\"]]\n",
    "\n",
    "X_train3, X_test3, y_train3, y_test3 = train_test_split(X3, y3, test_size=0.3, random_state=42)\n",
    "\n",
    "decision_tree_regressor = DecisionTreeRegressor(random_state=42)\n",
    "\n",
    "decision_tree_regressor.fit(X_train3, y_train3)\n",
    "\n",
    "y_predc2 = decision_tree_regressor.predict(X_test3)\n",
    "dtc2 = pd.DataFrame()\n",
    "dtc2[\"Actual\"] = y_test3\n",
    "dtc2[\"Prediction\"] = y_predc2\n",
    "dtc2"
   ]
  },
  {
   "cell_type": "code",
   "execution_count": 705,
   "id": "01b50c39",
   "metadata": {},
   "outputs": [
    {
     "name": "stdout",
     "output_type": "stream",
     "text": [
      "Mean Squared Error: 0.00020000000000000071\n",
      "RMSE:  0.014142135623730975\n"
     ]
    }
   ],
   "source": [
    "msec2 = mean_squared_error(y_test3, y_predc2)\n",
    "print(\"Mean Squared Error:\", msec2)\n",
    "print(\"RMSE: \", msec2**(1/2.0)) "
   ]
  },
  {
   "cell_type": "code",
   "execution_count": 706,
   "id": "b96df357",
   "metadata": {
    "scrolled": true
   },
   "outputs": [
    {
     "name": "stdout",
     "output_type": "stream",
     "text": [
      "R2 score: 0.999649126606816\n"
     ]
    }
   ],
   "source": [
    "r2c2 = r2_score(y_test3, y_predc2)\n",
    "print(\"R2 score:\",r2c2)"
   ]
  },
  {
   "cell_type": "markdown",
   "id": "1fb7b92b",
   "metadata": {},
   "source": [
    "#### JAPAN"
   ]
  },
  {
   "cell_type": "code",
   "execution_count": 707,
   "id": "47272650",
   "metadata": {},
   "outputs": [
    {
     "data": {
      "text/html": [
       "<div>\n",
       "<style scoped>\n",
       "    .dataframe tbody tr th:only-of-type {\n",
       "        vertical-align: middle;\n",
       "    }\n",
       "\n",
       "    .dataframe tbody tr th {\n",
       "        vertical-align: top;\n",
       "    }\n",
       "\n",
       "    .dataframe thead th {\n",
       "        text-align: right;\n",
       "    }\n",
       "</style>\n",
       "<table border=\"1\" class=\"dataframe\">\n",
       "  <thead>\n",
       "    <tr style=\"text-align: right;\">\n",
       "      <th></th>\n",
       "      <th>Actual</th>\n",
       "      <th>Prediction</th>\n",
       "    </tr>\n",
       "  </thead>\n",
       "  <tbody>\n",
       "    <tr>\n",
       "      <th>504</th>\n",
       "      <td>1.41</td>\n",
       "      <td>1.38</td>\n",
       "    </tr>\n",
       "    <tr>\n",
       "      <th>486</th>\n",
       "      <td>1.36</td>\n",
       "      <td>1.36</td>\n",
       "    </tr>\n",
       "    <tr>\n",
       "      <th>573</th>\n",
       "      <td>1.38</td>\n",
       "      <td>1.38</td>\n",
       "    </tr>\n",
       "    <tr>\n",
       "      <th>589</th>\n",
       "      <td>1.39</td>\n",
       "      <td>1.39</td>\n",
       "    </tr>\n",
       "    <tr>\n",
       "      <th>584</th>\n",
       "      <td>1.39</td>\n",
       "      <td>1.39</td>\n",
       "    </tr>\n",
       "    <tr>\n",
       "      <th>...</th>\n",
       "      <td>...</td>\n",
       "      <td>...</td>\n",
       "    </tr>\n",
       "    <tr>\n",
       "      <th>564</th>\n",
       "      <td>1.38</td>\n",
       "      <td>1.38</td>\n",
       "    </tr>\n",
       "    <tr>\n",
       "      <th>597</th>\n",
       "      <td>1.41</td>\n",
       "      <td>1.41</td>\n",
       "    </tr>\n",
       "    <tr>\n",
       "      <th>674</th>\n",
       "      <td>2.62</td>\n",
       "      <td>2.63</td>\n",
       "    </tr>\n",
       "    <tr>\n",
       "      <th>657</th>\n",
       "      <td>1.88</td>\n",
       "      <td>1.89</td>\n",
       "    </tr>\n",
       "    <tr>\n",
       "      <th>591</th>\n",
       "      <td>1.39</td>\n",
       "      <td>1.39</td>\n",
       "    </tr>\n",
       "  </tbody>\n",
       "</table>\n",
       "<p>72 rows × 2 columns</p>\n",
       "</div>"
      ],
      "text/plain": [
       "     Actual  Prediction\n",
       "504    1.41        1.38\n",
       "486    1.36        1.36\n",
       "573    1.38        1.38\n",
       "589    1.39        1.39\n",
       "584    1.39        1.39\n",
       "..      ...         ...\n",
       "564    1.38        1.38\n",
       "597    1.41        1.41\n",
       "674    2.62        2.63\n",
       "657    1.88        1.89\n",
       "591    1.39        1.39\n",
       "\n",
       "[72 rows x 2 columns]"
      ]
     },
     "execution_count": 707,
     "metadata": {},
     "output_type": "execute_result"
    }
   ],
   "source": [
    "import numpy as np\n",
    "from sklearn.model_selection import train_test_split\n",
    "from sklearn.tree import DecisionTreeRegressor\n",
    "from sklearn.metrics import mean_squared_error,r2_score\n",
    "from sklearn.preprocessing import OneHotEncoder\n",
    "\n",
    "X4 = c3[[\"yr\",\"mth\",\"food_item\"]]\n",
    "y4 = c3[[\"Price(USD)\"]]\n",
    "\n",
    "X_train4, X_test4, y_train4, y_test4 = train_test_split(X4, y4, test_size=0.3, random_state=42)\n",
    "\n",
    "decision_tree_regressor = DecisionTreeRegressor(random_state=42)\n",
    "\n",
    "decision_tree_regressor.fit(X_train4, y_train4)\n",
    "\n",
    "y_predc3= decision_tree_regressor.predict(X_test4)\n",
    "dtc3 = pd.DataFrame()\n",
    "dtc3[\"Actual\"] = y_test4\n",
    "dtc3[\"Prediction\"] = y_predc3\n",
    "dtc3"
   ]
  },
  {
   "cell_type": "code",
   "execution_count": 708,
   "id": "3cc1388f",
   "metadata": {},
   "outputs": [
    {
     "name": "stdout",
     "output_type": "stream",
     "text": [
      "Mean Squared Error: 8.333333333333263e-05\n",
      "RMSE:  0.00912870929175273\n"
     ]
    }
   ],
   "source": [
    "msec3 = mean_squared_error(y_test4, y_predc3)\n",
    "print(\"Mean Squared Error:\", msec3)\n",
    "print(\"RMSE: \", msec3**(1/2.0)) "
   ]
  },
  {
   "cell_type": "code",
   "execution_count": 709,
   "id": "02f8e5e9",
   "metadata": {},
   "outputs": [
    {
     "name": "stdout",
     "output_type": "stream",
     "text": [
      "R2 score: 0.9997642226028984\n"
     ]
    }
   ],
   "source": [
    "r2c3 = r2_score(y_test4, y_predc3)\n",
    "print(\"R2 score:\",r2c3)"
   ]
  },
  {
   "cell_type": "markdown",
   "id": "e91cb6d2",
   "metadata": {},
   "source": [
    "#### SOUTH AFRICA"
   ]
  },
  {
   "cell_type": "code",
   "execution_count": 710,
   "id": "242d6281",
   "metadata": {},
   "outputs": [
    {
     "data": {
      "text/html": [
       "<div>\n",
       "<style scoped>\n",
       "    .dataframe tbody tr th:only-of-type {\n",
       "        vertical-align: middle;\n",
       "    }\n",
       "\n",
       "    .dataframe tbody tr th {\n",
       "        vertical-align: top;\n",
       "    }\n",
       "\n",
       "    .dataframe thead th {\n",
       "        text-align: right;\n",
       "    }\n",
       "</style>\n",
       "<table border=\"1\" class=\"dataframe\">\n",
       "  <thead>\n",
       "    <tr style=\"text-align: right;\">\n",
       "      <th></th>\n",
       "      <th>Actual</th>\n",
       "      <th>Prediction</th>\n",
       "    </tr>\n",
       "  </thead>\n",
       "  <tbody>\n",
       "    <tr>\n",
       "      <th>744</th>\n",
       "      <td>0.76</td>\n",
       "      <td>0.76</td>\n",
       "    </tr>\n",
       "    <tr>\n",
       "      <th>726</th>\n",
       "      <td>0.71</td>\n",
       "      <td>0.71</td>\n",
       "    </tr>\n",
       "    <tr>\n",
       "      <th>813</th>\n",
       "      <td>0.85</td>\n",
       "      <td>0.85</td>\n",
       "    </tr>\n",
       "    <tr>\n",
       "      <th>829</th>\n",
       "      <td>0.90</td>\n",
       "      <td>0.91</td>\n",
       "    </tr>\n",
       "    <tr>\n",
       "      <th>824</th>\n",
       "      <td>0.88</td>\n",
       "      <td>0.88</td>\n",
       "    </tr>\n",
       "    <tr>\n",
       "      <th>...</th>\n",
       "      <td>...</td>\n",
       "      <td>...</td>\n",
       "    </tr>\n",
       "    <tr>\n",
       "      <th>804</th>\n",
       "      <td>0.82</td>\n",
       "      <td>0.83</td>\n",
       "    </tr>\n",
       "    <tr>\n",
       "      <th>837</th>\n",
       "      <td>0.94</td>\n",
       "      <td>0.93</td>\n",
       "    </tr>\n",
       "    <tr>\n",
       "      <th>914</th>\n",
       "      <td>0.89</td>\n",
       "      <td>0.89</td>\n",
       "    </tr>\n",
       "    <tr>\n",
       "      <th>897</th>\n",
       "      <td>1.71</td>\n",
       "      <td>1.72</td>\n",
       "    </tr>\n",
       "    <tr>\n",
       "      <th>831</th>\n",
       "      <td>0.91</td>\n",
       "      <td>0.91</td>\n",
       "    </tr>\n",
       "  </tbody>\n",
       "</table>\n",
       "<p>72 rows × 2 columns</p>\n",
       "</div>"
      ],
      "text/plain": [
       "     Actual  Prediction\n",
       "744    0.76        0.76\n",
       "726    0.71        0.71\n",
       "813    0.85        0.85\n",
       "829    0.90        0.91\n",
       "824    0.88        0.88\n",
       "..      ...         ...\n",
       "804    0.82        0.83\n",
       "837    0.94        0.93\n",
       "914    0.89        0.89\n",
       "897    1.71        1.72\n",
       "831    0.91        0.91\n",
       "\n",
       "[72 rows x 2 columns]"
      ]
     },
     "execution_count": 710,
     "metadata": {},
     "output_type": "execute_result"
    }
   ],
   "source": [
    "import numpy as np\n",
    "from sklearn.model_selection import train_test_split\n",
    "from sklearn.tree import DecisionTreeRegressor\n",
    "from sklearn.metrics import mean_squared_error,r2_score\n",
    "from sklearn.preprocessing import OneHotEncoder\n",
    "\n",
    "X5 = c4[[\"yr\",\"mth\",\"food_item\"]]\n",
    "y5 = c4[[\"Price(USD)\"]]\n",
    "\n",
    "X_train5, X_test5, y_train5, y_test5 = train_test_split(X5, y5, test_size=0.3, random_state=42)\n",
    "\n",
    "decision_tree_regressor = DecisionTreeRegressor(random_state=42)\n",
    "\n",
    "decision_tree_regressor.fit(X_train5, y_train5)\n",
    "\n",
    "y_predc4= decision_tree_regressor.predict(X_test5)\n",
    "dtc4 = pd.DataFrame()\n",
    "dtc4[\"Actual\"] = y_test5\n",
    "dtc4[\"Prediction\"] = y_predc4\n",
    "dtc4"
   ]
  },
  {
   "cell_type": "code",
   "execution_count": 711,
   "id": "bc2131ab",
   "metadata": {},
   "outputs": [
    {
     "name": "stdout",
     "output_type": "stream",
     "text": [
      "Mean Squared Error: 4.722222222222224e-05\n",
      "RMSE:  0.006871842709362769\n"
     ]
    }
   ],
   "source": [
    "msec4 = mean_squared_error(y_test5, y_predc4)\n",
    "print(\"Mean Squared Error:\", msec4)\n",
    "print(\"RMSE: \", msec4**(1/2.0)) "
   ]
  },
  {
   "cell_type": "code",
   "execution_count": 712,
   "id": "220a07f2",
   "metadata": {
    "scrolled": true
   },
   "outputs": [
    {
     "name": "stdout",
     "output_type": "stream",
     "text": [
      "R2 score: 0.9995138689340604\n"
     ]
    }
   ],
   "source": [
    "r2c4 = r2_score(y_test5, y_predc4)\n",
    "print(\"R2 score:\",r2c4)"
   ]
  },
  {
   "cell_type": "markdown",
   "id": "9a1c17cc",
   "metadata": {},
   "source": [
    "#### CANADA"
   ]
  },
  {
   "cell_type": "code",
   "execution_count": 713,
   "id": "a720a492",
   "metadata": {},
   "outputs": [
    {
     "data": {
      "text/html": [
       "<div>\n",
       "<style scoped>\n",
       "    .dataframe tbody tr th:only-of-type {\n",
       "        vertical-align: middle;\n",
       "    }\n",
       "\n",
       "    .dataframe tbody tr th {\n",
       "        vertical-align: top;\n",
       "    }\n",
       "\n",
       "    .dataframe thead th {\n",
       "        text-align: right;\n",
       "    }\n",
       "</style>\n",
       "<table border=\"1\" class=\"dataframe\">\n",
       "  <thead>\n",
       "    <tr style=\"text-align: right;\">\n",
       "      <th></th>\n",
       "      <th>Actual</th>\n",
       "      <th>Prediction</th>\n",
       "    </tr>\n",
       "  </thead>\n",
       "  <tbody>\n",
       "    <tr>\n",
       "      <th>984</th>\n",
       "      <td>2.30</td>\n",
       "      <td>2.30</td>\n",
       "    </tr>\n",
       "    <tr>\n",
       "      <th>966</th>\n",
       "      <td>2.21</td>\n",
       "      <td>2.20</td>\n",
       "    </tr>\n",
       "    <tr>\n",
       "      <th>1053</th>\n",
       "      <td>1.95</td>\n",
       "      <td>1.95</td>\n",
       "    </tr>\n",
       "    <tr>\n",
       "      <th>1069</th>\n",
       "      <td>2.03</td>\n",
       "      <td>2.04</td>\n",
       "    </tr>\n",
       "    <tr>\n",
       "      <th>1064</th>\n",
       "      <td>2.00</td>\n",
       "      <td>2.00</td>\n",
       "    </tr>\n",
       "    <tr>\n",
       "      <th>...</th>\n",
       "      <td>...</td>\n",
       "      <td>...</td>\n",
       "    </tr>\n",
       "    <tr>\n",
       "      <th>1044</th>\n",
       "      <td>1.94</td>\n",
       "      <td>1.94</td>\n",
       "    </tr>\n",
       "    <tr>\n",
       "      <th>1077</th>\n",
       "      <td>2.09</td>\n",
       "      <td>2.08</td>\n",
       "    </tr>\n",
       "    <tr>\n",
       "      <th>1154</th>\n",
       "      <td>2.22</td>\n",
       "      <td>2.22</td>\n",
       "    </tr>\n",
       "    <tr>\n",
       "      <th>1137</th>\n",
       "      <td>3.23</td>\n",
       "      <td>3.24</td>\n",
       "    </tr>\n",
       "    <tr>\n",
       "      <th>1071</th>\n",
       "      <td>2.05</td>\n",
       "      <td>2.04</td>\n",
       "    </tr>\n",
       "  </tbody>\n",
       "</table>\n",
       "<p>72 rows × 2 columns</p>\n",
       "</div>"
      ],
      "text/plain": [
       "      Actual  Prediction\n",
       "984     2.30        2.30\n",
       "966     2.21        2.20\n",
       "1053    1.95        1.95\n",
       "1069    2.03        2.04\n",
       "1064    2.00        2.00\n",
       "...      ...         ...\n",
       "1044    1.94        1.94\n",
       "1077    2.09        2.08\n",
       "1154    2.22        2.22\n",
       "1137    3.23        3.24\n",
       "1071    2.05        2.04\n",
       "\n",
       "[72 rows x 2 columns]"
      ]
     },
     "execution_count": 713,
     "metadata": {},
     "output_type": "execute_result"
    }
   ],
   "source": [
    "import numpy as np\n",
    "from sklearn.model_selection import train_test_split\n",
    "from sklearn.tree import DecisionTreeRegressor\n",
    "from sklearn.metrics import mean_squared_error,r2_score\n",
    "from sklearn.preprocessing import OneHotEncoder\n",
    "\n",
    "X6 = c5[[\"yr\",\"mth\",\"food_item\"]]\n",
    "y6 = c5[[\"Price(USD)\"]]\n",
    "\n",
    "X_train6, X_test6, y_train6, y_test6 = train_test_split(X6, y6, test_size=0.3, random_state=42)\n",
    "\n",
    "decision_tree_regressor = DecisionTreeRegressor(random_state=42)\n",
    "\n",
    "decision_tree_regressor.fit(X_train6, y_train6)\n",
    "\n",
    "y_predc5= decision_tree_regressor.predict(X_test6)\n",
    "dtc5 = pd.DataFrame()\n",
    "dtc5[\"Actual\"] = y_test6\n",
    "dtc5[\"Prediction\"] = y_predc5\n",
    "dtc5"
   ]
  },
  {
   "cell_type": "code",
   "execution_count": 714,
   "id": "f0290da1",
   "metadata": {},
   "outputs": [
    {
     "name": "stdout",
     "output_type": "stream",
     "text": [
      "Mean Squared Error: 7.916666666666723e-05\n",
      "RMSE:  0.008897565210026125\n"
     ]
    }
   ],
   "source": [
    "msec5 = mean_squared_error(y_test6, y_predc5)\n",
    "print(\"Mean Squared Error:\", msec5)\n",
    "print(\"RMSE: \", msec5**(1/2.0)) "
   ]
  },
  {
   "cell_type": "code",
   "execution_count": 715,
   "id": "97cd0690",
   "metadata": {},
   "outputs": [
    {
     "name": "stdout",
     "output_type": "stream",
     "text": [
      "R2 score: 0.9995194476176826\n"
     ]
    }
   ],
   "source": [
    "r2c5 = r2_score(y_test6, y_predc5)\n",
    "print(\"R2 score:\",r2c5)"
   ]
  },
  {
   "cell_type": "markdown",
   "id": "3219a76f",
   "metadata": {},
   "source": [
    "#### RF"
   ]
  },
  {
   "cell_type": "code",
   "execution_count": 716,
   "id": "b8af2885",
   "metadata": {},
   "outputs": [
    {
     "name": "stderr",
     "output_type": "stream",
     "text": [
      "C:\\Users\\LEECHI~1\\AppData\\Local\\Temp/ipykernel_8420/1012678434.py:18: DataConversionWarning: A column-vector y was passed when a 1d array was expected. Please change the shape of y to (n_samples,), for example using ravel().\n",
      "  random_forest_regressor.fit(X_train_encoded7, y_train)\n"
     ]
    },
    {
     "data": {
      "text/html": [
       "<div>\n",
       "<style scoped>\n",
       "    .dataframe tbody tr th:only-of-type {\n",
       "        vertical-align: middle;\n",
       "    }\n",
       "\n",
       "    .dataframe tbody tr th {\n",
       "        vertical-align: top;\n",
       "    }\n",
       "\n",
       "    .dataframe thead th {\n",
       "        text-align: right;\n",
       "    }\n",
       "</style>\n",
       "<table border=\"1\" class=\"dataframe\">\n",
       "  <thead>\n",
       "    <tr style=\"text-align: right;\">\n",
       "      <th></th>\n",
       "      <th>Actual</th>\n",
       "      <th>Prediction</th>\n",
       "    </tr>\n",
       "  </thead>\n",
       "  <tbody>\n",
       "    <tr>\n",
       "      <th>1178</th>\n",
       "      <td>2.28</td>\n",
       "      <td>2.3121</td>\n",
       "    </tr>\n",
       "    <tr>\n",
       "      <th>865</th>\n",
       "      <td>1.55</td>\n",
       "      <td>1.5739</td>\n",
       "    </tr>\n",
       "    <tr>\n",
       "      <th>101</th>\n",
       "      <td>1.07</td>\n",
       "      <td>1.0779</td>\n",
       "    </tr>\n",
       "    <tr>\n",
       "      <th>439</th>\n",
       "      <td>1.13</td>\n",
       "      <td>1.1254</td>\n",
       "    </tr>\n",
       "    <tr>\n",
       "      <th>58</th>\n",
       "      <td>1.95</td>\n",
       "      <td>1.8633</td>\n",
       "    </tr>\n",
       "    <tr>\n",
       "      <th>...</th>\n",
       "      <td>...</td>\n",
       "      <td>...</td>\n",
       "    </tr>\n",
       "    <tr>\n",
       "      <th>47</th>\n",
       "      <td>1.80</td>\n",
       "      <td>1.6782</td>\n",
       "    </tr>\n",
       "    <tr>\n",
       "      <th>318</th>\n",
       "      <td>1.10</td>\n",
       "      <td>1.0839</td>\n",
       "    </tr>\n",
       "    <tr>\n",
       "      <th>106</th>\n",
       "      <td>1.14</td>\n",
       "      <td>1.0782</td>\n",
       "    </tr>\n",
       "    <tr>\n",
       "      <th>798</th>\n",
       "      <td>0.81</td>\n",
       "      <td>0.8162</td>\n",
       "    </tr>\n",
       "    <tr>\n",
       "      <th>55</th>\n",
       "      <td>1.91</td>\n",
       "      <td>1.8632</td>\n",
       "    </tr>\n",
       "  </tbody>\n",
       "</table>\n",
       "<p>360 rows × 2 columns</p>\n",
       "</div>"
      ],
      "text/plain": [
       "      Actual  Prediction\n",
       "1178    2.28      2.3121\n",
       "865     1.55      1.5739\n",
       "101     1.07      1.0779\n",
       "439     1.13      1.1254\n",
       "58      1.95      1.8633\n",
       "...      ...         ...\n",
       "47      1.80      1.6782\n",
       "318     1.10      1.0839\n",
       "106     1.14      1.0782\n",
       "798     0.81      0.8162\n",
       "55      1.91      1.8632\n",
       "\n",
       "[360 rows x 2 columns]"
      ]
     },
     "execution_count": 716,
     "metadata": {},
     "output_type": "execute_result"
    }
   ],
   "source": [
    "import numpy as np\n",
    "from sklearn.model_selection import train_test_split\n",
    "from sklearn.ensemble import RandomForestRegressor\n",
    "from sklearn.metrics import mean_squared_error,r2_score\n",
    "from sklearn.preprocessing import OneHotEncoder\n",
    "\n",
    "X7 = df[[\"ctry\",\"yr\",\"mth\",\"food_item\",\"qlt\"]]\n",
    "y7 = df[[\"Price(USD)\"]]\n",
    "\n",
    "X_train7, X_test7, y_train7, y_test7 = train_test_split(X7, y7, test_size=0.3, random_state=42)\n",
    "\n",
    "encoder = OneHotEncoder(handle_unknown='ignore', sparse=False)\n",
    "X_train_encoded7 = encoder.fit_transform(X_train7)\n",
    "X_test_encoded7 = encoder.transform(X_test7)\n",
    "\n",
    "random_forest_regressor = RandomForestRegressor(n_estimators=100, random_state=42)\n",
    "\n",
    "random_forest_regressor.fit(X_train_encoded7, y_train)\n",
    "\n",
    "y_predrf = random_forest_regressor.predict(X_test_encoded7)\n",
    "rf = pd.DataFrame()\n",
    "rf[\"Actual\"] = y_test7\n",
    "rf[\"Prediction\"] = y_predrf\n",
    "rf"
   ]
  },
  {
   "cell_type": "code",
   "execution_count": 717,
   "id": "36e96025",
   "metadata": {},
   "outputs": [
    {
     "name": "stdout",
     "output_type": "stream",
     "text": [
      "Mean Squared Error: 0.003099982944444442\n",
      "RMSE:  0.05567749046467919\n"
     ]
    }
   ],
   "source": [
    "mserf = mean_squared_error(y_test7, y_predrf)\n",
    "print(\"Mean Squared Error:\", mserf)\n",
    "print(\"RMSE: \", mserf**(1/2.0)) "
   ]
  },
  {
   "cell_type": "code",
   "execution_count": 718,
   "id": "2d520812",
   "metadata": {},
   "outputs": [
    {
     "name": "stdout",
     "output_type": "stream",
     "text": [
      "R2 score: 0.9939873073568946\n"
     ]
    }
   ],
   "source": [
    "r2rf = r2_score(y_test7, y_predrf)\n",
    "print(\"R2 score:\",r2rf)"
   ]
  },
  {
   "cell_type": "markdown",
   "id": "fd6c16df",
   "metadata": {},
   "source": [
    "#### AUSTRALIA"
   ]
  },
  {
   "cell_type": "code",
   "execution_count": 737,
   "id": "123e6020",
   "metadata": {},
   "outputs": [
    {
     "name": "stderr",
     "output_type": "stream",
     "text": [
      "C:\\Users\\LEECHI~1\\AppData\\Local\\Temp/ipykernel_8420/3134107621.py:18: DataConversionWarning: A column-vector y was passed when a 1d array was expected. Please change the shape of y to (n_samples,), for example using ravel().\n",
      "  random_forest_regressor.fit(X_train_encoded, y_train)\n"
     ]
    },
    {
     "data": {
      "text/html": [
       "<div>\n",
       "<style scoped>\n",
       "    .dataframe tbody tr th:only-of-type {\n",
       "        vertical-align: middle;\n",
       "    }\n",
       "\n",
       "    .dataframe tbody tr th {\n",
       "        vertical-align: top;\n",
       "    }\n",
       "\n",
       "    .dataframe thead th {\n",
       "        text-align: right;\n",
       "    }\n",
       "</style>\n",
       "<table border=\"1\" class=\"dataframe\">\n",
       "  <thead>\n",
       "    <tr style=\"text-align: right;\">\n",
       "      <th></th>\n",
       "      <th>Actual</th>\n",
       "      <th>Prediction</th>\n",
       "    </tr>\n",
       "  </thead>\n",
       "  <tbody>\n",
       "    <tr>\n",
       "      <th>24</th>\n",
       "      <td>1.59</td>\n",
       "      <td>1.5965</td>\n",
       "    </tr>\n",
       "    <tr>\n",
       "      <th>6</th>\n",
       "      <td>1.49</td>\n",
       "      <td>1.4840</td>\n",
       "    </tr>\n",
       "    <tr>\n",
       "      <th>93</th>\n",
       "      <td>0.99</td>\n",
       "      <td>0.9814</td>\n",
       "    </tr>\n",
       "    <tr>\n",
       "      <th>109</th>\n",
       "      <td>1.17</td>\n",
       "      <td>1.1717</td>\n",
       "    </tr>\n",
       "    <tr>\n",
       "      <th>104</th>\n",
       "      <td>1.11</td>\n",
       "      <td>1.0929</td>\n",
       "    </tr>\n",
       "    <tr>\n",
       "      <th>...</th>\n",
       "      <td>...</td>\n",
       "      <td>...</td>\n",
       "    </tr>\n",
       "    <tr>\n",
       "      <th>84</th>\n",
       "      <td>0.96</td>\n",
       "      <td>0.9805</td>\n",
       "    </tr>\n",
       "    <tr>\n",
       "      <th>117</th>\n",
       "      <td>1.18</td>\n",
       "      <td>1.1775</td>\n",
       "    </tr>\n",
       "    <tr>\n",
       "      <th>194</th>\n",
       "      <td>2.22</td>\n",
       "      <td>2.2571</td>\n",
       "    </tr>\n",
       "    <tr>\n",
       "      <th>177</th>\n",
       "      <td>3.91</td>\n",
       "      <td>3.6060</td>\n",
       "    </tr>\n",
       "    <tr>\n",
       "      <th>111</th>\n",
       "      <td>1.17</td>\n",
       "      <td>1.1752</td>\n",
       "    </tr>\n",
       "  </tbody>\n",
       "</table>\n",
       "<p>72 rows × 2 columns</p>\n",
       "</div>"
      ],
      "text/plain": [
       "     Actual  Prediction\n",
       "24     1.59      1.5965\n",
       "6      1.49      1.4840\n",
       "93     0.99      0.9814\n",
       "109    1.17      1.1717\n",
       "104    1.11      1.0929\n",
       "..      ...         ...\n",
       "84     0.96      0.9805\n",
       "117    1.18      1.1775\n",
       "194    2.22      2.2571\n",
       "177    3.91      3.6060\n",
       "111    1.17      1.1752\n",
       "\n",
       "[72 rows x 2 columns]"
      ]
     },
     "execution_count": 737,
     "metadata": {},
     "output_type": "execute_result"
    }
   ],
   "source": [
    "import numpy as np\n",
    "from sklearn.model_selection import train_test_split\n",
    "from sklearn.ensemble import RandomForestRegressor\n",
    "from sklearn.metrics import mean_squared_error,r2_score\n",
    "from sklearn.preprocessing import OneHotEncoder\n",
    "\n",
    "X = c1[[\"ctry\",\"yr\",\"mth\",\"food_item\"]]\n",
    "y = c1[[\"Price(USD)\"]]\n",
    "\n",
    "X_train, X_test, y_train, y_test = train_test_split(X, y, test_size=0.3, random_state=42)\n",
    "\n",
    "encoder = OneHotEncoder(handle_unknown='ignore', sparse=False)\n",
    "X_train_encoded = encoder.fit_transform(X_train)\n",
    "X_test_encoded = encoder.transform(X_test)\n",
    "\n",
    "random_forest_regressor = RandomForestRegressor(n_estimators=100, random_state=42)\n",
    "\n",
    "random_forest_regressor.fit(X_train_encoded, y_train)\n",
    "\n",
    "y_predrf = random_forest_regressor.predict(X_test_encoded)\n",
    "rf = pd.DataFrame()\n",
    "rf[\"Actual\"] = y_test\n",
    "rf[\"Prediction\"] = y_predrf\n",
    "rf"
   ]
  },
  {
   "cell_type": "code",
   "execution_count": 738,
   "id": "86ce1cdc",
   "metadata": {},
   "outputs": [
    {
     "name": "stdout",
     "output_type": "stream",
     "text": [
      "Mean Squared Error: 0.009089738194444445\n",
      "RMSE:  0.09534011849397107\n"
     ]
    }
   ],
   "source": [
    "mserf = mean_squared_error(y_test, y_predrf)\n",
    "print(\"Mean Squared Error:\", mserf)\n",
    "print(\"RMSE: \", mserf**(1/2.0)) "
   ]
  },
  {
   "cell_type": "code",
   "execution_count": 739,
   "id": "38bc9769",
   "metadata": {},
   "outputs": [
    {
     "name": "stdout",
     "output_type": "stream",
     "text": [
      "R2 score: 0.9850086761662742\n"
     ]
    }
   ],
   "source": [
    "r2rf = r2_score(y_test, y_predrf)\n",
    "print(\"R2 score:\",r2rf)"
   ]
  },
  {
   "cell_type": "markdown",
   "id": "d893df80",
   "metadata": {},
   "source": [
    "#### SWEDEN"
   ]
  },
  {
   "cell_type": "code",
   "execution_count": 740,
   "id": "88d516e1",
   "metadata": {},
   "outputs": [
    {
     "name": "stderr",
     "output_type": "stream",
     "text": [
      "C:\\Users\\LEECHI~1\\AppData\\Local\\Temp/ipykernel_8420/931148506.py:18: DataConversionWarning: A column-vector y was passed when a 1d array was expected. Please change the shape of y to (n_samples,), for example using ravel().\n",
      "  random_forest_regressor.fit(X_train_encoded, y_train)\n"
     ]
    },
    {
     "data": {
      "text/html": [
       "<div>\n",
       "<style scoped>\n",
       "    .dataframe tbody tr th:only-of-type {\n",
       "        vertical-align: middle;\n",
       "    }\n",
       "\n",
       "    .dataframe tbody tr th {\n",
       "        vertical-align: top;\n",
       "    }\n",
       "\n",
       "    .dataframe thead th {\n",
       "        text-align: right;\n",
       "    }\n",
       "</style>\n",
       "<table border=\"1\" class=\"dataframe\">\n",
       "  <thead>\n",
       "    <tr style=\"text-align: right;\">\n",
       "      <th></th>\n",
       "      <th>Actual</th>\n",
       "      <th>Prediction</th>\n",
       "    </tr>\n",
       "  </thead>\n",
       "  <tbody>\n",
       "    <tr>\n",
       "      <th>264</th>\n",
       "      <td>2.06</td>\n",
       "      <td>2.0580</td>\n",
       "    </tr>\n",
       "    <tr>\n",
       "      <th>246</th>\n",
       "      <td>1.85</td>\n",
       "      <td>1.8415</td>\n",
       "    </tr>\n",
       "    <tr>\n",
       "      <th>333</th>\n",
       "      <td>1.17</td>\n",
       "      <td>1.1607</td>\n",
       "    </tr>\n",
       "    <tr>\n",
       "      <th>349</th>\n",
       "      <td>1.29</td>\n",
       "      <td>1.3212</td>\n",
       "    </tr>\n",
       "    <tr>\n",
       "      <th>344</th>\n",
       "      <td>1.24</td>\n",
       "      <td>1.2196</td>\n",
       "    </tr>\n",
       "    <tr>\n",
       "      <th>...</th>\n",
       "      <td>...</td>\n",
       "      <td>...</td>\n",
       "    </tr>\n",
       "    <tr>\n",
       "      <th>324</th>\n",
       "      <td>1.15</td>\n",
       "      <td>1.1592</td>\n",
       "    </tr>\n",
       "    <tr>\n",
       "      <th>357</th>\n",
       "      <td>1.37</td>\n",
       "      <td>1.3542</td>\n",
       "    </tr>\n",
       "    <tr>\n",
       "      <th>434</th>\n",
       "      <td>1.12</td>\n",
       "      <td>1.1033</td>\n",
       "    </tr>\n",
       "    <tr>\n",
       "      <th>417</th>\n",
       "      <td>3.44</td>\n",
       "      <td>3.3093</td>\n",
       "    </tr>\n",
       "    <tr>\n",
       "      <th>351</th>\n",
       "      <td>1.31</td>\n",
       "      <td>1.3318</td>\n",
       "    </tr>\n",
       "  </tbody>\n",
       "</table>\n",
       "<p>72 rows × 2 columns</p>\n",
       "</div>"
      ],
      "text/plain": [
       "     Actual  Prediction\n",
       "264    2.06      2.0580\n",
       "246    1.85      1.8415\n",
       "333    1.17      1.1607\n",
       "349    1.29      1.3212\n",
       "344    1.24      1.2196\n",
       "..      ...         ...\n",
       "324    1.15      1.1592\n",
       "357    1.37      1.3542\n",
       "434    1.12      1.1033\n",
       "417    3.44      3.3093\n",
       "351    1.31      1.3318\n",
       "\n",
       "[72 rows x 2 columns]"
      ]
     },
     "execution_count": 740,
     "metadata": {},
     "output_type": "execute_result"
    }
   ],
   "source": [
    "import numpy as np\n",
    "from sklearn.model_selection import train_test_split\n",
    "from sklearn.ensemble import RandomForestRegressor\n",
    "from sklearn.metrics import mean_squared_error,r2_score\n",
    "from sklearn.preprocessing import OneHotEncoder\n",
    "\n",
    "X = c2[[\"ctry\",\"yr\",\"mth\",\"food_item\"]]\n",
    "y = c2[[\"Price(USD)\"]]\n",
    "\n",
    "X_train, X_test, y_train, y_test = train_test_split(X, y, test_size=0.3, random_state=42)\n",
    "\n",
    "encoder = OneHotEncoder(handle_unknown='ignore', sparse=False)\n",
    "X_train_encoded = encoder.fit_transform(X_train)\n",
    "X_test_encoded = encoder.transform(X_test)\n",
    "\n",
    "random_forest_regressor = RandomForestRegressor(n_estimators=100, random_state=42)\n",
    "\n",
    "random_forest_regressor.fit(X_train_encoded, y_train)\n",
    "\n",
    "y_predrf = random_forest_regressor.predict(X_test_encoded)\n",
    "rf = pd.DataFrame()\n",
    "rf[\"Actual\"] = y_test\n",
    "rf[\"Prediction\"] = y_predrf\n",
    "rf"
   ]
  },
  {
   "cell_type": "code",
   "execution_count": 741,
   "id": "93dc22f0",
   "metadata": {},
   "outputs": [
    {
     "name": "stdout",
     "output_type": "stream",
     "text": [
      "Mean Squared Error: 0.00182340402777776\n",
      "RMSE:  0.04270133519900472\n"
     ]
    }
   ],
   "source": [
    "mserf = mean_squared_error(y_test, y_predrf)\n",
    "print(\"Mean Squared Error:\", mserf)\n",
    "print(\"RMSE: \", mserf**(1/2.0)) "
   ]
  },
  {
   "cell_type": "code",
   "execution_count": 742,
   "id": "552d729c",
   "metadata": {},
   "outputs": [
    {
     "name": "stdout",
     "output_type": "stream",
     "text": [
      "R2 score: 0.9968010802081416\n"
     ]
    }
   ],
   "source": [
    "r2rf = r2_score(y_test, y_predrf)\n",
    "print(\"R2 score:\",r2rf)"
   ]
  },
  {
   "cell_type": "markdown",
   "id": "c6da45cf",
   "metadata": {},
   "source": [
    "#### JAPAN"
   ]
  },
  {
   "cell_type": "code",
   "execution_count": 746,
   "id": "7c552643",
   "metadata": {},
   "outputs": [
    {
     "name": "stderr",
     "output_type": "stream",
     "text": [
      "C:\\Users\\LEECHI~1\\AppData\\Local\\Temp/ipykernel_8420/538077921.py:18: DataConversionWarning: A column-vector y was passed when a 1d array was expected. Please change the shape of y to (n_samples,), for example using ravel().\n",
      "  random_forest_regressor.fit(X_train_encoded, y_train)\n"
     ]
    },
    {
     "data": {
      "text/html": [
       "<div>\n",
       "<style scoped>\n",
       "    .dataframe tbody tr th:only-of-type {\n",
       "        vertical-align: middle;\n",
       "    }\n",
       "\n",
       "    .dataframe tbody tr th {\n",
       "        vertical-align: top;\n",
       "    }\n",
       "\n",
       "    .dataframe thead th {\n",
       "        text-align: right;\n",
       "    }\n",
       "</style>\n",
       "<table border=\"1\" class=\"dataframe\">\n",
       "  <thead>\n",
       "    <tr style=\"text-align: right;\">\n",
       "      <th></th>\n",
       "      <th>Actual</th>\n",
       "      <th>Prediction</th>\n",
       "    </tr>\n",
       "  </thead>\n",
       "  <tbody>\n",
       "    <tr>\n",
       "      <th>504</th>\n",
       "      <td>1.41</td>\n",
       "      <td>1.3831</td>\n",
       "    </tr>\n",
       "    <tr>\n",
       "      <th>486</th>\n",
       "      <td>1.36</td>\n",
       "      <td>1.3543</td>\n",
       "    </tr>\n",
       "    <tr>\n",
       "      <th>573</th>\n",
       "      <td>1.38</td>\n",
       "      <td>1.3805</td>\n",
       "    </tr>\n",
       "    <tr>\n",
       "      <th>589</th>\n",
       "      <td>1.39</td>\n",
       "      <td>1.4128</td>\n",
       "    </tr>\n",
       "    <tr>\n",
       "      <th>584</th>\n",
       "      <td>1.39</td>\n",
       "      <td>1.3897</td>\n",
       "    </tr>\n",
       "    <tr>\n",
       "      <th>...</th>\n",
       "      <td>...</td>\n",
       "      <td>...</td>\n",
       "    </tr>\n",
       "    <tr>\n",
       "      <th>564</th>\n",
       "      <td>1.38</td>\n",
       "      <td>1.3797</td>\n",
       "    </tr>\n",
       "    <tr>\n",
       "      <th>597</th>\n",
       "      <td>1.41</td>\n",
       "      <td>1.4178</td>\n",
       "    </tr>\n",
       "    <tr>\n",
       "      <th>674</th>\n",
       "      <td>2.62</td>\n",
       "      <td>2.6766</td>\n",
       "    </tr>\n",
       "    <tr>\n",
       "      <th>657</th>\n",
       "      <td>1.88</td>\n",
       "      <td>1.8470</td>\n",
       "    </tr>\n",
       "    <tr>\n",
       "      <th>591</th>\n",
       "      <td>1.39</td>\n",
       "      <td>1.4139</td>\n",
       "    </tr>\n",
       "  </tbody>\n",
       "</table>\n",
       "<p>72 rows × 2 columns</p>\n",
       "</div>"
      ],
      "text/plain": [
       "     Actual  Prediction\n",
       "504    1.41      1.3831\n",
       "486    1.36      1.3543\n",
       "573    1.38      1.3805\n",
       "589    1.39      1.4128\n",
       "584    1.39      1.3897\n",
       "..      ...         ...\n",
       "564    1.38      1.3797\n",
       "597    1.41      1.4178\n",
       "674    2.62      2.6766\n",
       "657    1.88      1.8470\n",
       "591    1.39      1.4139\n",
       "\n",
       "[72 rows x 2 columns]"
      ]
     },
     "execution_count": 746,
     "metadata": {},
     "output_type": "execute_result"
    }
   ],
   "source": [
    "import numpy as np\n",
    "from sklearn.model_selection import train_test_split\n",
    "from sklearn.ensemble import RandomForestRegressor\n",
    "from sklearn.metrics import mean_squared_error,r2_score\n",
    "from sklearn.preprocessing import OneHotEncoder\n",
    "\n",
    "X = c3[[\"ctry\",\"yr\",\"mth\",\"food_item\"]]\n",
    "y = c3[[\"Price(USD)\"]]\n",
    "\n",
    "X_train, X_test, y_train, y_test = train_test_split(X, y, test_size=0.3, random_state=42)\n",
    "\n",
    "encoder = OneHotEncoder(handle_unknown='ignore', sparse=False)\n",
    "X_train_encoded = encoder.fit_transform(X_train)\n",
    "X_test_encoded = encoder.transform(X_test)\n",
    "\n",
    "random_forest_regressor = RandomForestRegressor(n_estimators=100, random_state=42)\n",
    "\n",
    "random_forest_regressor.fit(X_train_encoded, y_train)\n",
    "\n",
    "y_predrf = random_forest_regressor.predict(X_test_encoded)\n",
    "rf = pd.DataFrame()\n",
    "rf[\"Actual\"] = y_test\n",
    "rf[\"Prediction\"] = y_predrf\n",
    "rf"
   ]
  },
  {
   "cell_type": "code",
   "execution_count": 747,
   "id": "a8ad9115",
   "metadata": {},
   "outputs": [
    {
     "name": "stdout",
     "output_type": "stream",
     "text": [
      "Mean Squared Error: 0.000658849027777765\n",
      "RMSE:  0.02566805461615206\n"
     ]
    }
   ],
   "source": [
    "mserf = mean_squared_error(y_test, y_predrf)\n",
    "print(\"Mean Squared Error:\", mserf)\n",
    "print(\"RMSE: \", mserf**(1/2.0)) "
   ]
  },
  {
   "cell_type": "code",
   "execution_count": 748,
   "id": "96b369eb",
   "metadata": {},
   "outputs": [
    {
     "name": "stdout",
     "output_type": "stream",
     "text": [
      "R2 score: 0.9981358994937718\n"
     ]
    }
   ],
   "source": [
    "r2rf = r2_score(y_test, y_predrf)\n",
    "print(\"R2 score:\",r2rf)"
   ]
  },
  {
   "cell_type": "markdown",
   "id": "8c64e26c",
   "metadata": {},
   "source": [
    "#### SOUTH AFRICA"
   ]
  },
  {
   "cell_type": "code",
   "execution_count": 749,
   "id": "d57f1bdb",
   "metadata": {},
   "outputs": [
    {
     "name": "stderr",
     "output_type": "stream",
     "text": [
      "C:\\Users\\LEECHI~1\\AppData\\Local\\Temp/ipykernel_8420/2384947172.py:18: DataConversionWarning: A column-vector y was passed when a 1d array was expected. Please change the shape of y to (n_samples,), for example using ravel().\n",
      "  random_forest_regressor.fit(X_train_encoded, y_train)\n"
     ]
    },
    {
     "data": {
      "text/html": [
       "<div>\n",
       "<style scoped>\n",
       "    .dataframe tbody tr th:only-of-type {\n",
       "        vertical-align: middle;\n",
       "    }\n",
       "\n",
       "    .dataframe tbody tr th {\n",
       "        vertical-align: top;\n",
       "    }\n",
       "\n",
       "    .dataframe thead th {\n",
       "        text-align: right;\n",
       "    }\n",
       "</style>\n",
       "<table border=\"1\" class=\"dataframe\">\n",
       "  <thead>\n",
       "    <tr style=\"text-align: right;\">\n",
       "      <th></th>\n",
       "      <th>Actual</th>\n",
       "      <th>Prediction</th>\n",
       "    </tr>\n",
       "  </thead>\n",
       "  <tbody>\n",
       "    <tr>\n",
       "      <th>744</th>\n",
       "      <td>0.76</td>\n",
       "      <td>0.7743</td>\n",
       "    </tr>\n",
       "    <tr>\n",
       "      <th>726</th>\n",
       "      <td>0.71</td>\n",
       "      <td>0.7060</td>\n",
       "    </tr>\n",
       "    <tr>\n",
       "      <th>813</th>\n",
       "      <td>0.85</td>\n",
       "      <td>0.8407</td>\n",
       "    </tr>\n",
       "    <tr>\n",
       "      <th>829</th>\n",
       "      <td>0.90</td>\n",
       "      <td>0.9342</td>\n",
       "    </tr>\n",
       "    <tr>\n",
       "      <th>824</th>\n",
       "      <td>0.88</td>\n",
       "      <td>0.8797</td>\n",
       "    </tr>\n",
       "    <tr>\n",
       "      <th>...</th>\n",
       "      <td>...</td>\n",
       "      <td>...</td>\n",
       "    </tr>\n",
       "    <tr>\n",
       "      <th>804</th>\n",
       "      <td>0.82</td>\n",
       "      <td>0.8407</td>\n",
       "    </tr>\n",
       "    <tr>\n",
       "      <th>837</th>\n",
       "      <td>0.94</td>\n",
       "      <td>0.9351</td>\n",
       "    </tr>\n",
       "    <tr>\n",
       "      <th>914</th>\n",
       "      <td>0.89</td>\n",
       "      <td>0.9044</td>\n",
       "    </tr>\n",
       "    <tr>\n",
       "      <th>897</th>\n",
       "      <td>1.71</td>\n",
       "      <td>1.6837</td>\n",
       "    </tr>\n",
       "    <tr>\n",
       "      <th>831</th>\n",
       "      <td>0.91</td>\n",
       "      <td>0.9346</td>\n",
       "    </tr>\n",
       "  </tbody>\n",
       "</table>\n",
       "<p>72 rows × 2 columns</p>\n",
       "</div>"
      ],
      "text/plain": [
       "     Actual  Prediction\n",
       "744    0.76      0.7743\n",
       "726    0.71      0.7060\n",
       "813    0.85      0.8407\n",
       "829    0.90      0.9342\n",
       "824    0.88      0.8797\n",
       "..      ...         ...\n",
       "804    0.82      0.8407\n",
       "837    0.94      0.9351\n",
       "914    0.89      0.9044\n",
       "897    1.71      1.6837\n",
       "831    0.91      0.9346\n",
       "\n",
       "[72 rows x 2 columns]"
      ]
     },
     "execution_count": 749,
     "metadata": {},
     "output_type": "execute_result"
    }
   ],
   "source": [
    "import numpy as np\n",
    "from sklearn.model_selection import train_test_split\n",
    "from sklearn.ensemble import RandomForestRegressor\n",
    "from sklearn.metrics import mean_squared_error,r2_score\n",
    "from sklearn.preprocessing import OneHotEncoder\n",
    "\n",
    "X = c4[[\"ctry\",\"yr\",\"mth\",\"food_item\"]]\n",
    "y = c4[[\"Price(USD)\"]]\n",
    "\n",
    "X_train, X_test, y_train, y_test = train_test_split(X, y, test_size=0.3, random_state=42)\n",
    "\n",
    "encoder = OneHotEncoder(handle_unknown='ignore', sparse=False)\n",
    "X_train_encoded = encoder.fit_transform(X_train)\n",
    "X_test_encoded = encoder.transform(X_test)\n",
    "\n",
    "random_forest_regressor = RandomForestRegressor(n_estimators=100, random_state=42)\n",
    "\n",
    "random_forest_regressor.fit(X_train_encoded, y_train)\n",
    "\n",
    "y_predrf = random_forest_regressor.predict(X_test_encoded)\n",
    "rf = pd.DataFrame()\n",
    "rf[\"Actual\"] = y_test\n",
    "rf[\"Prediction\"] = y_predrf\n",
    "rf"
   ]
  },
  {
   "cell_type": "code",
   "execution_count": 750,
   "id": "e0985d84",
   "metadata": {},
   "outputs": [
    {
     "name": "stdout",
     "output_type": "stream",
     "text": [
      "Mean Squared Error: 0.00024093180555555545\n",
      "RMSE:  0.015521978145698938\n"
     ]
    }
   ],
   "source": [
    "mserf = mean_squared_error(y_test, y_predrf)\n",
    "print(\"Mean Squared Error:\", mserf)\n",
    "print(\"RMSE: \", mserf**(1/2.0)) "
   ]
  },
  {
   "cell_type": "code",
   "execution_count": 751,
   "id": "a790f4fd",
   "metadata": {},
   "outputs": [
    {
     "name": "stdout",
     "output_type": "stream",
     "text": [
      "R2 score: 0.9975197178374555\n"
     ]
    }
   ],
   "source": [
    "r2rf = r2_score(y_test, y_predrf)\n",
    "print(\"R2 score:\",r2rf)"
   ]
  },
  {
   "cell_type": "markdown",
   "id": "2d47484e",
   "metadata": {},
   "source": [
    "#### CANADA"
   ]
  },
  {
   "cell_type": "code",
   "execution_count": 752,
   "id": "019d43ad",
   "metadata": {},
   "outputs": [
    {
     "name": "stderr",
     "output_type": "stream",
     "text": [
      "C:\\Users\\LEECHI~1\\AppData\\Local\\Temp/ipykernel_8420/2529030959.py:18: DataConversionWarning: A column-vector y was passed when a 1d array was expected. Please change the shape of y to (n_samples,), for example using ravel().\n",
      "  random_forest_regressor.fit(X_train_encoded, y_train)\n"
     ]
    },
    {
     "data": {
      "text/html": [
       "<div>\n",
       "<style scoped>\n",
       "    .dataframe tbody tr th:only-of-type {\n",
       "        vertical-align: middle;\n",
       "    }\n",
       "\n",
       "    .dataframe tbody tr th {\n",
       "        vertical-align: top;\n",
       "    }\n",
       "\n",
       "    .dataframe thead th {\n",
       "        text-align: right;\n",
       "    }\n",
       "</style>\n",
       "<table border=\"1\" class=\"dataframe\">\n",
       "  <thead>\n",
       "    <tr style=\"text-align: right;\">\n",
       "      <th></th>\n",
       "      <th>Actual</th>\n",
       "      <th>Prediction</th>\n",
       "    </tr>\n",
       "  </thead>\n",
       "  <tbody>\n",
       "    <tr>\n",
       "      <th>984</th>\n",
       "      <td>2.30</td>\n",
       "      <td>2.3076</td>\n",
       "    </tr>\n",
       "    <tr>\n",
       "      <th>966</th>\n",
       "      <td>2.21</td>\n",
       "      <td>2.2001</td>\n",
       "    </tr>\n",
       "    <tr>\n",
       "      <th>1053</th>\n",
       "      <td>1.95</td>\n",
       "      <td>1.9452</td>\n",
       "    </tr>\n",
       "    <tr>\n",
       "      <th>1069</th>\n",
       "      <td>2.03</td>\n",
       "      <td>2.0833</td>\n",
       "    </tr>\n",
       "    <tr>\n",
       "      <th>1064</th>\n",
       "      <td>2.00</td>\n",
       "      <td>1.9930</td>\n",
       "    </tr>\n",
       "    <tr>\n",
       "      <th>...</th>\n",
       "      <td>...</td>\n",
       "      <td>...</td>\n",
       "    </tr>\n",
       "    <tr>\n",
       "      <th>1044</th>\n",
       "      <td>1.94</td>\n",
       "      <td>1.9424</td>\n",
       "    </tr>\n",
       "    <tr>\n",
       "      <th>1077</th>\n",
       "      <td>2.09</td>\n",
       "      <td>2.0834</td>\n",
       "    </tr>\n",
       "    <tr>\n",
       "      <th>1154</th>\n",
       "      <td>2.22</td>\n",
       "      <td>2.2372</td>\n",
       "    </tr>\n",
       "    <tr>\n",
       "      <th>1137</th>\n",
       "      <td>3.23</td>\n",
       "      <td>3.1766</td>\n",
       "    </tr>\n",
       "    <tr>\n",
       "      <th>1071</th>\n",
       "      <td>2.05</td>\n",
       "      <td>2.0833</td>\n",
       "    </tr>\n",
       "  </tbody>\n",
       "</table>\n",
       "<p>72 rows × 2 columns</p>\n",
       "</div>"
      ],
      "text/plain": [
       "      Actual  Prediction\n",
       "984     2.30      2.3076\n",
       "966     2.21      2.2001\n",
       "1053    1.95      1.9452\n",
       "1069    2.03      2.0833\n",
       "1064    2.00      1.9930\n",
       "...      ...         ...\n",
       "1044    1.94      1.9424\n",
       "1077    2.09      2.0834\n",
       "1154    2.22      2.2372\n",
       "1137    3.23      3.1766\n",
       "1071    2.05      2.0833\n",
       "\n",
       "[72 rows x 2 columns]"
      ]
     },
     "execution_count": 752,
     "metadata": {},
     "output_type": "execute_result"
    }
   ],
   "source": [
    "import numpy as np\n",
    "from sklearn.model_selection import train_test_split\n",
    "from sklearn.ensemble import RandomForestRegressor\n",
    "from sklearn.metrics import mean_squared_error,r2_score\n",
    "from sklearn.preprocessing import OneHotEncoder\n",
    "\n",
    "X = c5[[\"ctry\",\"yr\",\"mth\",\"food_item\"]]\n",
    "y = c5[[\"Price(USD)\"]]\n",
    "\n",
    "X_train, X_test, y_train, y_test = train_test_split(X, y, test_size=0.3, random_state=42)\n",
    "\n",
    "encoder = OneHotEncoder(handle_unknown='ignore', sparse=False)\n",
    "X_train_encoded = encoder.fit_transform(X_train)\n",
    "X_test_encoded = encoder.transform(X_test)\n",
    "\n",
    "random_forest_regressor = RandomForestRegressor(n_estimators=100, random_state=42)\n",
    "\n",
    "random_forest_regressor.fit(X_train_encoded, y_train)\n",
    "\n",
    "y_predrf = random_forest_regressor.predict(X_test_encoded)\n",
    "rf = pd.DataFrame()\n",
    "rf[\"Actual\"] = y_test\n",
    "rf[\"Prediction\"] = y_predrf\n",
    "rf"
   ]
  },
  {
   "cell_type": "code",
   "execution_count": 753,
   "id": "3dfdaa6f",
   "metadata": {},
   "outputs": [
    {
     "name": "stdout",
     "output_type": "stream",
     "text": [
      "Mean Squared Error: 0.0005207736111111133\n",
      "RMSE:  0.02282046474353915\n"
     ]
    }
   ],
   "source": [
    "mserf = mean_squared_error(y_test, y_predrf)\n",
    "print(\"Mean Squared Error:\", mserf)\n",
    "print(\"RMSE: \", mserf**(1/2.0)) "
   ]
  },
  {
   "cell_type": "code",
   "execution_count": 754,
   "id": "3df05b60",
   "metadata": {},
   "outputs": [
    {
     "name": "stdout",
     "output_type": "stream",
     "text": [
      "R2 score: 0.9968388336909374\n"
     ]
    }
   ],
   "source": [
    "r2rf = r2_score(y_test, y_predrf)\n",
    "print(\"R2 score:\",r2rf)"
   ]
  },
  {
   "cell_type": "markdown",
   "id": "e3d69798",
   "metadata": {},
   "source": [
    "##### Best among Decision Tree and Random Forest is Random Forest"
   ]
  },
  {
   "cell_type": "markdown",
   "id": "a4c9bd53",
   "metadata": {},
   "source": [
    "#### KNN"
   ]
  },
  {
   "cell_type": "code",
   "execution_count": 790,
   "id": "4e49ef58",
   "metadata": {},
   "outputs": [
    {
     "data": {
      "text/html": [
       "<div>\n",
       "<style scoped>\n",
       "    .dataframe tbody tr th:only-of-type {\n",
       "        vertical-align: middle;\n",
       "    }\n",
       "\n",
       "    .dataframe tbody tr th {\n",
       "        vertical-align: top;\n",
       "    }\n",
       "\n",
       "    .dataframe thead th {\n",
       "        text-align: right;\n",
       "    }\n",
       "</style>\n",
       "<table border=\"1\" class=\"dataframe\">\n",
       "  <thead>\n",
       "    <tr style=\"text-align: right;\">\n",
       "      <th></th>\n",
       "      <th>Actual</th>\n",
       "      <th>Prediction</th>\n",
       "    </tr>\n",
       "  </thead>\n",
       "  <tbody>\n",
       "    <tr>\n",
       "      <th>1178</th>\n",
       "      <td>2.28</td>\n",
       "      <td>2.352857</td>\n",
       "    </tr>\n",
       "    <tr>\n",
       "      <th>865</th>\n",
       "      <td>1.55</td>\n",
       "      <td>1.542857</td>\n",
       "    </tr>\n",
       "    <tr>\n",
       "      <th>101</th>\n",
       "      <td>1.07</td>\n",
       "      <td>1.398571</td>\n",
       "    </tr>\n",
       "    <tr>\n",
       "      <th>439</th>\n",
       "      <td>1.13</td>\n",
       "      <td>1.395714</td>\n",
       "    </tr>\n",
       "    <tr>\n",
       "      <th>58</th>\n",
       "      <td>1.95</td>\n",
       "      <td>1.791429</td>\n",
       "    </tr>\n",
       "    <tr>\n",
       "      <th>...</th>\n",
       "      <td>...</td>\n",
       "      <td>...</td>\n",
       "    </tr>\n",
       "    <tr>\n",
       "      <th>47</th>\n",
       "      <td>1.80</td>\n",
       "      <td>1.684286</td>\n",
       "    </tr>\n",
       "    <tr>\n",
       "      <th>318</th>\n",
       "      <td>1.10</td>\n",
       "      <td>1.462857</td>\n",
       "    </tr>\n",
       "    <tr>\n",
       "      <th>106</th>\n",
       "      <td>1.14</td>\n",
       "      <td>1.074286</td>\n",
       "    </tr>\n",
       "    <tr>\n",
       "      <th>798</th>\n",
       "      <td>0.81</td>\n",
       "      <td>0.827143</td>\n",
       "    </tr>\n",
       "    <tr>\n",
       "      <th>55</th>\n",
       "      <td>1.91</td>\n",
       "      <td>2.062857</td>\n",
       "    </tr>\n",
       "  </tbody>\n",
       "</table>\n",
       "<p>360 rows × 2 columns</p>\n",
       "</div>"
      ],
      "text/plain": [
       "      Actual  Prediction\n",
       "1178    2.28    2.352857\n",
       "865     1.55    1.542857\n",
       "101     1.07    1.398571\n",
       "439     1.13    1.395714\n",
       "58      1.95    1.791429\n",
       "...      ...         ...\n",
       "47      1.80    1.684286\n",
       "318     1.10    1.462857\n",
       "106     1.14    1.074286\n",
       "798     0.81    0.827143\n",
       "55      1.91    2.062857\n",
       "\n",
       "[360 rows x 2 columns]"
      ]
     },
     "execution_count": 790,
     "metadata": {},
     "output_type": "execute_result"
    }
   ],
   "source": [
    "import numpy as np\n",
    "from sklearn.model_selection import train_test_split\n",
    "from sklearn.preprocessing import OneHotEncoder\n",
    "from sklearn.neighbors import KNeighborsRegressor\n",
    "from sklearn.metrics import mean_squared_error,r2_score\n",
    "\n",
    "X = df[[\"ctry\",\"yr\",\"mth\",\"food_item\",\"qlt\"]]\n",
    "y = df[[\"Price(USD)\"]]\n",
    "\n",
    "X_train, X_test, y_train, y_test = train_test_split(X, y, test_size=0.3, random_state=42)\n",
    "\n",
    "encoder = OneHotEncoder(handle_unknown='ignore', sparse=False)\n",
    "X_train_encoded = encoder.fit_transform(X_train)\n",
    "X_test_encoded = encoder.transform(X_test)\n",
    "\n",
    "k = 7\n",
    "knn_regressor = KNeighborsRegressor(n_neighbors=k)\n",
    "\n",
    "knn_regressor.fit(X_train_encoded, y_train)\n",
    "\n",
    "y_predknn = knn_regressor.predict(X_test_encoded)\n",
    "knn = pd.DataFrame()\n",
    "knn[\"Actual\"] = y_test\n",
    "knn[\"Prediction\"] = y_predknn\n",
    "knn"
   ]
  },
  {
   "cell_type": "code",
   "execution_count": 791,
   "id": "15ebccba",
   "metadata": {},
   "outputs": [
    {
     "name": "stdout",
     "output_type": "stream",
     "text": [
      "Mean Squared Error: 0.04753549886621315\n",
      "RMSE:  0.21802637195122326\n"
     ]
    }
   ],
   "source": [
    "mseknn = mean_squared_error(y_test, y_predknn)\n",
    "print(\"Mean Squared Error:\", mseknn)\n",
    "print(\"RMSE: \", mseknn**(1/2.0)) "
   ]
  },
  {
   "cell_type": "code",
   "execution_count": 792,
   "id": "29c81481",
   "metadata": {},
   "outputs": [
    {
     "name": "stdout",
     "output_type": "stream",
     "text": [
      "R2 score: 0.9078006719903261\n"
     ]
    }
   ],
   "source": [
    "r2knn = r2_score(y_test, y_predknn)\n",
    "print(\"R2 score:\",r2knn)"
   ]
  },
  {
   "cell_type": "markdown",
   "id": "0f2f85e0",
   "metadata": {},
   "source": [
    "#### AUSTRALIA"
   ]
  },
  {
   "cell_type": "code",
   "execution_count": 810,
   "id": "a8cc52b4",
   "metadata": {
    "scrolled": true
   },
   "outputs": [
    {
     "data": {
      "text/html": [
       "<div>\n",
       "<style scoped>\n",
       "    .dataframe tbody tr th:only-of-type {\n",
       "        vertical-align: middle;\n",
       "    }\n",
       "\n",
       "    .dataframe tbody tr th {\n",
       "        vertical-align: top;\n",
       "    }\n",
       "\n",
       "    .dataframe thead th {\n",
       "        text-align: right;\n",
       "    }\n",
       "</style>\n",
       "<table border=\"1\" class=\"dataframe\">\n",
       "  <thead>\n",
       "    <tr style=\"text-align: right;\">\n",
       "      <th></th>\n",
       "      <th>Actual</th>\n",
       "      <th>Prediction</th>\n",
       "    </tr>\n",
       "  </thead>\n",
       "  <tbody>\n",
       "    <tr>\n",
       "      <th>24</th>\n",
       "      <td>1.59</td>\n",
       "      <td>1.708571</td>\n",
       "    </tr>\n",
       "    <tr>\n",
       "      <th>6</th>\n",
       "      <td>1.49</td>\n",
       "      <td>1.572857</td>\n",
       "    </tr>\n",
       "    <tr>\n",
       "      <th>93</th>\n",
       "      <td>0.99</td>\n",
       "      <td>1.000000</td>\n",
       "    </tr>\n",
       "    <tr>\n",
       "      <th>109</th>\n",
       "      <td>1.17</td>\n",
       "      <td>1.708571</td>\n",
       "    </tr>\n",
       "    <tr>\n",
       "      <th>104</th>\n",
       "      <td>1.11</td>\n",
       "      <td>1.207143</td>\n",
       "    </tr>\n",
       "    <tr>\n",
       "      <th>...</th>\n",
       "      <td>...</td>\n",
       "      <td>...</td>\n",
       "    </tr>\n",
       "    <tr>\n",
       "      <th>84</th>\n",
       "      <td>0.96</td>\n",
       "      <td>1.154286</td>\n",
       "    </tr>\n",
       "    <tr>\n",
       "      <th>117</th>\n",
       "      <td>1.18</td>\n",
       "      <td>1.248571</td>\n",
       "    </tr>\n",
       "    <tr>\n",
       "      <th>194</th>\n",
       "      <td>2.22</td>\n",
       "      <td>2.068571</td>\n",
       "    </tr>\n",
       "    <tr>\n",
       "      <th>177</th>\n",
       "      <td>3.91</td>\n",
       "      <td>3.278571</td>\n",
       "    </tr>\n",
       "    <tr>\n",
       "      <th>111</th>\n",
       "      <td>1.17</td>\n",
       "      <td>1.747143</td>\n",
       "    </tr>\n",
       "  </tbody>\n",
       "</table>\n",
       "<p>72 rows × 2 columns</p>\n",
       "</div>"
      ],
      "text/plain": [
       "     Actual  Prediction\n",
       "24     1.59    1.708571\n",
       "6      1.49    1.572857\n",
       "93     0.99    1.000000\n",
       "109    1.17    1.708571\n",
       "104    1.11    1.207143\n",
       "..      ...         ...\n",
       "84     0.96    1.154286\n",
       "117    1.18    1.248571\n",
       "194    2.22    2.068571\n",
       "177    3.91    3.278571\n",
       "111    1.17    1.747143\n",
       "\n",
       "[72 rows x 2 columns]"
      ]
     },
     "execution_count": 810,
     "metadata": {},
     "output_type": "execute_result"
    }
   ],
   "source": [
    "import numpy as np\n",
    "from sklearn.model_selection import train_test_split\n",
    "from sklearn.preprocessing import OneHotEncoder\n",
    "from sklearn.neighbors import KNeighborsRegressor\n",
    "from sklearn.metrics import mean_squared_error,r2_score\n",
    "\n",
    "X = c1[[\"ctry\",\"yr\",\"mth\",\"food_item\"]]\n",
    "y = c1[[\"Price(USD)\"]]\n",
    "\n",
    "X_train, X_test, y_train, y_test = train_test_split(X, y, test_size=0.3, random_state=42)\n",
    "\n",
    "encoder = OneHotEncoder(handle_unknown='ignore', sparse=False)\n",
    "X_train_encoded = encoder.fit_transform(X_train)\n",
    "X_test_encoded = encoder.transform(X_test)\n",
    "\n",
    "k = 7\n",
    "knn_regressor = KNeighborsRegressor(n_neighbors=k)\n",
    "\n",
    "knn_regressor.fit(X_train_encoded, y_train)\n",
    "\n",
    "y_predknn = knn_regressor.predict(X_test_encoded)\n",
    "knn = pd.DataFrame()\n",
    "knn[\"Actual\"] = y_test\n",
    "knn[\"Prediction\"] = y_predknn\n",
    "knn"
   ]
  },
  {
   "cell_type": "code",
   "execution_count": 811,
   "id": "c5c9f430",
   "metadata": {},
   "outputs": [
    {
     "name": "stdout",
     "output_type": "stream",
     "text": [
      "Mean Squared Error: 0.06760232426303854\n",
      "RMSE:  0.26000446969819296\n"
     ]
    }
   ],
   "source": [
    "mseknn = mean_squared_error(y_test, y_predknn)\n",
    "print(\"Mean Squared Error:\", mseknn)\n",
    "print(\"RMSE: \", mseknn**(1/2.0)) "
   ]
  },
  {
   "cell_type": "code",
   "execution_count": 812,
   "id": "108a45f6",
   "metadata": {},
   "outputs": [
    {
     "name": "stdout",
     "output_type": "stream",
     "text": [
      "R2 score: 0.888506322925873\n"
     ]
    }
   ],
   "source": [
    "r2knn = r2_score(y_test, y_predknn)\n",
    "print(\"R2 score:\",r2knn)"
   ]
  },
  {
   "cell_type": "markdown",
   "id": "681f5f22",
   "metadata": {},
   "source": [
    "#### SWEDEN"
   ]
  },
  {
   "cell_type": "code",
   "execution_count": 813,
   "id": "6638854e",
   "metadata": {
    "scrolled": true
   },
   "outputs": [
    {
     "data": {
      "text/html": [
       "<div>\n",
       "<style scoped>\n",
       "    .dataframe tbody tr th:only-of-type {\n",
       "        vertical-align: middle;\n",
       "    }\n",
       "\n",
       "    .dataframe tbody tr th {\n",
       "        vertical-align: top;\n",
       "    }\n",
       "\n",
       "    .dataframe thead th {\n",
       "        text-align: right;\n",
       "    }\n",
       "</style>\n",
       "<table border=\"1\" class=\"dataframe\">\n",
       "  <thead>\n",
       "    <tr style=\"text-align: right;\">\n",
       "      <th></th>\n",
       "      <th>Actual</th>\n",
       "      <th>Prediction</th>\n",
       "    </tr>\n",
       "  </thead>\n",
       "  <tbody>\n",
       "    <tr>\n",
       "      <th>264</th>\n",
       "      <td>2.06</td>\n",
       "      <td>2.174286</td>\n",
       "    </tr>\n",
       "    <tr>\n",
       "      <th>246</th>\n",
       "      <td>1.85</td>\n",
       "      <td>1.965714</td>\n",
       "    </tr>\n",
       "    <tr>\n",
       "      <th>333</th>\n",
       "      <td>1.17</td>\n",
       "      <td>1.170000</td>\n",
       "    </tr>\n",
       "    <tr>\n",
       "      <th>349</th>\n",
       "      <td>1.29</td>\n",
       "      <td>1.668571</td>\n",
       "    </tr>\n",
       "    <tr>\n",
       "      <th>344</th>\n",
       "      <td>1.24</td>\n",
       "      <td>1.391429</td>\n",
       "    </tr>\n",
       "    <tr>\n",
       "      <th>...</th>\n",
       "      <td>...</td>\n",
       "      <td>...</td>\n",
       "    </tr>\n",
       "    <tr>\n",
       "      <th>324</th>\n",
       "      <td>1.15</td>\n",
       "      <td>1.390000</td>\n",
       "    </tr>\n",
       "    <tr>\n",
       "      <th>357</th>\n",
       "      <td>1.37</td>\n",
       "      <td>1.470000</td>\n",
       "    </tr>\n",
       "    <tr>\n",
       "      <th>434</th>\n",
       "      <td>1.12</td>\n",
       "      <td>1.331429</td>\n",
       "    </tr>\n",
       "    <tr>\n",
       "      <th>417</th>\n",
       "      <td>3.44</td>\n",
       "      <td>3.134286</td>\n",
       "    </tr>\n",
       "    <tr>\n",
       "      <th>351</th>\n",
       "      <td>1.31</td>\n",
       "      <td>1.701429</td>\n",
       "    </tr>\n",
       "  </tbody>\n",
       "</table>\n",
       "<p>72 rows × 2 columns</p>\n",
       "</div>"
      ],
      "text/plain": [
       "     Actual  Prediction\n",
       "264    2.06    2.174286\n",
       "246    1.85    1.965714\n",
       "333    1.17    1.170000\n",
       "349    1.29    1.668571\n",
       "344    1.24    1.391429\n",
       "..      ...         ...\n",
       "324    1.15    1.390000\n",
       "357    1.37    1.470000\n",
       "434    1.12    1.331429\n",
       "417    3.44    3.134286\n",
       "351    1.31    1.701429\n",
       "\n",
       "[72 rows x 2 columns]"
      ]
     },
     "execution_count": 813,
     "metadata": {},
     "output_type": "execute_result"
    }
   ],
   "source": [
    "import numpy as np\n",
    "from sklearn.model_selection import train_test_split\n",
    "from sklearn.preprocessing import OneHotEncoder\n",
    "from sklearn.neighbors import KNeighborsRegressor\n",
    "from sklearn.metrics import mean_squared_error,r2_score\n",
    "\n",
    "X = c2[[\"ctry\",\"yr\",\"mth\",\"food_item\"]]\n",
    "y = c2[[\"Price(USD)\"]]\n",
    "\n",
    "X_train, X_test, y_train, y_test = train_test_split(X, y, test_size=0.3, random_state=42)\n",
    "\n",
    "encoder = OneHotEncoder(handle_unknown='ignore', sparse=False)\n",
    "X_train_encoded = encoder.fit_transform(X_train)\n",
    "X_test_encoded = encoder.transform(X_test)\n",
    "\n",
    "k = 7\n",
    "knn_regressor = KNeighborsRegressor(n_neighbors=k)\n",
    "\n",
    "knn_regressor.fit(X_train_encoded, y_train)\n",
    "\n",
    "y_predknn = knn_regressor.predict(X_test_encoded)\n",
    "knn = pd.DataFrame()\n",
    "knn[\"Actual\"] = y_test\n",
    "knn[\"Prediction\"] = y_predknn\n",
    "knn"
   ]
  },
  {
   "cell_type": "code",
   "execution_count": 814,
   "id": "a4e1c8d1",
   "metadata": {},
   "outputs": [
    {
     "name": "stdout",
     "output_type": "stream",
     "text": [
      "Mean Squared Error: 0.052439767573696144\n",
      "RMSE:  0.22899730909706373\n"
     ]
    }
   ],
   "source": [
    "mseknn = mean_squared_error(y_test, y_predknn)\n",
    "print(\"Mean Squared Error:\", mseknn)\n",
    "print(\"RMSE: \", mseknn**(1/2.0)) "
   ]
  },
  {
   "cell_type": "code",
   "execution_count": 815,
   "id": "82b0c57e",
   "metadata": {},
   "outputs": [
    {
     "name": "stdout",
     "output_type": "stream",
     "text": [
      "R2 score: 0.9080014040681953\n"
     ]
    }
   ],
   "source": [
    "r2knn = r2_score(y_test, y_predknn)\n",
    "print(\"R2 score:\",r2knn)"
   ]
  },
  {
   "cell_type": "markdown",
   "id": "c4d182ba",
   "metadata": {},
   "source": [
    "#### JAPAN"
   ]
  },
  {
   "cell_type": "code",
   "execution_count": 816,
   "id": "01b5ca03",
   "metadata": {
    "scrolled": true
   },
   "outputs": [
    {
     "data": {
      "text/html": [
       "<div>\n",
       "<style scoped>\n",
       "    .dataframe tbody tr th:only-of-type {\n",
       "        vertical-align: middle;\n",
       "    }\n",
       "\n",
       "    .dataframe tbody tr th {\n",
       "        vertical-align: top;\n",
       "    }\n",
       "\n",
       "    .dataframe thead th {\n",
       "        text-align: right;\n",
       "    }\n",
       "</style>\n",
       "<table border=\"1\" class=\"dataframe\">\n",
       "  <thead>\n",
       "    <tr style=\"text-align: right;\">\n",
       "      <th></th>\n",
       "      <th>Actual</th>\n",
       "      <th>Prediction</th>\n",
       "    </tr>\n",
       "  </thead>\n",
       "  <tbody>\n",
       "    <tr>\n",
       "      <th>504</th>\n",
       "      <td>1.41</td>\n",
       "      <td>1.428571</td>\n",
       "    </tr>\n",
       "    <tr>\n",
       "      <th>486</th>\n",
       "      <td>1.36</td>\n",
       "      <td>1.375714</td>\n",
       "    </tr>\n",
       "    <tr>\n",
       "      <th>573</th>\n",
       "      <td>1.38</td>\n",
       "      <td>1.380000</td>\n",
       "    </tr>\n",
       "    <tr>\n",
       "      <th>589</th>\n",
       "      <td>1.39</td>\n",
       "      <td>1.671429</td>\n",
       "    </tr>\n",
       "    <tr>\n",
       "      <th>584</th>\n",
       "      <td>1.39</td>\n",
       "      <td>1.395714</td>\n",
       "    </tr>\n",
       "    <tr>\n",
       "      <th>...</th>\n",
       "      <td>...</td>\n",
       "      <td>...</td>\n",
       "    </tr>\n",
       "    <tr>\n",
       "      <th>564</th>\n",
       "      <td>1.38</td>\n",
       "      <td>1.417143</td>\n",
       "    </tr>\n",
       "    <tr>\n",
       "      <th>597</th>\n",
       "      <td>1.41</td>\n",
       "      <td>1.412857</td>\n",
       "    </tr>\n",
       "    <tr>\n",
       "      <th>674</th>\n",
       "      <td>2.62</td>\n",
       "      <td>2.334286</td>\n",
       "    </tr>\n",
       "    <tr>\n",
       "      <th>657</th>\n",
       "      <td>1.88</td>\n",
       "      <td>1.775714</td>\n",
       "    </tr>\n",
       "    <tr>\n",
       "      <th>591</th>\n",
       "      <td>1.39</td>\n",
       "      <td>1.684286</td>\n",
       "    </tr>\n",
       "  </tbody>\n",
       "</table>\n",
       "<p>72 rows × 2 columns</p>\n",
       "</div>"
      ],
      "text/plain": [
       "     Actual  Prediction\n",
       "504    1.41    1.428571\n",
       "486    1.36    1.375714\n",
       "573    1.38    1.380000\n",
       "589    1.39    1.671429\n",
       "584    1.39    1.395714\n",
       "..      ...         ...\n",
       "564    1.38    1.417143\n",
       "597    1.41    1.412857\n",
       "674    2.62    2.334286\n",
       "657    1.88    1.775714\n",
       "591    1.39    1.684286\n",
       "\n",
       "[72 rows x 2 columns]"
      ]
     },
     "execution_count": 816,
     "metadata": {},
     "output_type": "execute_result"
    }
   ],
   "source": [
    "import numpy as np\n",
    "from sklearn.model_selection import train_test_split\n",
    "from sklearn.preprocessing import OneHotEncoder\n",
    "from sklearn.neighbors import KNeighborsRegressor\n",
    "from sklearn.metrics import mean_squared_error,r2_score\n",
    "\n",
    "X = c3[[\"ctry\",\"yr\",\"mth\",\"food_item\"]]\n",
    "y = c3[[\"Price(USD)\"]]\n",
    "\n",
    "X_train, X_test, y_train, y_test = train_test_split(X, y, test_size=0.3, random_state=42)\n",
    "\n",
    "encoder = OneHotEncoder(handle_unknown='ignore', sparse=False)\n",
    "X_train_encoded = encoder.fit_transform(X_train)\n",
    "X_test_encoded = encoder.transform(X_test)\n",
    "\n",
    "k = 7\n",
    "knn_regressor = KNeighborsRegressor(n_neighbors=k)\n",
    "\n",
    "knn_regressor.fit(X_train_encoded, y_train)\n",
    "\n",
    "y_predknn = knn_regressor.predict(X_test_encoded)\n",
    "knn = pd.DataFrame()\n",
    "knn[\"Actual\"] = y_test\n",
    "knn[\"Prediction\"] = y_predknn\n",
    "knn"
   ]
  },
  {
   "cell_type": "code",
   "execution_count": 817,
   "id": "f9157ff7",
   "metadata": {},
   "outputs": [
    {
     "name": "stdout",
     "output_type": "stream",
     "text": [
      "Mean Squared Error: 0.028220209750566896\n",
      "RMSE:  0.16798871911698982\n"
     ]
    }
   ],
   "source": [
    "mseknn = mean_squared_error(y_test, y_predknn)\n",
    "print(\"Mean Squared Error:\", mseknn)\n",
    "print(\"RMSE: \", mseknn**(1/2.0)) "
   ]
  },
  {
   "cell_type": "code",
   "execution_count": 818,
   "id": "0b56dd04",
   "metadata": {},
   "outputs": [
    {
     "name": "stdout",
     "output_type": "stream",
     "text": [
      "R2 score: 0.9201557487922064\n"
     ]
    }
   ],
   "source": [
    "r2knn = r2_score(y_test, y_predknn)\n",
    "print(\"R2 score:\",r2knn)"
   ]
  },
  {
   "cell_type": "markdown",
   "id": "3b52f3f2",
   "metadata": {},
   "source": [
    "#### SOUTH AFRICA"
   ]
  },
  {
   "cell_type": "code",
   "execution_count": 819,
   "id": "d7e7fc51",
   "metadata": {
    "scrolled": true
   },
   "outputs": [
    {
     "data": {
      "text/html": [
       "<div>\n",
       "<style scoped>\n",
       "    .dataframe tbody tr th:only-of-type {\n",
       "        vertical-align: middle;\n",
       "    }\n",
       "\n",
       "    .dataframe tbody tr th {\n",
       "        vertical-align: top;\n",
       "    }\n",
       "\n",
       "    .dataframe thead th {\n",
       "        text-align: right;\n",
       "    }\n",
       "</style>\n",
       "<table border=\"1\" class=\"dataframe\">\n",
       "  <thead>\n",
       "    <tr style=\"text-align: right;\">\n",
       "      <th></th>\n",
       "      <th>Actual</th>\n",
       "      <th>Prediction</th>\n",
       "    </tr>\n",
       "  </thead>\n",
       "  <tbody>\n",
       "    <tr>\n",
       "      <th>744</th>\n",
       "      <td>0.76</td>\n",
       "      <td>0.877143</td>\n",
       "    </tr>\n",
       "    <tr>\n",
       "      <th>726</th>\n",
       "      <td>0.71</td>\n",
       "      <td>0.737143</td>\n",
       "    </tr>\n",
       "    <tr>\n",
       "      <th>813</th>\n",
       "      <td>0.85</td>\n",
       "      <td>0.844286</td>\n",
       "    </tr>\n",
       "    <tr>\n",
       "      <th>829</th>\n",
       "      <td>0.90</td>\n",
       "      <td>0.998571</td>\n",
       "    </tr>\n",
       "    <tr>\n",
       "      <th>824</th>\n",
       "      <td>0.88</td>\n",
       "      <td>0.878571</td>\n",
       "    </tr>\n",
       "    <tr>\n",
       "      <th>...</th>\n",
       "      <td>...</td>\n",
       "      <td>...</td>\n",
       "    </tr>\n",
       "    <tr>\n",
       "      <th>804</th>\n",
       "      <td>0.82</td>\n",
       "      <td>0.932857</td>\n",
       "    </tr>\n",
       "    <tr>\n",
       "      <th>837</th>\n",
       "      <td>0.94</td>\n",
       "      <td>0.901429</td>\n",
       "    </tr>\n",
       "    <tr>\n",
       "      <th>914</th>\n",
       "      <td>0.89</td>\n",
       "      <td>0.971429</td>\n",
       "    </tr>\n",
       "    <tr>\n",
       "      <th>897</th>\n",
       "      <td>1.71</td>\n",
       "      <td>1.545714</td>\n",
       "    </tr>\n",
       "    <tr>\n",
       "      <th>831</th>\n",
       "      <td>0.91</td>\n",
       "      <td>1.008571</td>\n",
       "    </tr>\n",
       "  </tbody>\n",
       "</table>\n",
       "<p>72 rows × 2 columns</p>\n",
       "</div>"
      ],
      "text/plain": [
       "     Actual  Prediction\n",
       "744    0.76    0.877143\n",
       "726    0.71    0.737143\n",
       "813    0.85    0.844286\n",
       "829    0.90    0.998571\n",
       "824    0.88    0.878571\n",
       "..      ...         ...\n",
       "804    0.82    0.932857\n",
       "837    0.94    0.901429\n",
       "914    0.89    0.971429\n",
       "897    1.71    1.545714\n",
       "831    0.91    1.008571\n",
       "\n",
       "[72 rows x 2 columns]"
      ]
     },
     "execution_count": 819,
     "metadata": {},
     "output_type": "execute_result"
    }
   ],
   "source": [
    "import numpy as np\n",
    "from sklearn.model_selection import train_test_split\n",
    "from sklearn.preprocessing import OneHotEncoder\n",
    "from sklearn.neighbors import KNeighborsRegressor\n",
    "from sklearn.metrics import mean_squared_error,r2_score\n",
    "\n",
    "X = c4[[\"ctry\",\"yr\",\"mth\",\"food_item\"]]\n",
    "y = c4[[\"Price(USD)\"]]\n",
    "\n",
    "X_train, X_test, y_train, y_test = train_test_split(X, y, test_size=0.3, random_state=42)\n",
    "\n",
    "encoder = OneHotEncoder(handle_unknown='ignore', sparse=False)\n",
    "X_train_encoded = encoder.fit_transform(X_train)\n",
    "X_test_encoded = encoder.transform(X_test)\n",
    "\n",
    "k = 7\n",
    "knn_regressor = KNeighborsRegressor(n_neighbors=k)\n",
    "\n",
    "knn_regressor.fit(X_train_encoded, y_train)\n",
    "\n",
    "y_predknn = knn_regressor.predict(X_test_encoded)\n",
    "knn = pd.DataFrame()\n",
    "knn[\"Actual\"] = y_test\n",
    "knn[\"Prediction\"] = y_predknn\n",
    "knn"
   ]
  },
  {
   "cell_type": "code",
   "execution_count": 820,
   "id": "8c1940f5",
   "metadata": {},
   "outputs": [
    {
     "name": "stdout",
     "output_type": "stream",
     "text": [
      "Mean Squared Error: 0.007474801587301587\n",
      "RMSE:  0.08645693487107664\n"
     ]
    }
   ],
   "source": [
    "mseknn = mean_squared_error(y_test, y_predknn)\n",
    "print(\"Mean Squared Error:\", mseknn)\n",
    "print(\"RMSE: \", mseknn**(1/2.0)) "
   ]
  },
  {
   "cell_type": "code",
   "execution_count": 821,
   "id": "365440f8",
   "metadata": {},
   "outputs": [
    {
     "name": "stdout",
     "output_type": "stream",
     "text": [
      "R2 score: 0.92305035442376\n"
     ]
    }
   ],
   "source": [
    "r2knn = r2_score(y_test, y_predknn)\n",
    "print(\"R2 score:\",r2knn)"
   ]
  },
  {
   "cell_type": "markdown",
   "id": "fd89a5ce",
   "metadata": {},
   "source": [
    "#### CANADA"
   ]
  },
  {
   "cell_type": "code",
   "execution_count": 822,
   "id": "4a784920",
   "metadata": {},
   "outputs": [
    {
     "data": {
      "text/html": [
       "<div>\n",
       "<style scoped>\n",
       "    .dataframe tbody tr th:only-of-type {\n",
       "        vertical-align: middle;\n",
       "    }\n",
       "\n",
       "    .dataframe tbody tr th {\n",
       "        vertical-align: top;\n",
       "    }\n",
       "\n",
       "    .dataframe thead th {\n",
       "        text-align: right;\n",
       "    }\n",
       "</style>\n",
       "<table border=\"1\" class=\"dataframe\">\n",
       "  <thead>\n",
       "    <tr style=\"text-align: right;\">\n",
       "      <th></th>\n",
       "      <th>Actual</th>\n",
       "      <th>Prediction</th>\n",
       "    </tr>\n",
       "  </thead>\n",
       "  <tbody>\n",
       "    <tr>\n",
       "      <th>984</th>\n",
       "      <td>2.30</td>\n",
       "      <td>2.401429</td>\n",
       "    </tr>\n",
       "    <tr>\n",
       "      <th>966</th>\n",
       "      <td>2.21</td>\n",
       "      <td>2.251429</td>\n",
       "    </tr>\n",
       "    <tr>\n",
       "      <th>1053</th>\n",
       "      <td>1.95</td>\n",
       "      <td>1.951429</td>\n",
       "    </tr>\n",
       "    <tr>\n",
       "      <th>1069</th>\n",
       "      <td>2.03</td>\n",
       "      <td>2.265714</td>\n",
       "    </tr>\n",
       "    <tr>\n",
       "      <th>1064</th>\n",
       "      <td>2.00</td>\n",
       "      <td>2.064286</td>\n",
       "    </tr>\n",
       "    <tr>\n",
       "      <th>...</th>\n",
       "      <td>...</td>\n",
       "      <td>...</td>\n",
       "    </tr>\n",
       "    <tr>\n",
       "      <th>1044</th>\n",
       "      <td>1.94</td>\n",
       "      <td>2.085714</td>\n",
       "    </tr>\n",
       "    <tr>\n",
       "      <th>1077</th>\n",
       "      <td>2.09</td>\n",
       "      <td>2.101429</td>\n",
       "    </tr>\n",
       "    <tr>\n",
       "      <th>1154</th>\n",
       "      <td>2.22</td>\n",
       "      <td>2.288571</td>\n",
       "    </tr>\n",
       "    <tr>\n",
       "      <th>1137</th>\n",
       "      <td>3.23</td>\n",
       "      <td>3.055714</td>\n",
       "    </tr>\n",
       "    <tr>\n",
       "      <th>1071</th>\n",
       "      <td>2.05</td>\n",
       "      <td>2.282857</td>\n",
       "    </tr>\n",
       "  </tbody>\n",
       "</table>\n",
       "<p>72 rows × 2 columns</p>\n",
       "</div>"
      ],
      "text/plain": [
       "      Actual  Prediction\n",
       "984     2.30    2.401429\n",
       "966     2.21    2.251429\n",
       "1053    1.95    1.951429\n",
       "1069    2.03    2.265714\n",
       "1064    2.00    2.064286\n",
       "...      ...         ...\n",
       "1044    1.94    2.085714\n",
       "1077    2.09    2.101429\n",
       "1154    2.22    2.288571\n",
       "1137    3.23    3.055714\n",
       "1071    2.05    2.282857\n",
       "\n",
       "[72 rows x 2 columns]"
      ]
     },
     "execution_count": 822,
     "metadata": {},
     "output_type": "execute_result"
    }
   ],
   "source": [
    "import numpy as np\n",
    "from sklearn.model_selection import train_test_split\n",
    "from sklearn.preprocessing import OneHotEncoder\n",
    "from sklearn.neighbors import KNeighborsRegressor\n",
    "from sklearn.metrics import mean_squared_error,r2_score\n",
    "\n",
    "X = c5[[\"ctry\",\"yr\",\"mth\",\"food_item\"]]\n",
    "y = c5[[\"Price(USD)\"]]\n",
    "\n",
    "X_train, X_test, y_train, y_test = train_test_split(X, y, test_size=0.3, random_state=42)\n",
    "\n",
    "encoder = OneHotEncoder(handle_unknown='ignore', sparse=False)\n",
    "X_train_encoded = encoder.fit_transform(X_train)\n",
    "X_test_encoded = encoder.transform(X_test)\n",
    "\n",
    "k = 7\n",
    "knn_regressor = KNeighborsRegressor(n_neighbors=k)\n",
    "\n",
    "knn_regressor.fit(X_train_encoded, y_train)\n",
    "\n",
    "y_predknn = knn_regressor.predict(X_test_encoded)\n",
    "knn = pd.DataFrame()\n",
    "knn[\"Actual\"] = y_test\n",
    "knn[\"Prediction\"] = y_predknn\n",
    "knn"
   ]
  },
  {
   "cell_type": "code",
   "execution_count": 823,
   "id": "b90df3f5",
   "metadata": {},
   "outputs": [
    {
     "name": "stdout",
     "output_type": "stream",
     "text": [
      "Mean Squared Error: 0.014096570294784585\n",
      "RMSE:  0.11872897832789005\n"
     ]
    }
   ],
   "source": [
    "mseknn = mean_squared_error(y_test, y_predknn)\n",
    "print(\"Mean Squared Error:\", mseknn)\n",
    "print(\"RMSE: \", mseknn**(1/2.0))"
   ]
  },
  {
   "cell_type": "code",
   "execution_count": 824,
   "id": "d3757de2",
   "metadata": {},
   "outputs": [
    {
     "name": "stdout",
     "output_type": "stream",
     "text": [
      "R2 score: 0.9144319102611009\n"
     ]
    }
   ],
   "source": [
    "r2knn = r2_score(y_test, y_predknn)\n",
    "print(\"R2 score:\",r2knn)"
   ]
  },
  {
   "cell_type": "markdown",
   "id": "653451b9",
   "metadata": {},
   "source": [
    "#### SVM"
   ]
  },
  {
   "cell_type": "code",
   "execution_count": 1,
   "id": "dfc84702",
   "metadata": {},
   "outputs": [
    {
     "ename": "NameError",
     "evalue": "name 'df' is not defined",
     "output_type": "error",
     "traceback": [
      "\u001b[1;31m---------------------------------------------------------------------------\u001b[0m",
      "\u001b[1;31mNameError\u001b[0m                                 Traceback (most recent call last)",
      "Cell \u001b[1;32mIn[1], line 6\u001b[0m\n\u001b[0;32m      3\u001b[0m \u001b[38;5;28;01mfrom\u001b[39;00m \u001b[38;5;21;01msklearn\u001b[39;00m\u001b[38;5;21;01m.\u001b[39;00m\u001b[38;5;21;01msvm\u001b[39;00m \u001b[38;5;28;01mimport\u001b[39;00m SVR\n\u001b[0;32m      4\u001b[0m \u001b[38;5;28;01mfrom\u001b[39;00m \u001b[38;5;21;01msklearn\u001b[39;00m\u001b[38;5;21;01m.\u001b[39;00m\u001b[38;5;21;01mmetrics\u001b[39;00m \u001b[38;5;28;01mimport\u001b[39;00m mean_squared_error,r2_score\n\u001b[1;32m----> 6\u001b[0m X \u001b[38;5;241m=\u001b[39m \u001b[43mdf\u001b[49m[[\u001b[38;5;124m\"\u001b[39m\u001b[38;5;124mctry\u001b[39m\u001b[38;5;124m\"\u001b[39m,\u001b[38;5;124m\"\u001b[39m\u001b[38;5;124myr\u001b[39m\u001b[38;5;124m\"\u001b[39m,\u001b[38;5;124m\"\u001b[39m\u001b[38;5;124mmth\u001b[39m\u001b[38;5;124m\"\u001b[39m,\u001b[38;5;124m\"\u001b[39m\u001b[38;5;124mfood_item\u001b[39m\u001b[38;5;124m\"\u001b[39m,\u001b[38;5;124m\"\u001b[39m\u001b[38;5;124mqlt\u001b[39m\u001b[38;5;124m\"\u001b[39m]]\n\u001b[0;32m      7\u001b[0m y \u001b[38;5;241m=\u001b[39m df[[\u001b[38;5;124m\"\u001b[39m\u001b[38;5;124mPrice(USD)\u001b[39m\u001b[38;5;124m\"\u001b[39m]]\n\u001b[0;32m      9\u001b[0m X_train, X_test, y_train, y_test \u001b[38;5;241m=\u001b[39m train_test_split(X, y, test_size\u001b[38;5;241m=\u001b[39m\u001b[38;5;241m0.3\u001b[39m, random_state\u001b[38;5;241m=\u001b[39m\u001b[38;5;241m42\u001b[39m)\n",
      "\u001b[1;31mNameError\u001b[0m: name 'df' is not defined"
     ]
    }
   ],
   "source": [
    "import numpy as np\n",
    "from sklearn.model_selection import train_test_split\n",
    "from sklearn.svm import SVR\n",
    "from sklearn.metrics import mean_squared_error,r2_score\n",
    "\n",
    "X = df[[\"ctry\",\"yr\",\"mth\",\"food_item\",\"qlt\"]]\n",
    "y = df[[\"Price(USD)\"]]\n",
    "\n",
    "X_train, X_test, y_train, y_test = train_test_split(X, y, test_size=0.3, random_state=42)\n",
    "encoder = OneHotEncoder(handle_unknown='ignore', sparse=False)\n",
    "X_train_encoded = encoder.fit_transform(X_train)\n",
    "X_test_encoded = encoder.transform(X_test)\n",
    "\n",
    "svm_regressor = SVR(kernel='linear') \n",
    "\n",
    "svm_regressor.fit(X_train_encoded,y_train)\n",
    "\n",
    "y_predsvm = svm_regressor.predict(X_test_encoded)\n",
    "\n",
    "svm = pd.DataFrame()\n",
    "svm[\"Actual\"] = y_test\n",
    "svm[\"Prediction\"] = y_predsvm\n",
    "svm"
   ]
  },
  {
   "cell_type": "code",
   "execution_count": 832,
   "id": "ca1fa0e2",
   "metadata": {},
   "outputs": [
    {
     "name": "stdout",
     "output_type": "stream",
     "text": [
      "Mean Squared Error: 0.06832774272200573\n",
      "RMSE:  0.2613957588064614\n"
     ]
    }
   ],
   "source": [
    "msesvm = mean_squared_error(y_test, y_predsvm)\n",
    "print(\"Mean Squared Error:\", msesvm)\n",
    "print(\"RMSE: \", msesvm**(1/2.0)) "
   ]
  },
  {
   "cell_type": "code",
   "execution_count": 833,
   "id": "1fda516c",
   "metadata": {
    "scrolled": true
   },
   "outputs": [
    {
     "name": "stdout",
     "output_type": "stream",
     "text": [
      "R2 score: 0.8873099206972602\n"
     ]
    }
   ],
   "source": [
    "r2svm = r2_score(y_test, y_predsvm)\n",
    "print(\"R2 score:\",r2svm)"
   ]
  },
  {
   "cell_type": "markdown",
   "id": "e7caf965",
   "metadata": {},
   "source": [
    "#### AUSTRALIA"
   ]
  },
  {
   "cell_type": "code",
   "execution_count": 836,
   "id": "31d71fcb",
   "metadata": {},
   "outputs": [
    {
     "name": "stderr",
     "output_type": "stream",
     "text": [
      "C:\\Users\\Leechita G\\anaconda3\\lib\\site-packages\\sklearn\\utils\\validation.py:63: DataConversionWarning: A column-vector y was passed when a 1d array was expected. Please change the shape of y to (n_samples, ), for example using ravel().\n",
      "  return f(*args, **kwargs)\n"
     ]
    },
    {
     "data": {
      "text/html": [
       "<div>\n",
       "<style scoped>\n",
       "    .dataframe tbody tr th:only-of-type {\n",
       "        vertical-align: middle;\n",
       "    }\n",
       "\n",
       "    .dataframe tbody tr th {\n",
       "        vertical-align: top;\n",
       "    }\n",
       "\n",
       "    .dataframe thead th {\n",
       "        text-align: right;\n",
       "    }\n",
       "</style>\n",
       "<table border=\"1\" class=\"dataframe\">\n",
       "  <thead>\n",
       "    <tr style=\"text-align: right;\">\n",
       "      <th></th>\n",
       "      <th>Actual</th>\n",
       "      <th>Prediction</th>\n",
       "    </tr>\n",
       "  </thead>\n",
       "  <tbody>\n",
       "    <tr>\n",
       "      <th>24</th>\n",
       "      <td>1.59</td>\n",
       "      <td>1.532378</td>\n",
       "    </tr>\n",
       "    <tr>\n",
       "      <th>6</th>\n",
       "      <td>1.49</td>\n",
       "      <td>1.411507</td>\n",
       "    </tr>\n",
       "    <tr>\n",
       "      <th>93</th>\n",
       "      <td>0.99</td>\n",
       "      <td>0.958818</td>\n",
       "    </tr>\n",
       "    <tr>\n",
       "      <th>109</th>\n",
       "      <td>1.17</td>\n",
       "      <td>1.262346</td>\n",
       "    </tr>\n",
       "    <tr>\n",
       "      <th>104</th>\n",
       "      <td>1.11</td>\n",
       "      <td>1.163621</td>\n",
       "    </tr>\n",
       "    <tr>\n",
       "      <th>...</th>\n",
       "      <td>...</td>\n",
       "      <td>...</td>\n",
       "    </tr>\n",
       "    <tr>\n",
       "      <th>84</th>\n",
       "      <td>0.96</td>\n",
       "      <td>0.898212</td>\n",
       "    </tr>\n",
       "    <tr>\n",
       "      <th>117</th>\n",
       "      <td>1.18</td>\n",
       "      <td>1.336931</td>\n",
       "    </tr>\n",
       "    <tr>\n",
       "      <th>194</th>\n",
       "      <td>2.22</td>\n",
       "      <td>2.211156</td>\n",
       "    </tr>\n",
       "    <tr>\n",
       "      <th>177</th>\n",
       "      <td>3.91</td>\n",
       "      <td>2.828827</td>\n",
       "    </tr>\n",
       "    <tr>\n",
       "      <th>111</th>\n",
       "      <td>1.17</td>\n",
       "      <td>1.304031</td>\n",
       "    </tr>\n",
       "  </tbody>\n",
       "</table>\n",
       "<p>72 rows × 2 columns</p>\n",
       "</div>"
      ],
      "text/plain": [
       "     Actual  Prediction\n",
       "24     1.59    1.532378\n",
       "6      1.49    1.411507\n",
       "93     0.99    0.958818\n",
       "109    1.17    1.262346\n",
       "104    1.11    1.163621\n",
       "..      ...         ...\n",
       "84     0.96    0.898212\n",
       "117    1.18    1.336931\n",
       "194    2.22    2.211156\n",
       "177    3.91    2.828827\n",
       "111    1.17    1.304031\n",
       "\n",
       "[72 rows x 2 columns]"
      ]
     },
     "execution_count": 836,
     "metadata": {},
     "output_type": "execute_result"
    }
   ],
   "source": [
    "import numpy as np\n",
    "from sklearn.model_selection import train_test_split\n",
    "from sklearn.svm import SVR\n",
    "from sklearn.metrics import mean_squared_error,r2_score\n",
    "\n",
    "X = c1[[\"ctry\",\"yr\",\"mth\",\"food_item\"]]\n",
    "y = c1[[\"Price(USD)\"]]\n",
    "\n",
    "X_train, X_test, y_train, y_test = train_test_split(X, y, test_size=0.3, random_state=42)\n",
    "encoder = OneHotEncoder(handle_unknown='ignore', sparse=False)\n",
    "X_train_encoded = encoder.fit_transform(X_train)\n",
    "X_test_encoded = encoder.transform(X_test)\n",
    "\n",
    "svm_regressor = SVR(kernel='linear') \n",
    "\n",
    "svm_regressor.fit(X_train_encoded,y_train)\n",
    "\n",
    "y_predsvm = svm_regressor.predict(X_test_encoded)\n",
    "\n",
    "svm = pd.DataFrame()\n",
    "svm[\"Actual\"] = y_test\n",
    "svm[\"Prediction\"] = y_predsvm\n",
    "svm"
   ]
  },
  {
   "cell_type": "code",
   "execution_count": 839,
   "id": "1708bd70",
   "metadata": {},
   "outputs": [
    {
     "name": "stdout",
     "output_type": "stream",
     "text": [
      "Mean Squared Error: 0.06832774272200573\n",
      "RMSE:  0.2613957588064614\n"
     ]
    }
   ],
   "source": [
    "msesvm = mean_squared_error(y_test, y_predsvm)\n",
    "print(\"Mean Squared Error:\", msesvm)\n",
    "print(\"RMSE: \", msesvm**(1/2.0)) "
   ]
  },
  {
   "cell_type": "code",
   "execution_count": 840,
   "id": "261d1c96",
   "metadata": {},
   "outputs": [
    {
     "name": "stdout",
     "output_type": "stream",
     "text": [
      "R2 score: 0.8873099206972602\n"
     ]
    }
   ],
   "source": [
    "r2svm = r2_score(y_test, y_predsvm)\n",
    "print(\"R2 score:\",r2svm)"
   ]
  },
  {
   "cell_type": "markdown",
   "id": "c263c09d",
   "metadata": {},
   "source": [
    "#### SWEDEN"
   ]
  },
  {
   "cell_type": "code",
   "execution_count": 841,
   "id": "c0ebcbca",
   "metadata": {},
   "outputs": [
    {
     "name": "stderr",
     "output_type": "stream",
     "text": [
      "C:\\Users\\Leechita G\\anaconda3\\lib\\site-packages\\sklearn\\utils\\validation.py:63: DataConversionWarning: A column-vector y was passed when a 1d array was expected. Please change the shape of y to (n_samples, ), for example using ravel().\n",
      "  return f(*args, **kwargs)\n"
     ]
    },
    {
     "data": {
      "text/html": [
       "<div>\n",
       "<style scoped>\n",
       "    .dataframe tbody tr th:only-of-type {\n",
       "        vertical-align: middle;\n",
       "    }\n",
       "\n",
       "    .dataframe tbody tr th {\n",
       "        vertical-align: top;\n",
       "    }\n",
       "\n",
       "    .dataframe thead th {\n",
       "        text-align: right;\n",
       "    }\n",
       "</style>\n",
       "<table border=\"1\" class=\"dataframe\">\n",
       "  <thead>\n",
       "    <tr style=\"text-align: right;\">\n",
       "      <th></th>\n",
       "      <th>Actual</th>\n",
       "      <th>Prediction</th>\n",
       "    </tr>\n",
       "  </thead>\n",
       "  <tbody>\n",
       "    <tr>\n",
       "      <th>264</th>\n",
       "      <td>2.06</td>\n",
       "      <td>2.055528</td>\n",
       "    </tr>\n",
       "    <tr>\n",
       "      <th>246</th>\n",
       "      <td>1.85</td>\n",
       "      <td>1.902564</td>\n",
       "    </tr>\n",
       "    <tr>\n",
       "      <th>333</th>\n",
       "      <td>1.17</td>\n",
       "      <td>1.186675</td>\n",
       "    </tr>\n",
       "    <tr>\n",
       "      <th>349</th>\n",
       "      <td>1.29</td>\n",
       "      <td>1.391307</td>\n",
       "    </tr>\n",
       "    <tr>\n",
       "      <th>344</th>\n",
       "      <td>1.24</td>\n",
       "      <td>1.291385</td>\n",
       "    </tr>\n",
       "    <tr>\n",
       "      <th>...</th>\n",
       "      <td>...</td>\n",
       "      <td>...</td>\n",
       "    </tr>\n",
       "    <tr>\n",
       "      <th>324</th>\n",
       "      <td>1.15</td>\n",
       "      <td>1.116346</td>\n",
       "    </tr>\n",
       "    <tr>\n",
       "      <th>357</th>\n",
       "      <td>1.37</td>\n",
       "      <td>1.446257</td>\n",
       "    </tr>\n",
       "    <tr>\n",
       "      <th>434</th>\n",
       "      <td>1.12</td>\n",
       "      <td>1.007610</td>\n",
       "    </tr>\n",
       "    <tr>\n",
       "      <th>417</th>\n",
       "      <td>3.44</td>\n",
       "      <td>3.174797</td>\n",
       "    </tr>\n",
       "    <tr>\n",
       "      <th>351</th>\n",
       "      <td>1.31</td>\n",
       "      <td>1.425953</td>\n",
       "    </tr>\n",
       "  </tbody>\n",
       "</table>\n",
       "<p>72 rows × 2 columns</p>\n",
       "</div>"
      ],
      "text/plain": [
       "     Actual  Prediction\n",
       "264    2.06    2.055528\n",
       "246    1.85    1.902564\n",
       "333    1.17    1.186675\n",
       "349    1.29    1.391307\n",
       "344    1.24    1.291385\n",
       "..      ...         ...\n",
       "324    1.15    1.116346\n",
       "357    1.37    1.446257\n",
       "434    1.12    1.007610\n",
       "417    3.44    3.174797\n",
       "351    1.31    1.425953\n",
       "\n",
       "[72 rows x 2 columns]"
      ]
     },
     "execution_count": 841,
     "metadata": {},
     "output_type": "execute_result"
    }
   ],
   "source": [
    "import numpy as np\n",
    "from sklearn.model_selection import train_test_split\n",
    "from sklearn.svm import SVR\n",
    "from sklearn.metrics import mean_squared_error,r2_score\n",
    "\n",
    "X = c2[[\"ctry\",\"yr\",\"mth\",\"food_item\"]]\n",
    "y = c2[[\"Price(USD)\"]]\n",
    "\n",
    "X_train, X_test, y_train, y_test = train_test_split(X, y, test_size=0.3, random_state=42)\n",
    "encoder = OneHotEncoder(handle_unknown='ignore', sparse=False)\n",
    "X_train_encoded = encoder.fit_transform(X_train)\n",
    "X_test_encoded = encoder.transform(X_test)\n",
    "\n",
    "svm_regressor = SVR(kernel='linear') \n",
    "\n",
    "svm_regressor.fit(X_train_encoded,y_train)\n",
    "\n",
    "y_predsvm = svm_regressor.predict(X_test_encoded)\n",
    "\n",
    "svm = pd.DataFrame()\n",
    "svm[\"Actual\"] = y_test\n",
    "svm[\"Prediction\"] = y_predsvm\n",
    "svm"
   ]
  },
  {
   "cell_type": "code",
   "execution_count": 842,
   "id": "3ce1a678",
   "metadata": {},
   "outputs": [
    {
     "name": "stdout",
     "output_type": "stream",
     "text": [
      "Mean Squared Error: 0.009410682666747557\n",
      "RMSE:  0.0970086731521855\n"
     ]
    }
   ],
   "source": [
    "msesvm = mean_squared_error(y_test, y_predsvm)\n",
    "print(\"Mean Squared Error:\", msesvm)\n",
    "print(\"RMSE: \", msesvm**(1/2.0)) "
   ]
  },
  {
   "cell_type": "code",
   "execution_count": 843,
   "id": "2792cd7a",
   "metadata": {},
   "outputs": [
    {
     "name": "stdout",
     "output_type": "stream",
     "text": [
      "R2 score: 0.983490209202704\n"
     ]
    }
   ],
   "source": [
    "r2svm = r2_score(y_test, y_predsvm)\n",
    "print(\"R2 score:\",r2svm)"
   ]
  },
  {
   "cell_type": "markdown",
   "id": "d007540b",
   "metadata": {},
   "source": [
    "#### JAPAN"
   ]
  },
  {
   "cell_type": "code",
   "execution_count": 844,
   "id": "29acbf5b",
   "metadata": {
    "scrolled": true
   },
   "outputs": [
    {
     "name": "stderr",
     "output_type": "stream",
     "text": [
      "C:\\Users\\Leechita G\\anaconda3\\lib\\site-packages\\sklearn\\utils\\validation.py:63: DataConversionWarning: A column-vector y was passed when a 1d array was expected. Please change the shape of y to (n_samples, ), for example using ravel().\n",
      "  return f(*args, **kwargs)\n"
     ]
    },
    {
     "data": {
      "text/html": [
       "<div>\n",
       "<style scoped>\n",
       "    .dataframe tbody tr th:only-of-type {\n",
       "        vertical-align: middle;\n",
       "    }\n",
       "\n",
       "    .dataframe tbody tr th {\n",
       "        vertical-align: top;\n",
       "    }\n",
       "\n",
       "    .dataframe thead th {\n",
       "        text-align: right;\n",
       "    }\n",
       "</style>\n",
       "<table border=\"1\" class=\"dataframe\">\n",
       "  <thead>\n",
       "    <tr style=\"text-align: right;\">\n",
       "      <th></th>\n",
       "      <th>Actual</th>\n",
       "      <th>Prediction</th>\n",
       "    </tr>\n",
       "  </thead>\n",
       "  <tbody>\n",
       "    <tr>\n",
       "      <th>504</th>\n",
       "      <td>1.41</td>\n",
       "      <td>1.388519</td>\n",
       "    </tr>\n",
       "    <tr>\n",
       "      <th>486</th>\n",
       "      <td>1.36</td>\n",
       "      <td>1.319056</td>\n",
       "    </tr>\n",
       "    <tr>\n",
       "      <th>573</th>\n",
       "      <td>1.38</td>\n",
       "      <td>1.357933</td>\n",
       "    </tr>\n",
       "    <tr>\n",
       "      <th>589</th>\n",
       "      <td>1.39</td>\n",
       "      <td>1.468743</td>\n",
       "    </tr>\n",
       "    <tr>\n",
       "      <th>584</th>\n",
       "      <td>1.39</td>\n",
       "      <td>1.361470</td>\n",
       "    </tr>\n",
       "    <tr>\n",
       "      <th>...</th>\n",
       "      <td>...</td>\n",
       "      <td>...</td>\n",
       "    </tr>\n",
       "    <tr>\n",
       "      <th>564</th>\n",
       "      <td>1.38</td>\n",
       "      <td>1.327006</td>\n",
       "    </tr>\n",
       "    <tr>\n",
       "      <th>597</th>\n",
       "      <td>1.41</td>\n",
       "      <td>1.489302</td>\n",
       "    </tr>\n",
       "    <tr>\n",
       "      <th>674</th>\n",
       "      <td>2.62</td>\n",
       "      <td>2.720174</td>\n",
       "    </tr>\n",
       "    <tr>\n",
       "      <th>657</th>\n",
       "      <td>1.88</td>\n",
       "      <td>1.898387</td>\n",
       "    </tr>\n",
       "    <tr>\n",
       "      <th>591</th>\n",
       "      <td>1.39</td>\n",
       "      <td>1.478349</td>\n",
       "    </tr>\n",
       "  </tbody>\n",
       "</table>\n",
       "<p>72 rows × 2 columns</p>\n",
       "</div>"
      ],
      "text/plain": [
       "     Actual  Prediction\n",
       "504    1.41    1.388519\n",
       "486    1.36    1.319056\n",
       "573    1.38    1.357933\n",
       "589    1.39    1.468743\n",
       "584    1.39    1.361470\n",
       "..      ...         ...\n",
       "564    1.38    1.327006\n",
       "597    1.41    1.489302\n",
       "674    2.62    2.720174\n",
       "657    1.88    1.898387\n",
       "591    1.39    1.478349\n",
       "\n",
       "[72 rows x 2 columns]"
      ]
     },
     "execution_count": 844,
     "metadata": {},
     "output_type": "execute_result"
    }
   ],
   "source": [
    "import numpy as np\n",
    "from sklearn.model_selection import train_test_split\n",
    "from sklearn.svm import SVR\n",
    "from sklearn.metrics import mean_squared_error,r2_score\n",
    "\n",
    "X = c3[[\"ctry\",\"yr\",\"mth\",\"food_item\"]]\n",
    "y = c3[[\"Price(USD)\"]]\n",
    "\n",
    "X_train, X_test, y_train, y_test = train_test_split(X, y, test_size=0.3, random_state=42)\n",
    "encoder = OneHotEncoder(handle_unknown='ignore', sparse=False)\n",
    "X_train_encoded = encoder.fit_transform(X_train)\n",
    "X_test_encoded = encoder.transform(X_test)\n",
    "\n",
    "svm_regressor = SVR(kernel='linear') \n",
    "\n",
    "svm_regressor.fit(X_train_encoded,y_train)\n",
    "\n",
    "y_predsvm = svm_regressor.predict(X_test_encoded)\n",
    "\n",
    "svm = pd.DataFrame()\n",
    "svm[\"Actual\"] = y_test\n",
    "svm[\"Prediction\"] = y_predsvm\n",
    "svm"
   ]
  },
  {
   "cell_type": "code",
   "execution_count": 845,
   "id": "c6389d7e",
   "metadata": {},
   "outputs": [
    {
     "name": "stdout",
     "output_type": "stream",
     "text": [
      "Mean Squared Error: 0.0038601632103824318\n",
      "RMSE:  0.06213021173617898\n"
     ]
    }
   ],
   "source": [
    "msesvm = mean_squared_error(y_test, y_predsvm)\n",
    "print(\"Mean Squared Error:\", msesvm)\n",
    "print(\"RMSE: \", msesvm**(1/2.0)) "
   ]
  },
  {
   "cell_type": "code",
   "execution_count": 846,
   "id": "213d072d",
   "metadata": {},
   "outputs": [
    {
     "name": "stdout",
     "output_type": "stream",
     "text": [
      "R2 score: 0.9890783291904247\n"
     ]
    }
   ],
   "source": [
    "r2svm = r2_score(y_test, y_predsvm)\n",
    "print(\"R2 score:\",r2svm)"
   ]
  },
  {
   "cell_type": "markdown",
   "id": "8be59b19",
   "metadata": {},
   "source": [
    "#### SOUTH AFRICA"
   ]
  },
  {
   "cell_type": "code",
   "execution_count": 847,
   "id": "511d8d07",
   "metadata": {
    "scrolled": true
   },
   "outputs": [
    {
     "name": "stderr",
     "output_type": "stream",
     "text": [
      "C:\\Users\\Leechita G\\anaconda3\\lib\\site-packages\\sklearn\\utils\\validation.py:63: DataConversionWarning: A column-vector y was passed when a 1d array was expected. Please change the shape of y to (n_samples, ), for example using ravel().\n",
      "  return f(*args, **kwargs)\n"
     ]
    },
    {
     "data": {
      "text/html": [
       "<div>\n",
       "<style scoped>\n",
       "    .dataframe tbody tr th:only-of-type {\n",
       "        vertical-align: middle;\n",
       "    }\n",
       "\n",
       "    .dataframe tbody tr th {\n",
       "        vertical-align: top;\n",
       "    }\n",
       "\n",
       "    .dataframe thead th {\n",
       "        text-align: right;\n",
       "    }\n",
       "</style>\n",
       "<table border=\"1\" class=\"dataframe\">\n",
       "  <thead>\n",
       "    <tr style=\"text-align: right;\">\n",
       "      <th></th>\n",
       "      <th>Actual</th>\n",
       "      <th>Prediction</th>\n",
       "    </tr>\n",
       "  </thead>\n",
       "  <tbody>\n",
       "    <tr>\n",
       "      <th>744</th>\n",
       "      <td>0.76</td>\n",
       "      <td>0.829501</td>\n",
       "    </tr>\n",
       "    <tr>\n",
       "      <th>726</th>\n",
       "      <td>0.71</td>\n",
       "      <td>0.796834</td>\n",
       "    </tr>\n",
       "    <tr>\n",
       "      <th>813</th>\n",
       "      <td>0.85</td>\n",
       "      <td>0.924327</td>\n",
       "    </tr>\n",
       "    <tr>\n",
       "      <th>829</th>\n",
       "      <td>0.90</td>\n",
       "      <td>1.000201</td>\n",
       "    </tr>\n",
       "    <tr>\n",
       "      <th>824</th>\n",
       "      <td>0.88</td>\n",
       "      <td>0.950623</td>\n",
       "    </tr>\n",
       "    <tr>\n",
       "      <th>...</th>\n",
       "      <td>...</td>\n",
       "      <td>...</td>\n",
       "    </tr>\n",
       "    <tr>\n",
       "      <th>804</th>\n",
       "      <td>0.82</td>\n",
       "      <td>0.899587</td>\n",
       "    </tr>\n",
       "    <tr>\n",
       "      <th>837</th>\n",
       "      <td>0.94</td>\n",
       "      <td>1.015008</td>\n",
       "    </tr>\n",
       "    <tr>\n",
       "      <th>914</th>\n",
       "      <td>0.89</td>\n",
       "      <td>0.966292</td>\n",
       "    </tr>\n",
       "    <tr>\n",
       "      <th>897</th>\n",
       "      <td>1.71</td>\n",
       "      <td>1.594430</td>\n",
       "    </tr>\n",
       "    <tr>\n",
       "      <th>831</th>\n",
       "      <td>0.91</td>\n",
       "      <td>1.010327</td>\n",
       "    </tr>\n",
       "  </tbody>\n",
       "</table>\n",
       "<p>72 rows × 2 columns</p>\n",
       "</div>"
      ],
      "text/plain": [
       "     Actual  Prediction\n",
       "744    0.76    0.829501\n",
       "726    0.71    0.796834\n",
       "813    0.85    0.924327\n",
       "829    0.90    1.000201\n",
       "824    0.88    0.950623\n",
       "..      ...         ...\n",
       "804    0.82    0.899587\n",
       "837    0.94    1.015008\n",
       "914    0.89    0.966292\n",
       "897    1.71    1.594430\n",
       "831    0.91    1.010327\n",
       "\n",
       "[72 rows x 2 columns]"
      ]
     },
     "execution_count": 847,
     "metadata": {},
     "output_type": "execute_result"
    }
   ],
   "source": [
    "import numpy as np\n",
    "from sklearn.model_selection import train_test_split\n",
    "from sklearn.svm import SVR\n",
    "from sklearn.metrics import mean_squared_error,r2_score\n",
    "\n",
    "X = c4[[\"ctry\",\"yr\",\"mth\",\"food_item\"]]\n",
    "y = c4[[\"Price(USD)\"]]\n",
    "\n",
    "X_train, X_test, y_train, y_test = train_test_split(X, y, test_size=0.3, random_state=42)\n",
    "encoder = OneHotEncoder(handle_unknown='ignore', sparse=False)\n",
    "X_train_encoded = encoder.fit_transform(X_train)\n",
    "X_test_encoded = encoder.transform(X_test)\n",
    "\n",
    "svm_regressor = SVR(kernel='linear') \n",
    "\n",
    "svm_regressor.fit(X_train_encoded,y_train)\n",
    "\n",
    "y_predsvm = svm_regressor.predict(X_test_encoded)\n",
    "\n",
    "svm = pd.DataFrame()\n",
    "svm[\"Actual\"] = y_test\n",
    "svm[\"Prediction\"] = y_predsvm\n",
    "svm"
   ]
  },
  {
   "cell_type": "code",
   "execution_count": 848,
   "id": "ae149d11",
   "metadata": {},
   "outputs": [
    {
     "name": "stdout",
     "output_type": "stream",
     "text": [
      "Mean Squared Error: 0.0054271037507841085\n",
      "RMSE:  0.07366887911991134\n"
     ]
    }
   ],
   "source": [
    "msesvm = mean_squared_error(y_test, y_predsvm)\n",
    "print(\"Mean Squared Error:\", msesvm)\n",
    "print(\"RMSE: \", msesvm**(1/2.0)) "
   ]
  },
  {
   "cell_type": "code",
   "execution_count": 849,
   "id": "51cb560e",
   "metadata": {},
   "outputs": [
    {
     "name": "stdout",
     "output_type": "stream",
     "text": [
      "R2 score: 0.9441304621599891\n"
     ]
    }
   ],
   "source": [
    "r2svm = r2_score(y_test, y_predsvm)\n",
    "print(\"R2 score:\",r2svm)"
   ]
  },
  {
   "cell_type": "markdown",
   "id": "467cc330",
   "metadata": {},
   "source": [
    "#### CANADA"
   ]
  },
  {
   "cell_type": "code",
   "execution_count": 853,
   "id": "4c10fdb6",
   "metadata": {
    "scrolled": true
   },
   "outputs": [
    {
     "name": "stderr",
     "output_type": "stream",
     "text": [
      "C:\\Users\\Leechita G\\anaconda3\\lib\\site-packages\\sklearn\\utils\\validation.py:63: DataConversionWarning: A column-vector y was passed when a 1d array was expected. Please change the shape of y to (n_samples, ), for example using ravel().\n",
      "  return f(*args, **kwargs)\n"
     ]
    },
    {
     "data": {
      "text/html": [
       "<div>\n",
       "<style scoped>\n",
       "    .dataframe tbody tr th:only-of-type {\n",
       "        vertical-align: middle;\n",
       "    }\n",
       "\n",
       "    .dataframe tbody tr th {\n",
       "        vertical-align: top;\n",
       "    }\n",
       "\n",
       "    .dataframe thead th {\n",
       "        text-align: right;\n",
       "    }\n",
       "</style>\n",
       "<table border=\"1\" class=\"dataframe\">\n",
       "  <thead>\n",
       "    <tr style=\"text-align: right;\">\n",
       "      <th></th>\n",
       "      <th>Actual</th>\n",
       "      <th>Prediction</th>\n",
       "    </tr>\n",
       "  </thead>\n",
       "  <tbody>\n",
       "    <tr>\n",
       "      <th>984</th>\n",
       "      <td>2.30</td>\n",
       "      <td>2.340282</td>\n",
       "    </tr>\n",
       "    <tr>\n",
       "      <th>966</th>\n",
       "      <td>2.21</td>\n",
       "      <td>2.293706</td>\n",
       "    </tr>\n",
       "    <tr>\n",
       "      <th>1053</th>\n",
       "      <td>1.95</td>\n",
       "      <td>2.014750</td>\n",
       "    </tr>\n",
       "    <tr>\n",
       "      <th>1069</th>\n",
       "      <td>2.03</td>\n",
       "      <td>2.140895</td>\n",
       "    </tr>\n",
       "    <tr>\n",
       "      <th>1064</th>\n",
       "      <td>2.00</td>\n",
       "      <td>2.039507</td>\n",
       "    </tr>\n",
       "    <tr>\n",
       "      <th>...</th>\n",
       "      <td>...</td>\n",
       "      <td>...</td>\n",
       "    </tr>\n",
       "    <tr>\n",
       "      <th>1044</th>\n",
       "      <td>1.94</td>\n",
       "      <td>2.000677</td>\n",
       "    </tr>\n",
       "    <tr>\n",
       "      <th>1077</th>\n",
       "      <td>2.09</td>\n",
       "      <td>2.163272</td>\n",
       "    </tr>\n",
       "    <tr>\n",
       "      <th>1154</th>\n",
       "      <td>2.22</td>\n",
       "      <td>2.290440</td>\n",
       "    </tr>\n",
       "    <tr>\n",
       "      <th>1137</th>\n",
       "      <td>3.23</td>\n",
       "      <td>3.113539</td>\n",
       "    </tr>\n",
       "    <tr>\n",
       "      <th>1071</th>\n",
       "      <td>2.05</td>\n",
       "      <td>2.159392</td>\n",
       "    </tr>\n",
       "  </tbody>\n",
       "</table>\n",
       "<p>72 rows × 2 columns</p>\n",
       "</div>"
      ],
      "text/plain": [
       "      Actual  Prediction\n",
       "984     2.30    2.340282\n",
       "966     2.21    2.293706\n",
       "1053    1.95    2.014750\n",
       "1069    2.03    2.140895\n",
       "1064    2.00    2.039507\n",
       "...      ...         ...\n",
       "1044    1.94    2.000677\n",
       "1077    2.09    2.163272\n",
       "1154    2.22    2.290440\n",
       "1137    3.23    3.113539\n",
       "1071    2.05    2.159392\n",
       "\n",
       "[72 rows x 2 columns]"
      ]
     },
     "execution_count": 853,
     "metadata": {},
     "output_type": "execute_result"
    }
   ],
   "source": [
    "import numpy as np\n",
    "from sklearn.model_selection import train_test_split\n",
    "from sklearn.svm import SVR\n",
    "from sklearn.metrics import mean_squared_error,r2_score\n",
    "\n",
    "X = c5[[\"ctry\",\"yr\",\"mth\",\"food_item\"]]\n",
    "y = c5[[\"Price(USD)\"]]\n",
    "\n",
    "X_train, X_test, y_train, y_test = train_test_split(X, y, test_size=0.3, random_state=42)\n",
    "encoder = OneHotEncoder(handle_unknown='ignore', sparse=False)\n",
    "X_train_encoded = encoder.fit_transform(X_train)\n",
    "X_test_encoded = encoder.transform(X_test)\n",
    "\n",
    "svm_regressor = SVR(kernel='linear') \n",
    "\n",
    "svm_regressor.fit(X_train_encoded,y_train)\n",
    "\n",
    "y_predsvm = svm_regressor.predict(X_test_encoded)\n",
    "\n",
    "svm = pd.DataFrame()\n",
    "svm[\"Actual\"] = y_test\n",
    "svm[\"Prediction\"] = y_predsvm\n",
    "svm"
   ]
  },
  {
   "cell_type": "code",
   "execution_count": 854,
   "id": "cd7b4e4d",
   "metadata": {},
   "outputs": [
    {
     "name": "stdout",
     "output_type": "stream",
     "text": [
      "Mean Squared Error: 0.005403415512370958\n",
      "RMSE:  0.07350792822798748\n"
     ]
    }
   ],
   "source": [
    "msesvm = mean_squared_error(y_test, y_predsvm)\n",
    "print(\"Mean Squared Error:\", msesvm)\n",
    "print(\"RMSE: \", msesvm**(1/2.0)) "
   ]
  },
  {
   "cell_type": "code",
   "execution_count": 855,
   "id": "e1033695",
   "metadata": {},
   "outputs": [
    {
     "name": "stdout",
     "output_type": "stream",
     "text": [
      "R2 score: 0.9672005364574261\n"
     ]
    }
   ],
   "source": [
    "r2svm = r2_score(y_test, y_predsvm)\n",
    "print(\"R2 score:\",r2svm)"
   ]
  },
  {
   "cell_type": "markdown",
   "id": "ca346e22",
   "metadata": {},
   "source": [
    "#### XGBOOST"
   ]
  },
  {
   "cell_type": "markdown",
   "id": "460fd670",
   "metadata": {},
   "source": [
    "#### TEST 1"
   ]
  },
  {
   "cell_type": "code",
   "execution_count": 982,
   "id": "be94ba18",
   "metadata": {},
   "outputs": [],
   "source": [
    "import pandas as pd\n",
    "import numpy as np\n",
    "from sklearn.model_selection import train_test_split\n",
    "from xgboost import XGBRegressor, DMatrix\n",
    "from sklearn.metrics import mean_squared_error,r2_score\n",
    "from sklearn.preprocessing import OneHotEncoder"
   ]
  },
  {
   "cell_type": "code",
   "execution_count": 983,
   "id": "bd4279c8",
   "metadata": {},
   "outputs": [],
   "source": [
    "# Separate features (X) and target (y)\n",
    "X = df[[\"yr\",\"mth\",\"food_item\"]]\n",
    "y = df[\"Price(USD)\"]\n",
    "X_train, X_test, y_train, y_test = train_test_split(X, y, test_size=0.3, random_state=42)\n",
    "encoder = OneHotEncoder(handle_unknown='ignore', sparse=False)\n",
    "X_train_encoded = encoder.fit_transform(X_train)\n",
    "X_test_encoded = encoder.transform(X_test)"
   ]
  },
  {
   "cell_type": "code",
   "execution_count": 984,
   "id": "7d908586",
   "metadata": {
    "scrolled": true
   },
   "outputs": [
    {
     "data": {
      "text/plain": [
       "yr             int64\n",
       "mth            int64\n",
       "food_item    float64\n",
       "dtype: object"
      ]
     },
     "execution_count": 984,
     "metadata": {},
     "output_type": "execute_result"
    }
   ],
   "source": [
    "X.dtypes"
   ]
  },
  {
   "cell_type": "code",
   "execution_count": 985,
   "id": "3e693bcb",
   "metadata": {},
   "outputs": [],
   "source": [
    "dtrain = DMatrix(X_train, label=y_train, enable_categorical=True)\n",
    "dtest = DMatrix(X_test, label=y_test, enable_categorical=True)"
   ]
  },
  {
   "cell_type": "code",
   "execution_count": 986,
   "id": "ec79bc4e",
   "metadata": {},
   "outputs": [],
   "source": [
    "model = XGBRegressor(objective='reg:squarederror')"
   ]
  },
  {
   "cell_type": "code",
   "execution_count": 987,
   "id": "005873cb",
   "metadata": {},
   "outputs": [
    {
     "data": {
      "text/plain": [
       "XGBRegressor(base_score=0.5, booster='gbtree', callbacks=None,\n",
       "             colsample_bylevel=1, colsample_bynode=1, colsample_bytree=1,\n",
       "             early_stopping_rounds=None, enable_categorical=False,\n",
       "             eval_metric=None, gamma=0, gpu_id=-1, grow_policy='depthwise',\n",
       "             importance_type=None, interaction_constraints='',\n",
       "             learning_rate=0.300000012, max_bin=256, max_cat_to_onehot=4,\n",
       "             max_delta_step=0, max_depth=6, max_leaves=0, min_child_weight=1,\n",
       "             missing=nan, monotone_constraints='()', n_estimators=100, n_jobs=0,\n",
       "             num_parallel_tree=1, predictor='auto', random_state=0, reg_alpha=0,\n",
       "             reg_lambda=1, ...)"
      ]
     },
     "execution_count": 987,
     "metadata": {},
     "output_type": "execute_result"
    }
   ],
   "source": [
    "model.fit(X_train,y_train)"
   ]
  },
  {
   "cell_type": "code",
   "execution_count": 988,
   "id": "16dca5b7",
   "metadata": {},
   "outputs": [],
   "source": [
    "y_predx = model.predict(X_test)\n"
   ]
  },
  {
   "cell_type": "code",
   "execution_count": 989,
   "id": "0687a51e",
   "metadata": {},
   "outputs": [
    {
     "data": {
      "text/html": [
       "<div>\n",
       "<style scoped>\n",
       "    .dataframe tbody tr th:only-of-type {\n",
       "        vertical-align: middle;\n",
       "    }\n",
       "\n",
       "    .dataframe tbody tr th {\n",
       "        vertical-align: top;\n",
       "    }\n",
       "\n",
       "    .dataframe thead th {\n",
       "        text-align: right;\n",
       "    }\n",
       "</style>\n",
       "<table border=\"1\" class=\"dataframe\">\n",
       "  <thead>\n",
       "    <tr style=\"text-align: right;\">\n",
       "      <th></th>\n",
       "      <th>Actual</th>\n",
       "      <th>Prediction</th>\n",
       "    </tr>\n",
       "  </thead>\n",
       "  <tbody>\n",
       "    <tr>\n",
       "      <th>1178</th>\n",
       "      <td>2.28</td>\n",
       "      <td>1.566296</td>\n",
       "    </tr>\n",
       "    <tr>\n",
       "      <th>865</th>\n",
       "      <td>1.55</td>\n",
       "      <td>2.467576</td>\n",
       "    </tr>\n",
       "    <tr>\n",
       "      <th>101</th>\n",
       "      <td>1.07</td>\n",
       "      <td>1.679032</td>\n",
       "    </tr>\n",
       "    <tr>\n",
       "      <th>439</th>\n",
       "      <td>1.13</td>\n",
       "      <td>1.613765</td>\n",
       "    </tr>\n",
       "    <tr>\n",
       "      <th>58</th>\n",
       "      <td>1.95</td>\n",
       "      <td>1.865786</td>\n",
       "    </tr>\n",
       "    <tr>\n",
       "      <th>...</th>\n",
       "      <td>...</td>\n",
       "      <td>...</td>\n",
       "    </tr>\n",
       "    <tr>\n",
       "      <th>47</th>\n",
       "      <td>1.80</td>\n",
       "      <td>1.702303</td>\n",
       "    </tr>\n",
       "    <tr>\n",
       "      <th>318</th>\n",
       "      <td>1.10</td>\n",
       "      <td>1.861673</td>\n",
       "    </tr>\n",
       "    <tr>\n",
       "      <th>106</th>\n",
       "      <td>1.14</td>\n",
       "      <td>1.671103</td>\n",
       "    </tr>\n",
       "    <tr>\n",
       "      <th>798</th>\n",
       "      <td>0.81</td>\n",
       "      <td>1.861673</td>\n",
       "    </tr>\n",
       "    <tr>\n",
       "      <th>55</th>\n",
       "      <td>1.91</td>\n",
       "      <td>1.758244</td>\n",
       "    </tr>\n",
       "  </tbody>\n",
       "</table>\n",
       "<p>360 rows × 2 columns</p>\n",
       "</div>"
      ],
      "text/plain": [
       "      Actual  Prediction\n",
       "1178    2.28    1.566296\n",
       "865     1.55    2.467576\n",
       "101     1.07    1.679032\n",
       "439     1.13    1.613765\n",
       "58      1.95    1.865786\n",
       "...      ...         ...\n",
       "47      1.80    1.702303\n",
       "318     1.10    1.861673\n",
       "106     1.14    1.671103\n",
       "798     0.81    1.861673\n",
       "55      1.91    1.758244\n",
       "\n",
       "[360 rows x 2 columns]"
      ]
     },
     "execution_count": 989,
     "metadata": {},
     "output_type": "execute_result"
    }
   ],
   "source": [
    "xgbc = pd.DataFrame()\n",
    "xgbc[\"Actual\"] = y_test\n",
    "xgbc[\"Prediction\"] = y_predx\n",
    "xgbc"
   ]
  },
  {
   "cell_type": "code",
   "execution_count": 990,
   "id": "affd69df",
   "metadata": {},
   "outputs": [
    {
     "name": "stdout",
     "output_type": "stream",
     "text": [
      "Mean Squared Error: 0.5494701293370117\n",
      "RMSE:  0.7412625238989299\n"
     ]
    }
   ],
   "source": [
    "msexg = mean_squared_error(y_test, y_predx)\n",
    "print(f\"Mean Squared Error:\",msexg)\n",
    "print(\"RMSE: \", msexg**(1/2.0)) \n"
   ]
  },
  {
   "cell_type": "code",
   "execution_count": 991,
   "id": "62c1e17b",
   "metadata": {},
   "outputs": [
    {
     "name": "stdout",
     "output_type": "stream",
     "text": [
      "R2 score: -0.06574618747231198\n"
     ]
    }
   ],
   "source": [
    "r2x = r2_score(y_test, y_predx)\n",
    "print(\"R2 score:\",r2x)"
   ]
  },
  {
   "cell_type": "markdown",
   "id": "ed06ad8d",
   "metadata": {},
   "source": [
    "#### TEST 2"
   ]
  },
  {
   "cell_type": "markdown",
   "id": "e36143d5",
   "metadata": {},
   "source": [
    "#### AUSTRALIA"
   ]
  },
  {
   "cell_type": "code",
   "execution_count": 890,
   "id": "8c0ea5d9",
   "metadata": {},
   "outputs": [
    {
     "data": {
      "text/html": [
       "<div>\n",
       "<style scoped>\n",
       "    .dataframe tbody tr th:only-of-type {\n",
       "        vertical-align: middle;\n",
       "    }\n",
       "\n",
       "    .dataframe tbody tr th {\n",
       "        vertical-align: top;\n",
       "    }\n",
       "\n",
       "    .dataframe thead th {\n",
       "        text-align: right;\n",
       "    }\n",
       "</style>\n",
       "<table border=\"1\" class=\"dataframe\">\n",
       "  <thead>\n",
       "    <tr style=\"text-align: right;\">\n",
       "      <th></th>\n",
       "      <th>ctry</th>\n",
       "      <th>yr</th>\n",
       "      <th>mth</th>\n",
       "      <th>food_item</th>\n",
       "      <th>Price(USD)</th>\n",
       "      <th>qlt</th>\n",
       "    </tr>\n",
       "  </thead>\n",
       "  <tbody>\n",
       "    <tr>\n",
       "      <th>0</th>\n",
       "      <td>Australia</td>\n",
       "      <td>2018</td>\n",
       "      <td>1</td>\n",
       "      <td>0</td>\n",
       "      <td>1.47</td>\n",
       "      <td>High</td>\n",
       "    </tr>\n",
       "    <tr>\n",
       "      <th>1</th>\n",
       "      <td>Australia</td>\n",
       "      <td>2018</td>\n",
       "      <td>2</td>\n",
       "      <td>0</td>\n",
       "      <td>1.48</td>\n",
       "      <td>High</td>\n",
       "    </tr>\n",
       "    <tr>\n",
       "      <th>2</th>\n",
       "      <td>Australia</td>\n",
       "      <td>2018</td>\n",
       "      <td>3</td>\n",
       "      <td>0</td>\n",
       "      <td>1.48</td>\n",
       "      <td>High</td>\n",
       "    </tr>\n",
       "    <tr>\n",
       "      <th>3</th>\n",
       "      <td>Australia</td>\n",
       "      <td>2018</td>\n",
       "      <td>4</td>\n",
       "      <td>0</td>\n",
       "      <td>1.48</td>\n",
       "      <td>High</td>\n",
       "    </tr>\n",
       "    <tr>\n",
       "      <th>4</th>\n",
       "      <td>Australia</td>\n",
       "      <td>2018</td>\n",
       "      <td>5</td>\n",
       "      <td>0</td>\n",
       "      <td>1.48</td>\n",
       "      <td>High</td>\n",
       "    </tr>\n",
       "    <tr>\n",
       "      <th>...</th>\n",
       "      <td>...</td>\n",
       "      <td>...</td>\n",
       "      <td>...</td>\n",
       "      <td>...</td>\n",
       "      <td>...</td>\n",
       "      <td>...</td>\n",
       "    </tr>\n",
       "    <tr>\n",
       "      <th>235</th>\n",
       "      <td>Australia</td>\n",
       "      <td>2022</td>\n",
       "      <td>8</td>\n",
       "      <td>3</td>\n",
       "      <td>2.68</td>\n",
       "      <td>High</td>\n",
       "    </tr>\n",
       "    <tr>\n",
       "      <th>236</th>\n",
       "      <td>Australia</td>\n",
       "      <td>2022</td>\n",
       "      <td>9</td>\n",
       "      <td>3</td>\n",
       "      <td>2.70</td>\n",
       "      <td>High</td>\n",
       "    </tr>\n",
       "    <tr>\n",
       "      <th>237</th>\n",
       "      <td>Australia</td>\n",
       "      <td>2022</td>\n",
       "      <td>10</td>\n",
       "      <td>3</td>\n",
       "      <td>2.73</td>\n",
       "      <td>High</td>\n",
       "    </tr>\n",
       "    <tr>\n",
       "      <th>238</th>\n",
       "      <td>Australia</td>\n",
       "      <td>2022</td>\n",
       "      <td>11</td>\n",
       "      <td>3</td>\n",
       "      <td>2.75</td>\n",
       "      <td>High</td>\n",
       "    </tr>\n",
       "    <tr>\n",
       "      <th>239</th>\n",
       "      <td>Australia</td>\n",
       "      <td>2022</td>\n",
       "      <td>12</td>\n",
       "      <td>3</td>\n",
       "      <td>2.77</td>\n",
       "      <td>High</td>\n",
       "    </tr>\n",
       "  </tbody>\n",
       "</table>\n",
       "<p>240 rows × 6 columns</p>\n",
       "</div>"
      ],
      "text/plain": [
       "          ctry    yr  mth  food_item  Price(USD)   qlt\n",
       "0    Australia  2018    1          0        1.47  High\n",
       "1    Australia  2018    2          0        1.48  High\n",
       "2    Australia  2018    3          0        1.48  High\n",
       "3    Australia  2018    4          0        1.48  High\n",
       "4    Australia  2018    5          0        1.48  High\n",
       "..         ...   ...  ...        ...         ...   ...\n",
       "235  Australia  2022    8          3        2.68  High\n",
       "236  Australia  2022    9          3        2.70  High\n",
       "237  Australia  2022   10          3        2.73  High\n",
       "238  Australia  2022   11          3        2.75  High\n",
       "239  Australia  2022   12          3        2.77  High\n",
       "\n",
       "[240 rows x 6 columns]"
      ]
     },
     "execution_count": 890,
     "metadata": {},
     "output_type": "execute_result"
    }
   ],
   "source": [
    "c1"
   ]
  },
  {
   "cell_type": "code",
   "execution_count": 891,
   "id": "0c4924bf",
   "metadata": {},
   "outputs": [
    {
     "data": {
      "text/html": [
       "<div>\n",
       "<style scoped>\n",
       "    .dataframe tbody tr th:only-of-type {\n",
       "        vertical-align: middle;\n",
       "    }\n",
       "\n",
       "    .dataframe tbody tr th {\n",
       "        vertical-align: top;\n",
       "    }\n",
       "\n",
       "    .dataframe thead th {\n",
       "        text-align: right;\n",
       "    }\n",
       "</style>\n",
       "<table border=\"1\" class=\"dataframe\">\n",
       "  <thead>\n",
       "    <tr style=\"text-align: right;\">\n",
       "      <th></th>\n",
       "      <th>Actual</th>\n",
       "      <th>Prediction</th>\n",
       "    </tr>\n",
       "  </thead>\n",
       "  <tbody>\n",
       "    <tr>\n",
       "      <th>24</th>\n",
       "      <td>1.59</td>\n",
       "      <td>1.548372</td>\n",
       "    </tr>\n",
       "    <tr>\n",
       "      <th>6</th>\n",
       "      <td>1.49</td>\n",
       "      <td>1.490053</td>\n",
       "    </tr>\n",
       "    <tr>\n",
       "      <th>93</th>\n",
       "      <td>0.99</td>\n",
       "      <td>0.995965</td>\n",
       "    </tr>\n",
       "    <tr>\n",
       "      <th>109</th>\n",
       "      <td>1.17</td>\n",
       "      <td>1.126048</td>\n",
       "    </tr>\n",
       "    <tr>\n",
       "      <th>104</th>\n",
       "      <td>1.11</td>\n",
       "      <td>1.132856</td>\n",
       "    </tr>\n",
       "    <tr>\n",
       "      <th>...</th>\n",
       "      <td>...</td>\n",
       "      <td>...</td>\n",
       "    </tr>\n",
       "    <tr>\n",
       "      <th>84</th>\n",
       "      <td>0.96</td>\n",
       "      <td>0.956711</td>\n",
       "    </tr>\n",
       "    <tr>\n",
       "      <th>117</th>\n",
       "      <td>1.18</td>\n",
       "      <td>1.184255</td>\n",
       "    </tr>\n",
       "    <tr>\n",
       "      <th>194</th>\n",
       "      <td>2.22</td>\n",
       "      <td>2.225122</td>\n",
       "    </tr>\n",
       "    <tr>\n",
       "      <th>177</th>\n",
       "      <td>3.91</td>\n",
       "      <td>3.754107</td>\n",
       "    </tr>\n",
       "    <tr>\n",
       "      <th>111</th>\n",
       "      <td>1.17</td>\n",
       "      <td>1.161538</td>\n",
       "    </tr>\n",
       "  </tbody>\n",
       "</table>\n",
       "<p>72 rows × 2 columns</p>\n",
       "</div>"
      ],
      "text/plain": [
       "     Actual  Prediction\n",
       "24     1.59    1.548372\n",
       "6      1.49    1.490053\n",
       "93     0.99    0.995965\n",
       "109    1.17    1.126048\n",
       "104    1.11    1.132856\n",
       "..      ...         ...\n",
       "84     0.96    0.956711\n",
       "117    1.18    1.184255\n",
       "194    2.22    2.225122\n",
       "177    3.91    3.754107\n",
       "111    1.17    1.161538\n",
       "\n",
       "[72 rows x 2 columns]"
      ]
     },
     "execution_count": 891,
     "metadata": {},
     "output_type": "execute_result"
    }
   ],
   "source": [
    "X = c1[[\"yr\",\"mth\",\"food_item\"]]\n",
    "y =  c1[\"Price(USD)\"]\n",
    "X_train, X_test, y_train, y_test = train_test_split(X, y, test_size=0.3, random_state=42)\n",
    "dtrain = xgb.DMatrix(X_train,label=y_train)\n",
    "dtest = xgb.DMatrix(X_test,label=y_test)\n",
    "model = XGBRegressor(objective='reg:squarederror')\n",
    "model.fit(X_train,y_train)\n",
    "y_pred = model.predict(X_test)\n",
    "xgbc1 = pd.DataFrame()\n",
    "xgbc1[\"Actual\"] = y_test\n",
    "xgbc1[\"Prediction\"] = y_pred\n",
    "xgbc1"
   ]
  },
  {
   "cell_type": "code",
   "execution_count": 892,
   "id": "82055696",
   "metadata": {},
   "outputs": [
    {
     "name": "stdout",
     "output_type": "stream",
     "text": [
      "Mean Squared Error: 0.0014706088376100462\n",
      "RMSE:  0.03834851806276282\n"
     ]
    }
   ],
   "source": [
    "mse = mean_squared_error(y_test, y_pred)\n",
    "print(f\"Mean Squared Error:\",mse)\n",
    "print(\"RMSE: \", mse**(1/2.0)) "
   ]
  },
  {
   "cell_type": "code",
   "execution_count": 893,
   "id": "94c54235",
   "metadata": {},
   "outputs": [
    {
     "name": "stdout",
     "output_type": "stream",
     "text": [
      "R2 score: 0.997574586545207\n"
     ]
    }
   ],
   "source": [
    "r2 = r2_score(y_test, y_pred)\n",
    "print(\"R2 score:\",r2)"
   ]
  },
  {
   "cell_type": "markdown",
   "id": "4e932c0e",
   "metadata": {},
   "source": [
    "#### SWEDEN"
   ]
  },
  {
   "cell_type": "code",
   "execution_count": 895,
   "id": "9a4aff49",
   "metadata": {},
   "outputs": [
    {
     "data": {
      "text/html": [
       "<div>\n",
       "<style scoped>\n",
       "    .dataframe tbody tr th:only-of-type {\n",
       "        vertical-align: middle;\n",
       "    }\n",
       "\n",
       "    .dataframe tbody tr th {\n",
       "        vertical-align: top;\n",
       "    }\n",
       "\n",
       "    .dataframe thead th {\n",
       "        text-align: right;\n",
       "    }\n",
       "</style>\n",
       "<table border=\"1\" class=\"dataframe\">\n",
       "  <thead>\n",
       "    <tr style=\"text-align: right;\">\n",
       "      <th></th>\n",
       "      <th>Actual</th>\n",
       "      <th>Prediction</th>\n",
       "    </tr>\n",
       "  </thead>\n",
       "  <tbody>\n",
       "    <tr>\n",
       "      <th>264</th>\n",
       "      <td>2.06</td>\n",
       "      <td>2.003322</td>\n",
       "    </tr>\n",
       "    <tr>\n",
       "      <th>246</th>\n",
       "      <td>1.85</td>\n",
       "      <td>1.860326</td>\n",
       "    </tr>\n",
       "    <tr>\n",
       "      <th>333</th>\n",
       "      <td>1.17</td>\n",
       "      <td>1.171019</td>\n",
       "    </tr>\n",
       "    <tr>\n",
       "      <th>349</th>\n",
       "      <td>1.29</td>\n",
       "      <td>1.298670</td>\n",
       "    </tr>\n",
       "    <tr>\n",
       "      <th>344</th>\n",
       "      <td>1.24</td>\n",
       "      <td>1.253309</td>\n",
       "    </tr>\n",
       "    <tr>\n",
       "      <th>...</th>\n",
       "      <td>...</td>\n",
       "      <td>...</td>\n",
       "    </tr>\n",
       "    <tr>\n",
       "      <th>324</th>\n",
       "      <td>1.15</td>\n",
       "      <td>1.127799</td>\n",
       "    </tr>\n",
       "    <tr>\n",
       "      <th>357</th>\n",
       "      <td>1.37</td>\n",
       "      <td>1.369112</td>\n",
       "    </tr>\n",
       "    <tr>\n",
       "      <th>434</th>\n",
       "      <td>1.12</td>\n",
       "      <td>1.113201</td>\n",
       "    </tr>\n",
       "    <tr>\n",
       "      <th>417</th>\n",
       "      <td>3.44</td>\n",
       "      <td>3.415027</td>\n",
       "    </tr>\n",
       "    <tr>\n",
       "      <th>351</th>\n",
       "      <td>1.31</td>\n",
       "      <td>1.308117</td>\n",
       "    </tr>\n",
       "  </tbody>\n",
       "</table>\n",
       "<p>72 rows × 2 columns</p>\n",
       "</div>"
      ],
      "text/plain": [
       "     Actual  Prediction\n",
       "264    2.06    2.003322\n",
       "246    1.85    1.860326\n",
       "333    1.17    1.171019\n",
       "349    1.29    1.298670\n",
       "344    1.24    1.253309\n",
       "..      ...         ...\n",
       "324    1.15    1.127799\n",
       "357    1.37    1.369112\n",
       "434    1.12    1.113201\n",
       "417    3.44    3.415027\n",
       "351    1.31    1.308117\n",
       "\n",
       "[72 rows x 2 columns]"
      ]
     },
     "execution_count": 895,
     "metadata": {},
     "output_type": "execute_result"
    }
   ],
   "source": [
    "X = c2[[\"yr\",\"mth\",\"food_item\"]]\n",
    "y = c2[\"Price(USD)\"]\n",
    "X_train, X_test, y_train, y_test = train_test_split(X, y, test_size=0.3, random_state=42)\n",
    "dtrain = xgb.DMatrix(X_train,label=y_train)\n",
    "dtest = xgb.DMatrix(X_test,label=y_test)\n",
    "model = XGBRegressor(objective='reg:squarederror')\n",
    "model.fit(X_train,y_train)\n",
    "y_pred = model.predict(X_test)\n",
    "xgbc2 = pd.DataFrame()\n",
    "xgbc2[\"Actual\"] = y_test\n",
    "xgbc2[\"Prediction\"] = y_pred\n",
    "xgbc2"
   ]
  },
  {
   "cell_type": "code",
   "execution_count": 896,
   "id": "d1365015",
   "metadata": {},
   "outputs": [
    {
     "name": "stdout",
     "output_type": "stream",
     "text": [
      "Mean Squared Error: 0.00035880034626944063\n",
      "RMSE:  0.018942025928327746\n"
     ]
    }
   ],
   "source": [
    "mse = mean_squared_error(y_test, y_pred)\n",
    "print(f\"Mean Squared Error:\",mse)\n",
    "print(\"RMSE: \", mse**(1/2.0)) "
   ]
  },
  {
   "cell_type": "code",
   "execution_count": 897,
   "id": "b0bd41c9",
   "metadata": {},
   "outputs": [
    {
     "name": "stdout",
     "output_type": "stream",
     "text": [
      "R2 score: 0.9993705325251443\n"
     ]
    }
   ],
   "source": [
    "r2 = r2_score(y_test, y_pred)\n",
    "print(\"R2 score:\",r2)"
   ]
  },
  {
   "cell_type": "markdown",
   "id": "23cd982d",
   "metadata": {},
   "source": [
    "#### JAPAN"
   ]
  },
  {
   "cell_type": "code",
   "execution_count": 898,
   "id": "9b853770",
   "metadata": {
    "scrolled": true
   },
   "outputs": [
    {
     "data": {
      "text/html": [
       "<div>\n",
       "<style scoped>\n",
       "    .dataframe tbody tr th:only-of-type {\n",
       "        vertical-align: middle;\n",
       "    }\n",
       "\n",
       "    .dataframe tbody tr th {\n",
       "        vertical-align: top;\n",
       "    }\n",
       "\n",
       "    .dataframe thead th {\n",
       "        text-align: right;\n",
       "    }\n",
       "</style>\n",
       "<table border=\"1\" class=\"dataframe\">\n",
       "  <thead>\n",
       "    <tr style=\"text-align: right;\">\n",
       "      <th></th>\n",
       "      <th>Actual</th>\n",
       "      <th>Prediction</th>\n",
       "    </tr>\n",
       "  </thead>\n",
       "  <tbody>\n",
       "    <tr>\n",
       "      <th>504</th>\n",
       "      <td>1.41</td>\n",
       "      <td>1.386041</td>\n",
       "    </tr>\n",
       "    <tr>\n",
       "      <th>486</th>\n",
       "      <td>1.36</td>\n",
       "      <td>1.364619</td>\n",
       "    </tr>\n",
       "    <tr>\n",
       "      <th>573</th>\n",
       "      <td>1.38</td>\n",
       "      <td>1.379937</td>\n",
       "    </tr>\n",
       "    <tr>\n",
       "      <th>589</th>\n",
       "      <td>1.39</td>\n",
       "      <td>1.390841</td>\n",
       "    </tr>\n",
       "    <tr>\n",
       "      <th>584</th>\n",
       "      <td>1.39</td>\n",
       "      <td>1.389444</td>\n",
       "    </tr>\n",
       "    <tr>\n",
       "      <th>...</th>\n",
       "      <td>...</td>\n",
       "      <td>...</td>\n",
       "    </tr>\n",
       "    <tr>\n",
       "      <th>564</th>\n",
       "      <td>1.38</td>\n",
       "      <td>1.376687</td>\n",
       "    </tr>\n",
       "    <tr>\n",
       "      <th>597</th>\n",
       "      <td>1.41</td>\n",
       "      <td>1.414140</td>\n",
       "    </tr>\n",
       "    <tr>\n",
       "      <th>674</th>\n",
       "      <td>2.62</td>\n",
       "      <td>2.631978</td>\n",
       "    </tr>\n",
       "    <tr>\n",
       "      <th>657</th>\n",
       "      <td>1.88</td>\n",
       "      <td>1.880240</td>\n",
       "    </tr>\n",
       "    <tr>\n",
       "      <th>591</th>\n",
       "      <td>1.39</td>\n",
       "      <td>1.395291</td>\n",
       "    </tr>\n",
       "  </tbody>\n",
       "</table>\n",
       "<p>72 rows × 2 columns</p>\n",
       "</div>"
      ],
      "text/plain": [
       "     Actual  Prediction\n",
       "504    1.41    1.386041\n",
       "486    1.36    1.364619\n",
       "573    1.38    1.379937\n",
       "589    1.39    1.390841\n",
       "584    1.39    1.389444\n",
       "..      ...         ...\n",
       "564    1.38    1.376687\n",
       "597    1.41    1.414140\n",
       "674    2.62    2.631978\n",
       "657    1.88    1.880240\n",
       "591    1.39    1.395291\n",
       "\n",
       "[72 rows x 2 columns]"
      ]
     },
     "execution_count": 898,
     "metadata": {},
     "output_type": "execute_result"
    }
   ],
   "source": [
    "X = c3[[\"yr\",\"mth\",\"food_item\"]]\n",
    "y = c3[\"Price(USD)\"]\n",
    "X_train, X_test, y_train, y_test = train_test_split(X, y, test_size=0.3, random_state=42)\n",
    "dtrain = xgb.DMatrix(X_train,label=y_train)\n",
    "dtest = xgb.DMatrix(X_test,label=y_test)\n",
    "model = XGBRegressor(objective='reg:squarederror')\n",
    "model.fit(X_train,y_train)\n",
    "y_pred = model.predict(X_test)\n",
    "xgbc3 = pd.DataFrame()\n",
    "xgbc3[\"Actual\"] = y_test\n",
    "xgbc3[\"Prediction\"] = y_pred\n",
    "xgbc3"
   ]
  },
  {
   "cell_type": "code",
   "execution_count": 899,
   "id": "36e9d5d3",
   "metadata": {},
   "outputs": [
    {
     "name": "stdout",
     "output_type": "stream",
     "text": [
      "Mean Squared Error: 7.45415600482115e-05\n",
      "RMSE:  0.008633745424102538\n"
     ]
    }
   ],
   "source": [
    "mse = mean_squared_error(y_test, y_pred)\n",
    "print(f\"Mean Squared Error:\",mse)\n",
    "print(\"RMSE: \", mse**(1/2.0)) "
   ]
  },
  {
   "cell_type": "code",
   "execution_count": 900,
   "id": "059c5da4",
   "metadata": {},
   "outputs": [
    {
     "name": "stdout",
     "output_type": "stream",
     "text": [
      "R2 score: 0.9997890974199513\n"
     ]
    }
   ],
   "source": [
    "r2 = r2_score(y_test, y_pred)\n",
    "print(\"R2 score:\",r2)"
   ]
  },
  {
   "cell_type": "markdown",
   "id": "ef52a6b8",
   "metadata": {},
   "source": [
    "#### SOUTH AFRICA"
   ]
  },
  {
   "cell_type": "code",
   "execution_count": 901,
   "id": "92bc93f4",
   "metadata": {
    "scrolled": true
   },
   "outputs": [
    {
     "data": {
      "text/html": [
       "<div>\n",
       "<style scoped>\n",
       "    .dataframe tbody tr th:only-of-type {\n",
       "        vertical-align: middle;\n",
       "    }\n",
       "\n",
       "    .dataframe tbody tr th {\n",
       "        vertical-align: top;\n",
       "    }\n",
       "\n",
       "    .dataframe thead th {\n",
       "        text-align: right;\n",
       "    }\n",
       "</style>\n",
       "<table border=\"1\" class=\"dataframe\">\n",
       "  <thead>\n",
       "    <tr style=\"text-align: right;\">\n",
       "      <th></th>\n",
       "      <th>Actual</th>\n",
       "      <th>Prediction</th>\n",
       "    </tr>\n",
       "  </thead>\n",
       "  <tbody>\n",
       "    <tr>\n",
       "      <th>744</th>\n",
       "      <td>0.76</td>\n",
       "      <td>0.751448</td>\n",
       "    </tr>\n",
       "    <tr>\n",
       "      <th>726</th>\n",
       "      <td>0.71</td>\n",
       "      <td>0.708970</td>\n",
       "    </tr>\n",
       "    <tr>\n",
       "      <th>813</th>\n",
       "      <td>0.85</td>\n",
       "      <td>0.848216</td>\n",
       "    </tr>\n",
       "    <tr>\n",
       "      <th>829</th>\n",
       "      <td>0.90</td>\n",
       "      <td>0.903652</td>\n",
       "    </tr>\n",
       "    <tr>\n",
       "      <th>824</th>\n",
       "      <td>0.88</td>\n",
       "      <td>0.887792</td>\n",
       "    </tr>\n",
       "    <tr>\n",
       "      <th>...</th>\n",
       "      <td>...</td>\n",
       "      <td>...</td>\n",
       "    </tr>\n",
       "    <tr>\n",
       "      <th>804</th>\n",
       "      <td>0.82</td>\n",
       "      <td>0.821670</td>\n",
       "    </tr>\n",
       "    <tr>\n",
       "      <th>837</th>\n",
       "      <td>0.94</td>\n",
       "      <td>0.935624</td>\n",
       "    </tr>\n",
       "    <tr>\n",
       "      <th>914</th>\n",
       "      <td>0.89</td>\n",
       "      <td>0.891811</td>\n",
       "    </tr>\n",
       "    <tr>\n",
       "      <th>897</th>\n",
       "      <td>1.71</td>\n",
       "      <td>1.697313</td>\n",
       "    </tr>\n",
       "    <tr>\n",
       "      <th>831</th>\n",
       "      <td>0.91</td>\n",
       "      <td>0.909412</td>\n",
       "    </tr>\n",
       "  </tbody>\n",
       "</table>\n",
       "<p>72 rows × 2 columns</p>\n",
       "</div>"
      ],
      "text/plain": [
       "     Actual  Prediction\n",
       "744    0.76    0.751448\n",
       "726    0.71    0.708970\n",
       "813    0.85    0.848216\n",
       "829    0.90    0.903652\n",
       "824    0.88    0.887792\n",
       "..      ...         ...\n",
       "804    0.82    0.821670\n",
       "837    0.94    0.935624\n",
       "914    0.89    0.891811\n",
       "897    1.71    1.697313\n",
       "831    0.91    0.909412\n",
       "\n",
       "[72 rows x 2 columns]"
      ]
     },
     "execution_count": 901,
     "metadata": {},
     "output_type": "execute_result"
    }
   ],
   "source": [
    "X = c4[[\"yr\",\"mth\",\"food_item\"]]\n",
    "y = c4[\"Price(USD)\"]\n",
    "X_train, X_test, y_train, y_test = train_test_split(X, y, test_size=0.3, random_state=42)\n",
    "dtrain = xgb.DMatrix(X_train,label=y_train)\n",
    "dtest = xgb.DMatrix(X_test,label=y_test)\n",
    "model = XGBRegressor(objective='reg:squarederror')\n",
    "model.fit(X_train,y_train)\n",
    "y_pred = model.predict(X_test)\n",
    "xgbc4 = pd.DataFrame()\n",
    "xgbc4[\"Actual\"] = y_test\n",
    "xgbc4[\"Prediction\"] = y_pred\n",
    "xgbc4"
   ]
  },
  {
   "cell_type": "code",
   "execution_count": 902,
   "id": "fc6af0d5",
   "metadata": {},
   "outputs": [
    {
     "name": "stdout",
     "output_type": "stream",
     "text": [
      "Mean Squared Error: 3.64127820939465e-05\n",
      "RMSE:  0.006034300464341041\n"
     ]
    }
   ],
   "source": [
    "mse = mean_squared_error(y_test, y_pred)\n",
    "print(f\"Mean Squared Error:\",mse)\n",
    "print(\"RMSE: \", mse**(1/2.0)) "
   ]
  },
  {
   "cell_type": "code",
   "execution_count": 903,
   "id": "d843a972",
   "metadata": {},
   "outputs": [
    {
     "name": "stdout",
     "output_type": "stream",
     "text": [
      "R2 score: 0.9996251471502154\n"
     ]
    }
   ],
   "source": [
    "r2 = r2_score(y_test, y_pred)\n",
    "print(\"R2 score:\",r2)"
   ]
  },
  {
   "cell_type": "markdown",
   "id": "a6587527",
   "metadata": {},
   "source": [
    "#### CANADA"
   ]
  },
  {
   "cell_type": "code",
   "execution_count": 904,
   "id": "9c45f174",
   "metadata": {},
   "outputs": [
    {
     "data": {
      "text/html": [
       "<div>\n",
       "<style scoped>\n",
       "    .dataframe tbody tr th:only-of-type {\n",
       "        vertical-align: middle;\n",
       "    }\n",
       "\n",
       "    .dataframe tbody tr th {\n",
       "        vertical-align: top;\n",
       "    }\n",
       "\n",
       "    .dataframe thead th {\n",
       "        text-align: right;\n",
       "    }\n",
       "</style>\n",
       "<table border=\"1\" class=\"dataframe\">\n",
       "  <thead>\n",
       "    <tr style=\"text-align: right;\">\n",
       "      <th></th>\n",
       "      <th>Actual</th>\n",
       "      <th>Prediction</th>\n",
       "    </tr>\n",
       "  </thead>\n",
       "  <tbody>\n",
       "    <tr>\n",
       "      <th>984</th>\n",
       "      <td>2.30</td>\n",
       "      <td>2.288450</td>\n",
       "    </tr>\n",
       "    <tr>\n",
       "      <th>966</th>\n",
       "      <td>2.21</td>\n",
       "      <td>2.204307</td>\n",
       "    </tr>\n",
       "    <tr>\n",
       "      <th>1053</th>\n",
       "      <td>1.95</td>\n",
       "      <td>1.951265</td>\n",
       "    </tr>\n",
       "    <tr>\n",
       "      <th>1069</th>\n",
       "      <td>2.03</td>\n",
       "      <td>2.044279</td>\n",
       "    </tr>\n",
       "    <tr>\n",
       "      <th>1064</th>\n",
       "      <td>2.00</td>\n",
       "      <td>2.008363</td>\n",
       "    </tr>\n",
       "    <tr>\n",
       "      <th>...</th>\n",
       "      <td>...</td>\n",
       "      <td>...</td>\n",
       "    </tr>\n",
       "    <tr>\n",
       "      <th>1044</th>\n",
       "      <td>1.94</td>\n",
       "      <td>1.935914</td>\n",
       "    </tr>\n",
       "    <tr>\n",
       "      <th>1077</th>\n",
       "      <td>2.09</td>\n",
       "      <td>2.090317</td>\n",
       "    </tr>\n",
       "    <tr>\n",
       "      <th>1154</th>\n",
       "      <td>2.22</td>\n",
       "      <td>2.222439</td>\n",
       "    </tr>\n",
       "    <tr>\n",
       "      <th>1137</th>\n",
       "      <td>3.23</td>\n",
       "      <td>3.223253</td>\n",
       "    </tr>\n",
       "    <tr>\n",
       "      <th>1071</th>\n",
       "      <td>2.05</td>\n",
       "      <td>2.044610</td>\n",
       "    </tr>\n",
       "  </tbody>\n",
       "</table>\n",
       "<p>72 rows × 2 columns</p>\n",
       "</div>"
      ],
      "text/plain": [
       "      Actual  Prediction\n",
       "984     2.30    2.288450\n",
       "966     2.21    2.204307\n",
       "1053    1.95    1.951265\n",
       "1069    2.03    2.044279\n",
       "1064    2.00    2.008363\n",
       "...      ...         ...\n",
       "1044    1.94    1.935914\n",
       "1077    2.09    2.090317\n",
       "1154    2.22    2.222439\n",
       "1137    3.23    3.223253\n",
       "1071    2.05    2.044610\n",
       "\n",
       "[72 rows x 2 columns]"
      ]
     },
     "execution_count": 904,
     "metadata": {},
     "output_type": "execute_result"
    }
   ],
   "source": [
    "X = c5[[\"yr\",\"mth\",\"food_item\"]]\n",
    "y = c5[\"Price(USD)\"]\n",
    "X_train, X_test, y_train, y_test = train_test_split(X, y, test_size=0.3, random_state=42)\n",
    "dtrain = xgb.DMatrix(X_train,label=y_train)\n",
    "dtest = xgb.DMatrix(X_test,label=y_test)\n",
    "model = XGBRegressor(objective='reg:squarederror')\n",
    "model.fit(X_train,y_train)\n",
    "y_pred = model.predict(X_test)\n",
    "xgbc5 = pd.DataFrame()\n",
    "xgbc5[\"Actual\"] = y_test\n",
    "xgbc5[\"Prediction\"] = y_pred\n",
    "xgbc5"
   ]
  },
  {
   "cell_type": "code",
   "execution_count": 905,
   "id": "238fbd42",
   "metadata": {},
   "outputs": [
    {
     "name": "stdout",
     "output_type": "stream",
     "text": [
      "Mean Squared Error: 5.576381481648082e-05\n",
      "RMSE:  0.007467517312767398\n"
     ]
    }
   ],
   "source": [
    "mse = mean_squared_error(y_test, y_pred)\n",
    "print(f\"Mean Squared Error:\",mse)\n",
    "print(\"RMSE: \", mse**(1/2.0)) "
   ]
  },
  {
   "cell_type": "code",
   "execution_count": 906,
   "id": "0b023ae2",
   "metadata": {},
   "outputs": [
    {
     "name": "stdout",
     "output_type": "stream",
     "text": [
      "R2 score: 0.99966150609612\n"
     ]
    }
   ],
   "source": [
    "r2 = r2_score(y_test, y_pred)\n",
    "print(\"R2 score:\",r2)"
   ]
  },
  {
   "cell_type": "markdown",
   "id": "6afcbed9",
   "metadata": {},
   "source": [
    "### VISUALISATION"
   ]
  },
  {
   "cell_type": "code",
   "execution_count": null,
   "id": "89447fea",
   "metadata": {},
   "outputs": [],
   "source": [
    "import numpy as np\n",
    "import matplotlib.pyplot as plt\n",
    "\n",
    "# Initialize the models\n",
    "models = [\n",
    "    LinearRegression(),\n",
    "    Ridge(alpha=1.0),\n",
    "    Lasso(alpha=0.1),\n",
    "    DecisionTreeRegressor(),\n",
    "    RandomForestRegressor()\n",
    "]\n",
    "\n",
    "model_names = [\n",
    "    'Linear Regression',\n",
    "    'Ridge',\n",
    "    'Lasso',\n",
    "    'Decision Tree',\n",
    "    'Random Forest'\n",
    "]\n",
    "\n",
    "# Train and evaluate the models\n",
    "plt.figure(figsize=(10, 6))\n",
    "for model, name in zip(models, model_names):\n",
    "    model.fit(X_train, y_train)\n",
    "    y_train_pred = model.predict(X_train)\n",
    "    y_test_pred = model.predict(X_test)\n",
    "\n",
    "    plt.plot(X_train, y_train_pred, label=f'{name} - Train')\n",
    "    plt.plot(X_test, y_test_pred, label=f'{name} - Test')\n",
    "\n",
    "# Plot the actual data\n",
    "plt.scatter(X_train, y_train, color='black', marker='o', label='Actual - Train', alpha=0.5)\n",
    "plt.scatter(X_test, y_test, color='red', marker='x', label='Actual - Test', alpha=0.5)\n",
    "\n",
    "plt.xlabel('X')\n",
    "plt.ylabel('y')\n",
    "plt.title('Comparison of Machine Learning Models')\n",
    "plt.legend()\n",
    "plt.show()\n"
   ]
  }
 ],
 "metadata": {
  "kernelspec": {
   "display_name": "Python 3 (ipykernel)",
   "language": "python",
   "name": "python3"
  },
  "language_info": {
   "codemirror_mode": {
    "name": "ipython",
    "version": 3
   },
   "file_extension": ".py",
   "mimetype": "text/x-python",
   "name": "python",
   "nbconvert_exporter": "python",
   "pygments_lexer": "ipython3",
   "version": "3.10.9"
  }
 },
 "nbformat": 4,
 "nbformat_minor": 5
}
