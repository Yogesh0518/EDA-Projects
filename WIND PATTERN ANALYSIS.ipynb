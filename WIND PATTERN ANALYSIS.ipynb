{
 "cells": [
  {
   "cell_type": "code",
   "execution_count": null,
   "id": "c4900b90",
   "metadata": {},
   "outputs": [],
   "source": [
    "import pandas as pd\n",
    "df1 = pd.read_table(r\"C:\\Users\\lette\\OneDrive\\Documents\\LIDAR DATA\\Lidar1718.txt\",delimiter='\\t',encoding='latin1')\n",
    "df1.drop(df1.columns[[2,4,6,8,10,17]], axis=1,inplace=True)\n",
    "df1=df1.rename(columns={'Pressure [mbar]':'Pressure 5m [mbar]'})\n",
    "df1.index.is_unique"
   ]
  },
  {
   "cell_type": "code",
   "execution_count": null,
   "id": "e644bf8c",
   "metadata": {},
   "outputs": [],
   "source": [
    "df1.isnull().sum()"
   ]
  },
  {
   "cell_type": "code",
   "execution_count": null,
   "id": "8b556c67",
   "metadata": {},
   "outputs": [],
   "source": [
    "df2 = pd.read_table(r\"C:\\Users\\lette\\OneDrive\\Documents\\LIDAR DATA\\Lidar1819.txt\",delimiter='\\t',encoding='latin1')\n",
    "df2.drop(df2.columns[[6,13]], axis=1,inplace=True)\n",
    "df2=df2.rename(columns={'Hum 5m':'Hum 5m [%]'})\n",
    "df2.index.is_unique"
   ]
  },
  {
   "cell_type": "code",
   "execution_count": null,
   "id": "a89718f1",
   "metadata": {},
   "outputs": [],
   "source": [
    "df = pd.concat([df1, df2],axis=0,ignore_index=True)\n",
    "df"
   ]
  },
  {
   "cell_type": "code",
   "execution_count": null,
   "id": "bff98a16",
   "metadata": {},
   "outputs": [],
   "source": []
  },
  {
   "cell_type": "code",
   "execution_count": null,
   "id": "b288369a",
   "metadata": {},
   "outputs": [],
   "source": [
    "df.index.is_unique"
   ]
  },
  {
   "cell_type": "code",
   "execution_count": null,
   "id": "75d15151",
   "metadata": {},
   "outputs": [],
   "source": [
    "df['Year'] = pd.DatetimeIndex(df['Date/Time']).year\n",
    "df['Month'] = pd.DatetimeIndex(df['Date/Time']).month\n",
    "df['Date'] = pd.DatetimeIndex(df['Date/Time']).day\n",
    "df['Time'] = pd.DatetimeIndex(df['Date/Time']).time\n",
    "df['Hour'] = pd.DatetimeIndex(df['Date/Time']).hour\n",
    "df"
   ]
  },
  {
   "cell_type": "code",
   "execution_count": null,
   "id": "90bf0496",
   "metadata": {},
   "outputs": [],
   "source": [
    "df.isnull().sum().sum()"
   ]
  },
  {
   "cell_type": "code",
   "execution_count": null,
   "id": "015c0681",
   "metadata": {
    "scrolled": true
   },
   "outputs": [],
   "source": [
    "df.isnull().sum()"
   ]
  },
  {
   "cell_type": "code",
   "execution_count": null,
   "id": "3505f9fb",
   "metadata": {},
   "outputs": [],
   "source": [
    "df.fillna(df.mean(numeric_only=True).round(1), inplace=True)"
   ]
  },
  {
   "cell_type": "code",
   "execution_count": null,
   "id": "af713cb4",
   "metadata": {},
   "outputs": [],
   "source": [
    "df.isnull().sum().sum()"
   ]
  },
  {
   "cell_type": "code",
   "execution_count": null,
   "id": "ca238c75",
   "metadata": {},
   "outputs": [],
   "source": []
  },
  {
   "cell_type": "code",
   "execution_count": null,
   "id": "f3aac14f",
   "metadata": {},
   "outputs": [],
   "source": [
    "cols=df.columns.to_list()\n",
    "cols"
   ]
  },
  {
   "cell_type": "code",
   "execution_count": null,
   "id": "d3df2b58",
   "metadata": {},
   "outputs": [],
   "source": [
    "df=df[['Date/Time',\n",
    " 'Year',\n",
    " 'Month',\n",
    " 'Date',\n",
    " 'Hour',\n",
    " '100m_N Avg [m/s]',\n",
    " '100m_S Avg [m/s]',\n",
    " '80m Avg [m/s]',\n",
    " '50m Avg [m/s]',\n",
    " '20m Avg [m/s]',\n",
    " 'Pressure 5m [mbar]',\n",
    " '98m WV [°]',\n",
    " '78m WV [°]',\n",
    " '48m WV [°]',\n",
    " 'Temp 5m [°C]',\n",
    " 'Hum 5m [%]'\n",
    "]]\n",
    "df"
   ]
  },
  {
   "cell_type": "code",
   "execution_count": null,
   "id": "cdc26e09",
   "metadata": {},
   "outputs": [],
   "source": [
    "df.isnull().sum().sum()"
   ]
  },
  {
   "cell_type": "code",
   "execution_count": null,
   "id": "17d23765",
   "metadata": {},
   "outputs": [],
   "source": [
    "df.set_index('Date/Time')"
   ]
  },
  {
   "cell_type": "code",
   "execution_count": null,
   "id": "f59727ed",
   "metadata": {},
   "outputs": [],
   "source": []
  },
  {
   "cell_type": "code",
   "execution_count": null,
   "id": "5a62e78f",
   "metadata": {},
   "outputs": [],
   "source": [
    "import seaborn as sns  \n",
    "import matplotlib.pyplot as plt\n",
    "plt.figure(figsize=(11,6))\n",
    "sns.heatmap(df.corr(),annot=True)"
   ]
  },
  {
   "cell_type": "markdown",
   "id": "d505830f",
   "metadata": {},
   "source": [
    "<b>MONTHLY"
   ]
  },
  {
   "cell_type": "code",
   "execution_count": null,
   "id": "a1d9e8b4",
   "metadata": {},
   "outputs": [],
   "source": [
    "sns.set()\n",
    "#define plotting region (2 rows, 2 columns)\n",
    "fig, axes = plt.subplots(2, 2,figsize=(11,9))\n",
    "\n",
    "#create lineplot in each subplot\n",
    "d1=sns.lineplot(data=df, x='Month', y='100m_N Avg [m/s]',ax=axes[0,0],color='r')\n",
    "d1.set_xticks(range(1,13))\n",
    "d2=sns.lineplot(data=df, x='Month', y='80m Avg [m/s]',ax=axes[0,1],color='b')\n",
    "d2.set_xticks(range(1,13))\n",
    "d3=sns.lineplot(data=df, x='Month', y='50m Avg [m/s]',ax=axes[1,0],color='g')\n",
    "d3.set_xticks(range(1,13))\n",
    "d4=sns.lineplot(data=df, x='Month', y='20m Avg [m/s]', ax=axes[1,1],color='k')\n",
    "d4.set_xticks(range(1,13))"
   ]
  },
  {
   "cell_type": "markdown",
   "id": "dc68f988",
   "metadata": {},
   "source": [
    "Wind speed at its peak in the month of June and July(2018 among all); increasing from may to June, same till July and gradually decreases till November and increases in December."
   ]
  },
  {
   "cell_type": "markdown",
   "id": "91a1046b",
   "metadata": {},
   "source": [
    "<b>YEARLY"
   ]
  },
  {
   "cell_type": "code",
   "execution_count": null,
   "id": "b3bc927a",
   "metadata": {},
   "outputs": [],
   "source": [
    "sns.set()\n",
    "#define plotting region (2 rows, 2 columns)\n",
    "fig, axes = plt.subplots(2, 2,figsize=(11,9))\n",
    "\n",
    "#create lineplot in each subplot\n",
    "d1=sns.barplot(data=df, x='Month', y='100m_N Avg [m/s]',hue='Year',ax=axes[0,0],palette=['red','orange','black'])\n",
    "d1.set_xticks(range(1,13))\n",
    "d2=sns.barplot(data=df, x='Month', y='80m Avg [m/s]',hue='Year',ax=axes[0,1],palette=['green','cyan','black'])\n",
    "d2.set_xticks(range(1,13))\n",
    "d3=sns.barplot(data=df, x='Month', y='50m Avg [m/s]',hue='Year',ax=axes[1,0],palette=['black','orange','black'])\n",
    "d3.set_xticks(range(1,13))\n",
    "d4=sns.barplot(data=df, x='Month', y='20m Avg [m/s]',hue='Year', ax=axes[1,1],palette=['yellow','brown','black'])\n",
    "d4.set_xticks(range(1,13))"
   ]
  },
  {
   "cell_type": "markdown",
   "id": "88e09ffc",
   "metadata": {},
   "source": [
    "<b>DATEWISE"
   ]
  },
  {
   "cell_type": "code",
   "execution_count": null,
   "id": "803dfd71",
   "metadata": {},
   "outputs": [],
   "source": [
    "sns.set()\n",
    "#define plotting region (2 rows, 2 columns)\n",
    "fig, axes = plt.subplots(2, 2,figsize=(18,9))\n",
    "\n",
    "#create lineplot in each subplot\n",
    "d1=sns.lineplot(data=df, x='Date', y='100m_N Avg [m/s]',hue='Year',ax=axes[0,0],palette=['red','orange','blue'])\n",
    "d1.set_xticks(range(0,32))\n",
    "d2=sns.lineplot(data=df, x='Date', y='80m Avg [m/s]',hue='Year',ax=axes[0,1],palette=['green','cyan','black'])\n",
    "d2.set_xticks(range(0,32))\n",
    "d3=sns.lineplot(data=df, x='Date', y='50m Avg [m/s]',hue='Year',ax=axes[1,0],palette=['black','orange','red'])\n",
    "d3.set_xticks(range(0,32))\n",
    "d4=sns.lineplot(data=df, x='Date', y='20m Avg [m/s]',hue='Year', ax=axes[1,1],palette=['violet','green','brown'])\n",
    "d4.set_xticks(range(0,32))"
   ]
  },
  {
   "cell_type": "markdown",
   "id": "ce97d321",
   "metadata": {},
   "source": [
    "<b>HOURLY"
   ]
  },
  {
   "cell_type": "code",
   "execution_count": null,
   "id": "eef912a0",
   "metadata": {},
   "outputs": [],
   "source": [
    "sns.set()\n",
    "#define plotting region (2 rows, 2 columns)\n",
    "fig, axes = plt.subplots(2, 2,figsize=(17,9))\n",
    "\n",
    "#create lineplot in each subplot\n",
    "d1=sns.lineplot(data=df, x='Hour', y='100m_N Avg [m/s]',hue='Year',ax=axes[0,0],ci=None,palette=['red','blue','yellow'])\n",
    "d1.set_xticks(range(0,25))\n",
    "d2=sns.lineplot(data=df, x='Hour', y='80m Avg [m/s]',hue='Year',ax=axes[0,1],ci=None,palette=['green','cyan','black'])\n",
    "d2.set_xticks(range(0,25))\n",
    "d3=sns.lineplot(data=df, x='Hour', y='50m Avg [m/s]',hue='Year',ax=axes[1,0],ci=None,palette=['black','orange','red'])\n",
    "d3.set_xticks(range(0,25))\n",
    "d4=sns.lineplot(data=df, x='Hour', y='20m Avg [m/s]',hue='Year', ax=axes[1,1],ci=None,palette=['violet','green','brown'])\n",
    "d4.set_xticks(range(0,25))"
   ]
  },
  {
   "cell_type": "markdown",
   "id": "437f0710",
   "metadata": {},
   "source": [
    "<b>CORRELATION PLOT BETWEEN SPEED IN 100m AND 80m"
   ]
  },
  {
   "cell_type": "code",
   "execution_count": null,
   "id": "4b7a6493",
   "metadata": {},
   "outputs": [],
   "source": [
    "plt.figure(figsize=(20, 6))\n",
    "p2 = sns.lmplot(x='100m_N Avg [m/s]', y='80m Avg [m/s]', data=df);"
   ]
  },
  {
   "cell_type": "code",
   "execution_count": null,
   "id": "66de2f02",
   "metadata": {},
   "outputs": [],
   "source": [
    "import pandas\n",
    "import matplotlib.pylab as plt\n",
    "import seaborn as sns\n",
    "import numpy as np\n",
    "\n",
    "plt.rcParams[\"figure.figsize\"] = [10, 5]\n",
    "plt.rcParams[\"figure.autolayout\"] = True\n",
    "\n",
    "sns.regplot(x='100m_N Avg [m/s]', y='80m Avg [m/s]', data=df, scatter_kws={\"color\": \"green\"}, line_kws={\"color\": \"red\"})\n",
    "\n",
    "plt.show()"
   ]
  },
  {
   "cell_type": "code",
   "execution_count": null,
   "id": "2e128641",
   "metadata": {},
   "outputs": [],
   "source": [
    "#speed= pd.DataFrame().assign(100m =df['100m_N Avg [m/s]'], 80m=df['80m Avg [m/s]'], 50m=df['50m Avg [m/s]'], 20m='20m Avg [m/s]')\n",
    "speed=df[[\"100m_N Avg [m/s]\",\"20m Avg [m/s]\",\"Temp 5m [°C]\",\"Pressure 5m [mbar]\"]].copy()\n",
    "speed"
   ]
  },
  {
   "cell_type": "code",
   "execution_count": null,
   "id": "1260a91b",
   "metadata": {},
   "outputs": [],
   "source": [
    "#sns.pairplot(speed, kind=\"kde\")"
   ]
  },
  {
   "cell_type": "code",
   "execution_count": null,
   "id": "ca60b01a",
   "metadata": {},
   "outputs": [],
   "source": [
    "#sns.pairplot(speed, kind=\"scatter\")"
   ]
  },
  {
   "cell_type": "code",
   "execution_count": null,
   "id": "e6584559",
   "metadata": {},
   "outputs": [],
   "source": [
    "import numpy as np\n",
    "import pandas as pd\n",
    "from sklearn.linear_model import LinearRegression\n",
    "from sklearn.metrics import r2_score\n",
    "from sklearn.model_selection import train_test_split\n",
    "from sklearn.metrics import mean_squared_error\n",
    "\n",
    "# Separate features and target variable\n",
    "X = speed[['20m Avg [m/s]',\"Temp 5m [°C]\",\"Pressure 5m [mbar]\"]]  # Replace with the appropriate column names\n",
    "y = speed['100m_N Avg [m/s]']  # Replace 'target' with the appropriate column name\n",
    "\n",
    "# Split the data into training and testing sets\n",
    "X_train, X_test, y_train, y_test = train_test_split(X, y, test_size=0.5, random_state=42)\n",
    "\n",
    "# Create and fit the linear regression model\n",
    "model = LinearRegression()\n",
    "model.fit(X_train, y_train)\n",
    "\n",
    "# Predict on new data\n",
    "new_data = np.array([[3.458,-30.0,8.1]])  # Replace with the values of your new data\n",
    "prediction = model.predict(new_data)\n",
    "print(prediction)\n",
    "\n",
    "y_pred = model.predict(X_test)\n",
    "mse = mean_squared_error(y_test, y_pred)\n",
    "print(\"RMSE:\", mse**(1/2.0))"
   ]
  },
  {
   "cell_type": "code",
   "execution_count": null,
   "id": "3a5d8727",
   "metadata": {},
   "outputs": [],
   "source": [
    "sns.regplot(x=y_test,y=y_pred,ci=None,scatter_kws={\"color\": \"green\"}, line_kws={\"color\": \"red\"})"
   ]
  },
  {
   "cell_type": "markdown",
   "id": "58c70780",
   "metadata": {},
   "source": [
    "# Random Forest"
   ]
  },
  {
   "cell_type": "code",
   "execution_count": null,
   "id": "5f4ea837",
   "metadata": {},
   "outputs": [],
   "source": [
    "import pandas as pd\n",
    "from sklearn.ensemble import RandomForestRegressor\n",
    "from sklearn.metrics import mean_squared_error\n",
    "from sklearn.model_selection import train_test_split\n",
    "\n",
    "X = speed[[\"20m Avg [m/s]\",\"Temp 5m [°C]\",\"Pressure 5m [mbar]\"]]  # Replace with the appropriate column names\n",
    "y = speed[\"100m_N Avg [m/s]\"]  # Replace 'target' with the appropriate column name\n",
    "X_train, X_test, y_train, y_test = train_test_split(X, y, test_size=0.2, random_state=42)\n",
    "\n",
    "# Create and fit the random forest regression model\n",
    "model = RandomForestRegressor()\n",
    "model.fit(X_train, y_train)\n",
    "\n",
    "# Evaluate the model\n",
    "y_pred = model.predict(X_test)\n",
    "mse = mean_squared_error(y_test, y_pred)\n",
    "print(\"Root Mean Squared Error:\",mse**(1/2.0)) "
   ]
  },
  {
   "cell_type": "code",
   "execution_count": null,
   "id": "0f6450e1",
   "metadata": {},
   "outputs": [],
   "source": [
    "plt.scatter(y_test, y_pred, color='k', alpha=0.5)\n",
    "plt.plot([min(y_test), max(y_test)], [min(y_test), max(y_test)], color='r')  # Plotting the diagonal line\n",
    "plt.xlabel('Actual')\n",
    "plt.ylabel('Predicted')\n",
    "plt.title('Predicted vs. Actual')\n",
    "plt.show()"
   ]
  },
  {
   "cell_type": "markdown",
   "id": "2806a888",
   "metadata": {},
   "source": [
    "### Feature Importance"
   ]
  },
  {
   "cell_type": "code",
   "execution_count": null,
   "id": "7af8ce88",
   "metadata": {},
   "outputs": [],
   "source": [
    "model = RandomForestRegressor()\n",
    "model.fit(X, y)\n",
    "\n",
    "# Get feature importances\n",
    "importances = model.feature_importances_\n",
    "feature_names = X.columns\n",
    "\n",
    "# Sort the feature importances in descending order\n",
    "indices = np.argsort(importances)[::-1]\n",
    "\n",
    "# Plot the feature importances\n",
    "plt.figure()\n",
    "plt.title(\"Feature Importance\")\n",
    "plt.bar(range(X.shape[1]), importances[indices], align=\"center\")\n",
    "plt.xticks(range(X.shape[1]), feature_names[indices], rotation=90)\n",
    "plt.tight_layout()\n",
    "plt.show()model = RandomForestRegressor()\n",
    "model.fit(X, y)\n",
    "\n",
    "# Get feature importances\n",
    "importances = model.feature_importances_\n",
    "feature_names = X.columns\n",
    "\n",
    "# Sort the feature importances in descending order\n",
    "indices = np.argsort(importances)[::-1]\n",
    "\n",
    "# Plot the feature importances\n",
    "plt.figure()\n",
    "plt.title(\"Feature Importance\")\n",
    "plt.bar(range(X.shape[1]), importances[indices], align=\"center\")\n",
    "plt.xticks(range(X.shape[1]), feature_names[indices], rotation=90)\n",
    "plt.tight_layout()\n",
    "plt.show()"
   ]
  },
  {
   "cell_type": "code",
   "execution_count": null,
   "id": "06328597",
   "metadata": {},
   "outputs": [],
   "source": [
    "import xgboost as xgb\n",
    "from sklearn.model_selection import train_test_split\n",
    "from sklearn.metrics import mean_squared_error\n",
    "\n",
    "X = speed.drop('WindSpeed300m m/s', axis=1)\n",
    "y = speed['WindSpeed300m m/s']  # Replace 'target' with the appropriate column name\n",
    "\n",
    "X_train, X_test, y_train, y_test = train_test_split(X, y, test_size=0.2, random_state=42)\n",
    "\n",
    "dtrain = xgb.DMatrix(X_train, label=y_train)\n",
    "dtest = xgb.DMatrix(X_test, label=y_test)\n",
    "y_pred = model.predict(dtest)"
   ]
  },
  {
   "cell_type": "code",
   "execution_count": null,
   "id": "abb4ef9b",
   "metadata": {},
   "outputs": [],
   "source": [
    "params = {\n",
    "    'objective': 'reg:squarederror',  # Use 'reg:squarederror' for regression\n",
    "    'max_depth': 3,  # Adjust the maximum depth of each tree\n",
    "    'eta': 0.1,  # Adjust the learning rate\n",
    "    'eval_metric': 'rmse'  # Root Mean Squared Error (RMSE) as the evaluation metric\n",
    "}"
   ]
  },
  {
   "cell_type": "code",
   "execution_count": null,
   "id": "c752a481",
   "metadata": {},
   "outputs": [],
   "source": [
    "num_rounds = 100  # Adjust the number of boosting rounds\n",
    "model = xgb.train(params, dtrain, num_rounds)"
   ]
  },
  {
   "cell_type": "code",
   "execution_count": null,
   "id": "464eecd4",
   "metadata": {},
   "outputs": [],
   "source": [
    "feature1 = float(input(\"20m\"))\n",
    "feature2 = float(input(\"Temperature\"))\n",
    "feature3 = float(input(\"Pressure\"))\n",
    "user_input = pd.DataFrame({'20m Avg [m/s]': [feature1], 'Temp 5m [°C]': [feature2],'Pressure 5m [mbar]': [feature3]})\n",
    "duser = xgb.DMatrix(user_input)"
   ]
  },
  {
   "cell_type": "code",
   "execution_count": null,
   "id": "4ef95786",
   "metadata": {},
   "outputs": [],
   "source": [
    "prediction = model.predict(duser)\n",
    "print(f\"Prediction: {prediction[0]}\")"
   ]
  },
  {
   "cell_type": "code",
   "execution_count": null,
   "id": "8481869b",
   "metadata": {},
   "outputs": [],
   "source": []
  },
  {
   "cell_type": "code",
   "execution_count": null,
   "id": "d7a234b4",
   "metadata": {},
   "outputs": [],
   "source": []
  },
  {
   "cell_type": "code",
   "execution_count": null,
   "id": "1e2171af",
   "metadata": {},
   "outputs": [],
   "source": []
  },
  {
   "cell_type": "code",
   "execution_count": null,
   "id": "9b5abec0",
   "metadata": {},
   "outputs": [],
   "source": []
  },
  {
   "cell_type": "code",
   "execution_count": null,
   "id": "c81f4ceb",
   "metadata": {},
   "outputs": [],
   "source": []
  },
  {
   "cell_type": "code",
   "execution_count": null,
   "id": "7f90e5f0",
   "metadata": {},
   "outputs": [],
   "source": []
  },
  {
   "cell_type": "code",
   "execution_count": null,
   "id": "0c63b74c",
   "metadata": {},
   "outputs": [],
   "source": []
  },
  {
   "cell_type": "code",
   "execution_count": null,
   "id": "01658b59",
   "metadata": {},
   "outputs": [],
   "source": []
  }
 ],
 "metadata": {
  "kernelspec": {
   "display_name": "Python 3 (ipykernel)",
   "language": "python",
   "name": "python3"
  },
  "language_info": {
   "codemirror_mode": {
    "name": "ipython",
    "version": 3
   },
   "file_extension": ".py",
   "mimetype": "text/x-python",
   "name": "python",
   "nbconvert_exporter": "python",
   "pygments_lexer": "ipython3",
   "version": "3.10.9"
  }
 },
 "nbformat": 4,
 "nbformat_minor": 5
}
